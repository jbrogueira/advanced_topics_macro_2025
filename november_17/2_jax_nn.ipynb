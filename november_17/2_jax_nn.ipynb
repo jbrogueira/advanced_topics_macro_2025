{
 "cells": [
  {
   "cell_type": "markdown",
   "id": "f86fbdc5",
   "metadata": {},
   "source": [
    "# Neural Network Regression with JAX and Optax\n",
    "\n",
    "**Prepared for the Bank of Portugal Computational Economics Course (Oct 2025)**\n",
    "\n",
    "**Author:** [John Stachurski](https://johnstachurski.net)"
   ]
  },
  {
   "cell_type": "markdown",
   "id": "16c2c890",
   "metadata": {},
   "source": [
    "# Introduction\n",
    "\n",
    "In a previous lecture, we showed how to implement regression using a neural\n",
    "network via the deep learning library [Keras](https://keras.io/).\n",
    "\n",
    "In this lecture, we solve the same problem directly, using JAX operations rather than relying on the Keras frontend.\n",
    "\n",
    "The objective is to understand the nuts and bolts of the exercise better, as\n",
    "well as to explore more features of JAX.\n",
    "\n",
    "The lecture proceeds in three stages:\n",
    "\n",
    "1. We repeat the Keras exercise, to give ourselves a benchmark.  \n",
    "1. We solve the same problem in pure JAX, using pytree operations and gradient descent.  \n",
    "1. We solve the same problem using a combination of JAX and [Optax](https://optax.readthedocs.io/en/latest/index.html), an optimization library build for JAX.  \n",
    "\n",
    "\n",
    "We begin with imports and installs."
   ]
  },
  {
   "cell_type": "code",
   "execution_count": 1,
   "id": "17b28cc1",
   "metadata": {
    "execution": {
     "iopub.execute_input": "2025-10-07T04:50:36.398062Z",
     "iopub.status.busy": "2025-10-07T04:50:36.397493Z",
     "iopub.status.idle": "2025-10-07T04:50:36.875007Z",
     "shell.execute_reply": "2025-10-07T04:50:36.874512Z"
    },
    "hide-output": false
   },
   "outputs": [],
   "source": [
    "import numpy as np\n",
    "import jax\n",
    "import jax.numpy as jnp\n",
    "import matplotlib.pyplot as plt\n",
    "import os\n",
    "from time import time"
   ]
  },
  {
   "cell_type": "code",
   "execution_count": 2,
   "id": "7bedc49b",
   "metadata": {
    "execution": {
     "iopub.execute_input": "2025-10-07T04:50:36.876560Z",
     "iopub.status.busy": "2025-10-07T04:50:36.876344Z",
     "iopub.status.idle": "2025-10-07T04:50:36.878469Z",
     "shell.execute_reply": "2025-10-07T04:50:36.878232Z"
    },
    "hide-output": false
   },
   "outputs": [],
   "source": [
    "#!pip install keras  # Uncomment if not installed"
   ]
  },
  {
   "cell_type": "code",
   "execution_count": 3,
   "id": "80f6cfce",
   "metadata": {
    "execution": {
     "iopub.execute_input": "2025-10-07T04:50:36.879632Z",
     "iopub.status.busy": "2025-10-07T04:50:36.879491Z",
     "iopub.status.idle": "2025-10-07T04:50:36.881652Z",
     "shell.execute_reply": "2025-10-07T04:50:36.881351Z"
    },
    "hide-output": false
   },
   "outputs": [],
   "source": [
    "#!pip install optax  # Uncomment if not installed"
   ]
  },
  {
   "cell_type": "code",
   "execution_count": 4,
   "id": "8bef8478",
   "metadata": {
    "execution": {
     "iopub.execute_input": "2025-10-07T04:50:36.883101Z",
     "iopub.status.busy": "2025-10-07T04:50:36.882676Z",
     "iopub.status.idle": "2025-10-07T04:50:36.884874Z",
     "shell.execute_reply": "2025-10-07T04:50:36.884538Z"
    },
    "hide-output": false
   },
   "outputs": [],
   "source": [
    "os.environ['KERAS_BACKEND'] = 'jax'"
   ]
  },
  {
   "cell_type": "markdown",
   "id": "eb10965a",
   "metadata": {},
   "source": [
    "(Without setting the backend to JAX, the imports below might fail – unless you have PyTorch or Tensorflow set up. If you have problems running the next cell in Jupyter, try quitting, running export KERAS_BACKEND=\"jax\" and then starting Jupyter on the command line from the same terminal.)"
   ]
  },
  {
   "cell_type": "code",
   "execution_count": 5,
   "id": "866108d9",
   "metadata": {
    "execution": {
     "iopub.execute_input": "2025-10-07T04:50:36.886200Z",
     "iopub.status.busy": "2025-10-07T04:50:36.886047Z",
     "iopub.status.idle": "2025-10-07T04:50:37.649217Z",
     "shell.execute_reply": "2025-10-07T04:50:37.648829Z"
    },
    "hide-output": false
   },
   "outputs": [],
   "source": [
    "import keras\n",
    "from keras import Sequential\n",
    "from keras.layers import Dense\n",
    "import optax"
   ]
  },
  {
   "cell_type": "markdown",
   "id": "95592056",
   "metadata": {},
   "source": [
    "## Set Up\n",
    "\n",
    "Let’s hardcode some of the learning-related constants we’ll use across all\n",
    "implementations."
   ]
  },
  {
   "cell_type": "code",
   "execution_count": 6,
   "id": "370f7be1",
   "metadata": {
    "execution": {
     "iopub.execute_input": "2025-10-07T04:50:37.650851Z",
     "iopub.status.busy": "2025-10-07T04:50:37.650559Z",
     "iopub.status.idle": "2025-10-07T04:50:37.653022Z",
     "shell.execute_reply": "2025-10-07T04:50:37.652741Z"
    },
    "hide-output": false
   },
   "outputs": [],
   "source": [
    "class Config:\n",
    "    epochs = 4000           # Number of passes through the data set\n",
    "    data_size = 400         # Sample size\n",
    "    num_layers = 4          # Depth of the network\n",
    "    output_dim = 10         # Output dimension of input and hidden layers\n",
    "    learning_rate = 0.001   # Learning rate for gradient descent"
   ]
  },
  {
   "cell_type": "markdown",
   "id": "de40d6f3",
   "metadata": {},
   "source": [
    "The next piece of code is repeated from our Keras lecture and generates the data."
   ]
  },
  {
   "cell_type": "code",
   "execution_count": 7,
   "id": "f85a82ef",
   "metadata": {
    "execution": {
     "iopub.execute_input": "2025-10-07T04:50:37.654381Z",
     "iopub.status.busy": "2025-10-07T04:50:37.654216Z",
     "iopub.status.idle": "2025-10-07T04:50:37.657077Z",
     "shell.execute_reply": "2025-10-07T04:50:37.656834Z"
    },
    "hide-output": false
   },
   "outputs": [],
   "source": [
    "def generate_data(x_min=0,           \n",
    "                  x_max=5,          \n",
    "                  data_size=Config.data_size,\n",
    "                  seed=1234): # Default size for dataset\n",
    "    np.random.seed(seed)\n",
    "    x = np.linspace(x_min, x_max, num=data_size)\n",
    "    ϵ = 0.2 * np.random.randn(data_size)\n",
    "    y = x**0.5 + np.sin(x) + ϵ\n",
    "    # Return observations as column vectors \n",
    "    x, y = [np.reshape(z, (data_size, 1)) for z in (x, y)]\n",
    "    return x, y"
   ]
  },
  {
   "cell_type": "markdown",
   "id": "8213ef78",
   "metadata": {},
   "source": [
    "## Training with Keras\n",
    "\n",
    "We repeat the Keras training exercise from our earlier Keras lecture as a benchmark.\n",
    "\n",
    "The code is essentially the same, although written slightly more succinctly.\n",
    "\n",
    "Here is a function to build the model."
   ]
  },
  {
   "cell_type": "code",
   "execution_count": 8,
   "id": "e2ec4d3b",
   "metadata": {
    "execution": {
     "iopub.execute_input": "2025-10-07T04:50:37.658357Z",
     "iopub.status.busy": "2025-10-07T04:50:37.658193Z",
     "iopub.status.idle": "2025-10-07T04:50:37.660996Z",
     "shell.execute_reply": "2025-10-07T04:50:37.660718Z"
    },
    "hide-output": false
   },
   "outputs": [],
   "source": [
    "def build_keras_model(num_layers=Config.num_layers, \n",
    "                      output_dim=Config.output_dim,\n",
    "                      activation_function='tanh'):\n",
    "    model = Sequential()\n",
    "    # Add layers to the network sequentially, from inputs towards outputs\n",
    "    for i in range(num_layers-1):\n",
    "        model.add(\n",
    "           Dense(units=output_dim, \n",
    "                 activation=activation_function)\n",
    "           )\n",
    "    # Add a final layer that maps to a scalar value, for regression.\n",
    "    model.add(Dense(units=1))\n",
    "    # Embed training configurations\n",
    "    model.compile(\n",
    "        optimizer=keras.optimizers.SGD(), \n",
    "        loss='mean_squared_error'\n",
    "    )\n",
    "    return model"
   ]
  },
  {
   "cell_type": "markdown",
   "id": "36716d8d",
   "metadata": {},
   "source": [
    "Here is a function to train the model."
   ]
  },
  {
   "cell_type": "code",
   "execution_count": 9,
   "id": "e4ee977e",
   "metadata": {
    "execution": {
     "iopub.execute_input": "2025-10-07T04:50:37.662263Z",
     "iopub.status.busy": "2025-10-07T04:50:37.662101Z",
     "iopub.status.idle": "2025-10-07T04:50:37.665017Z",
     "shell.execute_reply": "2025-10-07T04:50:37.664689Z"
    },
    "hide-output": false
   },
   "outputs": [],
   "source": [
    "def train_keras_model(\n",
    "        model, x, y, x_validate, y_validate, epochs=Config.epochs):\n",
    "    print(f\"Training NN using Keras.\")\n",
    "    start_time = time()\n",
    "    training_history = model.fit(\n",
    "        x, y, \n",
    "        batch_size=max(x.shape), \n",
    "        verbose=0,\n",
    "        epochs=epochs, \n",
    "        validation_data=(x_validate, y_validate)\n",
    "    )\n",
    "    elapsed = time() - start_time\n",
    "    mse = model.evaluate(x_validate, y_validate, verbose=2)\n",
    "    print(f\"Trained Keras model in {elapsed:.2f} seconds with final MSE on validation data = {mse}\")\n",
    "    return model, training_history"
   ]
  },
  {
   "cell_type": "markdown",
   "id": "8d642e01",
   "metadata": {},
   "source": [
    "The next function visualizes the prediction."
   ]
  },
  {
   "cell_type": "code",
   "execution_count": 10,
   "id": "238d4ced",
   "metadata": {
    "execution": {
     "iopub.execute_input": "2025-10-07T04:50:37.666328Z",
     "iopub.status.busy": "2025-10-07T04:50:37.666150Z",
     "iopub.status.idle": "2025-10-07T04:50:37.668580Z",
     "shell.execute_reply": "2025-10-07T04:50:37.668340Z"
    },
    "hide-output": false
   },
   "outputs": [],
   "source": [
    "def plot_keras_output(model, x, y, x_validate, y_validate):\n",
    "    y_predict = model.predict(x_validate, verbose=2)\n",
    "    fig, ax = plt.subplots()\n",
    "    ax.scatter(x, y)\n",
    "    ax.plot(x, y_predict, label=\"fitted model\", color='black')\n",
    "    ax.set_xlabel('x')\n",
    "    ax.set_ylabel('y')\n",
    "    plt.show()"
   ]
  },
  {
   "cell_type": "markdown",
   "id": "c5a4e11e",
   "metadata": {},
   "source": [
    "Here’s a function to run all the routines above."
   ]
  },
  {
   "cell_type": "code",
   "execution_count": 11,
   "id": "b5077546",
   "metadata": {
    "execution": {
     "iopub.execute_input": "2025-10-07T04:50:37.669655Z",
     "iopub.status.busy": "2025-10-07T04:50:37.669543Z",
     "iopub.status.idle": "2025-10-07T04:50:37.671825Z",
     "shell.execute_reply": "2025-10-07T04:50:37.671484Z"
    },
    "hide-output": false
   },
   "outputs": [],
   "source": [
    "def keras_run_all():\n",
    "    model = build_keras_model()\n",
    "    x, y = generate_data()\n",
    "    x_validate, y_validate = generate_data()\n",
    "    model, training_history = train_keras_model(\n",
    "            model, x, y, x_validate, y_validate\n",
    "    )\n",
    "    plot_keras_output(model, x, y, x_validate, y_validate)"
   ]
  },
  {
   "cell_type": "markdown",
   "id": "8b61f795",
   "metadata": {},
   "source": [
    "Let’s put it to work:"
   ]
  },
  {
   "cell_type": "code",
   "execution_count": 12,
   "id": "dbc9b4dc",
   "metadata": {
    "execution": {
     "iopub.execute_input": "2025-10-07T04:50:37.673007Z",
     "iopub.status.busy": "2025-10-07T04:50:37.672894Z",
     "iopub.status.idle": "2025-10-07T04:50:52.539064Z",
     "shell.execute_reply": "2025-10-07T04:50:52.538588Z"
    },
    "hide-output": false
   },
   "outputs": [
    {
     "name": "stdout",
     "output_type": "stream",
     "text": [
      "Training NN using Keras.\n"
     ]
    },
    {
     "name": "stdout",
     "output_type": "stream",
     "text": [
      "13/13 - 0s - 38ms/step - loss: 0.0409\n"
     ]
    },
    {
     "name": "stdout",
     "output_type": "stream",
     "text": [
      "Trained Keras model in 13.70 seconds with final MSE on validation data = 0.04094361513853073\n"
     ]
    },
    {
     "name": "stdout",
     "output_type": "stream",
     "text": [
      "13/13 - 0s - 16ms/step\n"
     ]
    },
    {
     "data": {
      "image/png": "[encoded data removed]",
      "text/plain": [
       "<Figure size 640x480 with 1 Axes>"
      ]
     },
     "metadata": {},
     "output_type": "display_data"
    }
   ],
   "source": [
    "keras_run_all()"
   ]
  },
  {
   "cell_type": "markdown",
   "id": "f250a69b",
   "metadata": {},
   "source": [
    "We’ve seen this figure before and we note the relatively low final MSE."
   ]
  },
  {
   "cell_type": "markdown",
   "id": "1c143f38",
   "metadata": {},
   "source": [
    "## Training with JAX\n",
    "\n",
    "For the JAX implementation, we need to construct the network ourselves, as a map\n",
    "from inputs to outputs.\n",
    "\n",
    "We’ll use the same network structure we used for the Keras implementation."
   ]
  },
  {
   "cell_type": "markdown",
   "id": "54ddb8fa",
   "metadata": {},
   "source": [
    "### Background and set up\n",
    "\n",
    "The neural network as the form\n",
    "\n",
    "$$\n",
    "f(\\theta, x) \n",
    "    = (A_3 \\circ \\sigma \\circ A_2 \\circ \\sigma \\circ A_1 \\circ \\sigma \\circ A_0)(x)\n",
    "$$\n",
    "\n",
    "Here\n",
    "\n",
    "- $ x $ is a scalar input – a point on the horizontal axis in the Keras estimation above,  \n",
    "- $ \\circ $ means composition of maps,  \n",
    "- $ \\sigma $ is the activation function – in our case, $ \\tanh $, and  \n",
    "- $ A_i $ represents the affine map $ A_i x = W_i x + b_i $.  \n",
    "\n",
    "\n",
    "Each matrix $ W_i $ is called a **weight matrix** and each vector $ b_i $ is called **bias** term.\n",
    "\n",
    "The symbol $ \\theta $ represents the entire collection of parameters:\n",
    "\n",
    "$$\n",
    "\\theta = (W_0, b_0, W_1, b_1, W_2, b_2, W_3, b_3)\n",
    "$$\n",
    "\n",
    "In fact, when we implement the affine map $ A_i x = W_i x + b_i $, we will work\n",
    "with row vectors rather than column vectors, so that\n",
    "\n",
    "- $ x $ and $ b_i $ are stored as row vectors, and  \n",
    "- the mapping is executed by JAX via the expression `x @ W + b`.  \n",
    "\n",
    "\n",
    "We work with row vectors because Python numerical operations are row-major rather than column-major, so that row-based operations tend to be more efficient.\n",
    "\n",
    "Here’s a function to initialize parameters.\n",
    "\n",
    "The parameter “vector” `θ`  will be stored as a list of dicts."
   ]
  },
  {
   "cell_type": "code",
   "execution_count": 13,
   "id": "1863d0ef",
   "metadata": {
    "execution": {
     "iopub.execute_input": "2025-10-07T04:50:52.540495Z",
     "iopub.status.busy": "2025-10-07T04:50:52.540337Z",
     "iopub.status.idle": "2025-10-07T04:50:52.543495Z",
     "shell.execute_reply": "2025-10-07T04:50:52.543245Z"
    },
    "hide-output": false
   },
   "outputs": [],
   "source": [
    "def initialize_params(seed=1234):\n",
    "    \"\"\"\n",
    "    Generate an initial parameterization for a feed forward neural network with\n",
    "    number of layers = Config.num_layers.  \n",
    "    Each of the hidden layers have Config.output_dim units.\n",
    "    \"\"\"\n",
    "    k = Config.output_dim\n",
    "    shapes = (\n",
    "        (1, k),  # W_0.shape\n",
    "        (k, k),  # W_1.shape\n",
    "        (k, k),  # W_2.shape\n",
    "        (k, 1)   # W_3.shape\n",
    "    )   \n",
    "    np.random.seed(seed)\n",
    "    # A function to generate weight matrices\n",
    "    def w_init(m, n):\n",
    "        return np.random.normal(size=(m, n)) * np.sqrt(2 / m)\n",
    "    # Build list of dicts, each containing a (weight, bias) pair\n",
    "    θ = []\n",
    "    for w_shape in shapes:\n",
    "        m, n = w_shape\n",
    "        θ.append(dict(W=w_init(m, n), b=np.ones((1, n))) )\n",
    "    return θ"
   ]
  },
  {
   "cell_type": "markdown",
   "id": "801e6db3",
   "metadata": {},
   "source": [
    "Wait, you say!\n",
    "\n",
    "Shouldn’t we concatenate the elements of $ \\theta $ into some kind of big array, so that we can do autodiff with respect to this array?\n",
    "\n",
    "Actually we don’t need to, as will become clear below."
   ]
  },
  {
   "cell_type": "markdown",
   "id": "d17ba930",
   "metadata": {},
   "source": [
    "### Coding the network\n",
    "\n",
    "Here’s our implementation of $ f $:"
   ]
  },
  {
   "cell_type": "code",
   "execution_count": 14,
   "id": "7924a271",
   "metadata": {
    "execution": {
     "iopub.execute_input": "2025-10-07T04:50:52.544752Z",
     "iopub.status.busy": "2025-10-07T04:50:52.544619Z",
     "iopub.status.idle": "2025-10-07T04:50:52.547323Z",
     "shell.execute_reply": "2025-10-07T04:50:52.547053Z"
    },
    "hide-output": false
   },
   "outputs": [],
   "source": [
    "@jax.jit\n",
    "def f(θ, x, σ=jnp.tanh):\n",
    "    \"\"\"\n",
    "    Perform a forward pass over the network to evaluate f(θ, x).\n",
    "    The state x is stored and iterated on as a row vector.\n",
    "    \"\"\"\n",
    "    *hidden, last = θ\n",
    "    for layer in hidden:\n",
    "        W, b = layer['W'], layer['b']\n",
    "        x = σ(x @ W + b)\n",
    "    W, b = last['W'], last['b']\n",
    "    x = x @ W + b\n",
    "    return x "
   ]
  },
  {
   "cell_type": "markdown",
   "id": "978761a8",
   "metadata": {},
   "source": [
    "The function $ f $ is appropriately vectorized, so that we can pass in the entire\n",
    "set of input observations as `x` and return the predicted vector of outputs `y_hat = f(θ, x)`\n",
    "corresponding  to each data point.\n",
    "\n",
    "The loss function is mean squared error, the same as the Keras case."
   ]
  },
  {
   "cell_type": "code",
   "execution_count": 15,
   "id": "193ddeed",
   "metadata": {
    "execution": {
     "iopub.execute_input": "2025-10-07T04:50:52.548658Z",
     "iopub.status.busy": "2025-10-07T04:50:52.548514Z",
     "iopub.status.idle": "2025-10-07T04:50:52.550840Z",
     "shell.execute_reply": "2025-10-07T04:50:52.550513Z"
    },
    "hide-output": false
   },
   "outputs": [],
   "source": [
    "@jax.jit\n",
    "def loss_fn(θ, x, y):\n",
    "    \"Loss is mean squared error.\"\n",
    "    return jnp.mean((f(θ, x) - y)**2)"
   ]
  },
  {
   "cell_type": "markdown",
   "id": "743d8f59",
   "metadata": {},
   "source": [
    "We’ll use its gradient to do stochastic gradient descent.\n",
    "\n",
    "(Technically, we will be doing gradient descent, rather than stochastic\n",
    "gradient descent, since will not randomize over sample points when we\n",
    "evaluate the gradient.)\n",
    "\n",
    "The gradient below is with respect to the first argument `θ`."
   ]
  },
  {
   "cell_type": "code",
   "execution_count": 16,
   "id": "2a01674b",
   "metadata": {
    "execution": {
     "iopub.execute_input": "2025-10-07T04:50:52.552052Z",
     "iopub.status.busy": "2025-10-07T04:50:52.551936Z",
     "iopub.status.idle": "2025-10-07T04:50:52.554009Z",
     "shell.execute_reply": "2025-10-07T04:50:52.553716Z"
    },
    "hide-output": false
   },
   "outputs": [],
   "source": [
    "loss_gradient = jax.jit(jax.grad(loss_fn))"
   ]
  },
  {
   "cell_type": "markdown",
   "id": "3e609d03",
   "metadata": {},
   "source": [
    "The line above seems kind of magical, since we are differentiating with respect\n",
    "to a parameter “vector” stored as a list of dictionaries containing arrays.\n",
    "\n",
    "How can we differentiate with respect to such a complex object?\n",
    "\n",
    "The answer is that the list of dictionaries is treated internally as a\n",
    "[pytree](https://docs.jax.dev/en/latest/pytrees.html).\n",
    "\n",
    "The JAX function `grad` understands how to\n",
    "\n",
    "1. extract the individual arrays (the ``leaves’’ of the tree),  \n",
    "1. compute derivatives with respect to each one, and  \n",
    "1. pack the resulting derivatives into a pytree with the same structure as the parameter vector."
   ]
  },
  {
   "cell_type": "markdown",
   "id": "f44b2a05",
   "metadata": {},
   "source": [
    "### Gradient descent\n",
    "\n",
    "Using the above code, we can now write our rule for updating the parameters via gradient descent, which is the\n",
    "algorithm we covered in our [lecture on autodiff](https://jax.quantecon.org/autodiff.html).\n",
    "\n",
    "In this case, however, to keep things as simple as possible, we’ll use a fixed learning rate for every iteration."
   ]
  },
  {
   "cell_type": "code",
   "execution_count": 17,
   "id": "36743a88",
   "metadata": {
    "execution": {
     "iopub.execute_input": "2025-10-07T04:50:52.555173Z",
     "iopub.status.busy": "2025-10-07T04:50:52.555058Z",
     "iopub.status.idle": "2025-10-07T04:50:52.557614Z",
     "shell.execute_reply": "2025-10-07T04:50:52.557232Z"
    },
    "hide-output": false
   },
   "outputs": [],
   "source": [
    "@jax.jit\n",
    "def update_parameters(θ, x, y, λ=Config.learning_rate):\n",
    "    gradient = loss_gradient(θ, x, y)\n",
    "    θ = jax.tree.map(lambda p, g: p - λ * g, θ, gradient)\n",
    "    return θ"
   ]
  },
  {
   "cell_type": "markdown",
   "id": "e8e035b5",
   "metadata": {
    "hide-output": false
   },
   "source": [
    "We are implementing the gradient descent update\n",
    "\n",
    "    new_params = current_params - learning_rate * gradient_of_loss_function"
   ]
  },
  {
   "cell_type": "markdown",
   "id": "0303ecf0",
   "metadata": {},
   "source": [
    "This is nontrivial for a complex structure such as a neural network, so how is\n",
    "it done?\n",
    "\n",
    "The key line in the function above is \n",
    "\n",
    "    Θ = jax.tree.map(lambda p, g: p - λ * g, θ, gradient)\n",
    "\n",
    "The `jax.tree.map` function understands `θ` and `gradient` as pytrees of the\n",
    "same structure and executes `p - λ * g` on the corresponding leaves of the pair\n",
    "of trees.\n",
    "\n",
    "This means that each weight matrix and bias vector is updated by gradient\n",
    "descent, exactly as required.\n",
    "\n",
    "Here’s code that puts this all together."
   ]
  },
  {
   "cell_type": "code",
   "execution_count": 18,
   "id": "d81a478a",
   "metadata": {
    "execution": {
     "iopub.execute_input": "2025-10-07T04:50:52.558886Z",
     "iopub.status.busy": "2025-10-07T04:50:52.558727Z",
     "iopub.status.idle": "2025-10-07T04:50:52.561340Z",
     "shell.execute_reply": "2025-10-07T04:50:52.560962Z"
    },
    "hide-output": false
   },
   "outputs": [],
   "source": [
    "def train_jax_model(\n",
    "        θ, x, y, x_validate, y_validate, epochs=Config.epochs\n",
    "    ):\n",
    "    \"\"\"\n",
    "    Train model using gradient descent via JAX autodiff.\n",
    "    \"\"\"\n",
    "    training_loss = np.empty(epochs)\n",
    "    validation_loss = np.empty(epochs)\n",
    "    for i in range(epochs):\n",
    "        training_loss[i] = loss_fn(θ, x, y)\n",
    "        validation_loss[i] = loss_fn(θ, x_validate, y_validate)\n",
    "        θ = update_parameters(θ, x, y)\n",
    "    return θ, training_loss, validation_loss"
   ]
  },
  {
   "cell_type": "markdown",
   "id": "7e1d5775",
   "metadata": {},
   "source": [
    "### Execution\n",
    "\n",
    "Let’s run our code and see how it goes."
   ]
  },
  {
   "cell_type": "code",
   "execution_count": 19,
   "id": "8f07f91e",
   "metadata": {
    "execution": {
     "iopub.execute_input": "2025-10-07T04:50:52.562463Z",
     "iopub.status.busy": "2025-10-07T04:50:52.562347Z",
     "iopub.status.idle": "2025-10-07T04:50:52.564480Z",
     "shell.execute_reply": "2025-10-07T04:50:52.564237Z"
    },
    "hide-output": false
   },
   "outputs": [],
   "source": [
    "θ = initialize_params()\n",
    "x, y = generate_data()\n",
    "x_validate, y_validate = generate_data()"
   ]
  },
  {
   "cell_type": "code",
   "execution_count": 20,
   "id": "8527c3fc",
   "metadata": {
    "execution": {
     "iopub.execute_input": "2025-10-07T04:50:52.565591Z",
     "iopub.status.busy": "2025-10-07T04:50:52.565476Z",
     "iopub.status.idle": "2025-10-07T04:50:55.758237Z",
     "shell.execute_reply": "2025-10-07T04:50:55.757961Z"
    },
    "hide-output": false
   },
   "outputs": [
    {
     "name": "stdout",
     "output_type": "stream",
     "text": [
      "Trained model with JAX in 3.19 seconds.\n"
     ]
    }
   ],
   "source": [
    "start_time = time()\n",
    "\n",
    "θ, training_loss, validation_loss = train_jax_model(\n",
    "    θ, x, y, x_validate, y_validate\n",
    ")\n",
    "\n",
    "elapsed = time() - start_time\n",
    "print(f\"Trained model with JAX in {elapsed:.2f} seconds.\")"
   ]
  },
  {
   "cell_type": "markdown",
   "id": "7d5c1222",
   "metadata": {},
   "source": [
    "This figure shows MSE across iterations:"
   ]
  },
  {
   "cell_type": "code",
   "execution_count": 21,
   "id": "694205e0",
   "metadata": {
    "execution": {
     "iopub.execute_input": "2025-10-07T04:50:55.759522Z",
     "iopub.status.busy": "2025-10-07T04:50:55.759366Z",
     "iopub.status.idle": "2025-10-07T04:50:55.828262Z",
     "shell.execute_reply": "2025-10-07T04:50:55.827692Z"
    },
    "hide-output": false
   },
   "outputs": [
    {
     "data": {
      "image/png": "[encoded data removed]",
      "text/plain": [
       "<Figure size 640x480 with 1 Axes>"
      ]
     },
     "metadata": {},
     "output_type": "display_data"
    }
   ],
   "source": [
    "fig, ax = plt.subplots()\n",
    "ax.plot(range(Config.epochs), validation_loss, label='validation loss')\n",
    "ax.legend()\n",
    "plt.show()"
   ]
  },
  {
   "cell_type": "markdown",
   "id": "a051ff89",
   "metadata": {},
   "source": [
    "Let’s check the final MSE on the validation data, at the estimated parameters."
   ]
  },
  {
   "cell_type": "code",
   "execution_count": 22,
   "id": "985b7d8e",
   "metadata": {
    "execution": {
     "iopub.execute_input": "2025-10-07T04:50:55.829655Z",
     "iopub.status.busy": "2025-10-07T04:50:55.829473Z",
     "iopub.status.idle": "2025-10-07T04:50:55.834106Z",
     "shell.execute_reply": "2025-10-07T04:50:55.833581Z"
    },
    "hide-output": false
   },
   "outputs": [
    {
     "name": "stdout",
     "output_type": "stream",
     "text": [
      "\n",
      "Final MSE on test data set = 0.05290459841489792.\n",
      "\n"
     ]
    }
   ],
   "source": [
    "print(f\"\"\"\n",
    "Final MSE on test data set = {loss_fn(θ, x_validate, y_validate)}.\n",
    "\"\"\"\n",
    ")"
   ]
  },
  {
   "cell_type": "markdown",
   "id": "11804dff",
   "metadata": {},
   "source": [
    "This MSE is not as low as we got for Keras, but we did quite well given how\n",
    "simple our implementation is.\n",
    "\n",
    "Here’s a visualization of the quality of our fit."
   ]
  },
  {
   "cell_type": "code",
   "execution_count": 23,
   "id": "9e550fe8",
   "metadata": {
    "execution": {
     "iopub.execute_input": "2025-10-07T04:50:55.835477Z",
     "iopub.status.busy": "2025-10-07T04:50:55.835294Z",
     "iopub.status.idle": "2025-10-07T04:50:56.003112Z",
     "shell.execute_reply": "2025-10-07T04:50:56.002781Z"
    },
    "hide-output": false
   },
   "outputs": [
    {
     "data": {
      "image/png": "[encoded data removed]",
      "text/plain": [
       "<Figure size 640x480 with 1 Axes>"
      ]
     },
     "metadata": {},
     "output_type": "display_data"
    }
   ],
   "source": [
    "fig, ax = plt.subplots()\n",
    "ax.scatter(x, y)\n",
    "ax.plot(x.flatten(), f(θ, x).flatten(), \n",
    "        label=\"fitted model\", color='black')\n",
    "ax.set_xlabel('x')\n",
    "ax.set_ylabel('y')\n",
    "plt.show()"
   ]
  },
  {
   "cell_type": "markdown",
   "id": "3b6c8bce",
   "metadata": {},
   "source": [
    "## JAX plus Optax\n",
    "\n",
    "Our hand-coded optimization routine above was quite effective, but in practice\n",
    "we might wish to use an optimization library written for JAX.\n",
    "\n",
    "One such library is [Optax](https://optax.readthedocs.io/en/latest/)."
   ]
  },
  {
   "cell_type": "markdown",
   "id": "8c8ec365",
   "metadata": {},
   "source": [
    "### Optax with SGD\n",
    "\n",
    "Here’s a training routine using Optax’s stochastic gradient descent solver."
   ]
  },
  {
   "cell_type": "code",
   "execution_count": 24,
   "id": "15ea5613",
   "metadata": {
    "execution": {
     "iopub.execute_input": "2025-10-07T04:50:56.004473Z",
     "iopub.status.busy": "2025-10-07T04:50:56.004352Z",
     "iopub.status.idle": "2025-10-07T04:50:56.007013Z",
     "shell.execute_reply": "2025-10-07T04:50:56.006644Z"
    },
    "hide-output": false
   },
   "outputs": [],
   "source": [
    "def train_jax_optax(\n",
    "        θ, x, y, epochs=Config.epochs, learning_rate=Config.learning_rate\n",
    "    ):\n",
    "    solver = optax.sgd(learning_rate)\n",
    "    opt_state = solver.init(θ)\n",
    "    for _ in range(epochs):\n",
    "        grad = loss_gradient(θ, x, y)\n",
    "        updates, opt_state = solver.update(grad, opt_state, θ)\n",
    "        θ = optax.apply_updates(θ, updates)\n",
    "    return θ"
   ]
  },
  {
   "cell_type": "markdown",
   "id": "17cc887e",
   "metadata": {},
   "source": [
    "Let’s try running it."
   ]
  },
  {
   "cell_type": "code",
   "execution_count": 25,
   "id": "28aa5dc6",
   "metadata": {
    "execution": {
     "iopub.execute_input": "2025-10-07T04:50:56.008302Z",
     "iopub.status.busy": "2025-10-07T04:50:56.008189Z",
     "iopub.status.idle": "2025-10-07T04:51:03.913241Z",
     "shell.execute_reply": "2025-10-07T04:51:03.912892Z"
    },
    "hide-output": false
   },
   "outputs": [
    {
     "name": "stdout",
     "output_type": "stream",
     "text": [
      "Trained model with JAX and Optax in 7.90 seconds.\n"
     ]
    }
   ],
   "source": [
    "# Reset parameter vector\n",
    "θ = initialize_params()\n",
    "# Train network\n",
    "\n",
    "start_time = time()\n",
    "\n",
    "θ = train_jax_optax(θ, x, y)\n",
    "\n",
    "elapsed = time() - start_time\n",
    "print(f\"Trained model with JAX and Optax in {elapsed:.2f} seconds.\")"
   ]
  },
  {
   "cell_type": "markdown",
   "id": "b90f4d29",
   "metadata": {},
   "source": [
    "The resulting MSE is the same as our hand-coded routine."
   ]
  },
  {
   "cell_type": "code",
   "execution_count": 26,
   "id": "b1e85419",
   "metadata": {
    "execution": {
     "iopub.execute_input": "2025-10-07T04:51:03.914494Z",
     "iopub.status.busy": "2025-10-07T04:51:03.914368Z",
     "iopub.status.idle": "2025-10-07T04:51:03.916815Z",
     "shell.execute_reply": "2025-10-07T04:51:03.916558Z"
    },
    "hide-output": false
   },
   "outputs": [
    {
     "name": "stdout",
     "output_type": "stream",
     "text": [
      "\n",
      "Final MSE on test data set = 0.05290459841489792.\n",
      "\n"
     ]
    }
   ],
   "source": [
    "print(f\"\"\"\n",
    "Final MSE on test data set = {loss_fn(θ, x_validate, y_validate)}.\n",
    "\"\"\"\n",
    ")"
   ]
  },
  {
   "cell_type": "code",
   "execution_count": 27,
   "id": "e287943e",
   "metadata": {
    "execution": {
     "iopub.execute_input": "2025-10-07T04:51:03.917924Z",
     "iopub.status.busy": "2025-10-07T04:51:03.917803Z",
     "iopub.status.idle": "2025-10-07T04:51:03.982014Z",
     "shell.execute_reply": "2025-10-07T04:51:03.981606Z"
    },
    "hide-output": false
   },
   "outputs": [
    {
     "data": {
      "image/png": "[encoded data removed]",
      "text/plain": [
       "<Figure size 640x480 with 1 Axes>"
      ]
     },
     "metadata": {},
     "output_type": "display_data"
    }
   ],
   "source": [
    "fig, ax = plt.subplots()\n",
    "ax.scatter(x, y)\n",
    "ax.plot(x.flatten(), f(θ, x).flatten(), \n",
    "        label=\"fitted model\", color='black')\n",
    "ax.set_xlabel('x')\n",
    "ax.set_ylabel('y')\n",
    "plt.show()"
   ]
  },
  {
   "cell_type": "markdown",
   "id": "88569874",
   "metadata": {},
   "source": [
    "### Optax with ADAM\n",
    "\n",
    "We can also consider using a slightly more sophisticated gradient-based method,\n",
    "such as [ADAM](https://arxiv.org/pdf/1412.6980).\n",
    "\n",
    "You will notice that the syntax for using this alternative optimizer is very\n",
    "similar."
   ]
  },
  {
   "cell_type": "code",
   "execution_count": 28,
   "id": "b71cec39",
   "metadata": {
    "execution": {
     "iopub.execute_input": "2025-10-07T04:51:03.983238Z",
     "iopub.status.busy": "2025-10-07T04:51:03.983115Z",
     "iopub.status.idle": "2025-10-07T04:51:03.985861Z",
     "shell.execute_reply": "2025-10-07T04:51:03.985418Z"
    },
    "hide-output": false
   },
   "outputs": [],
   "source": [
    "def train_jax_optax(\n",
    "        θ, x, y, epochs=Config.epochs, learning_rate=Config.learning_rate\n",
    "    ):\n",
    "    solver = optax.adam(learning_rate)\n",
    "    opt_state = solver.init(θ)\n",
    "    for _ in range(epochs):\n",
    "        grad = loss_gradient(θ, x, y)\n",
    "        updates, opt_state = solver.update(grad, opt_state, θ)\n",
    "        θ = optax.apply_updates(θ, updates)\n",
    "    return θ"
   ]
  },
  {
   "cell_type": "code",
   "execution_count": 29,
   "id": "d616c50e",
   "metadata": {
    "execution": {
     "iopub.execute_input": "2025-10-07T04:51:03.986888Z",
     "iopub.status.busy": "2025-10-07T04:51:03.986763Z",
     "iopub.status.idle": "2025-10-07T04:51:34.013226Z",
     "shell.execute_reply": "2025-10-07T04:51:34.012782Z"
    },
    "hide-output": false
   },
   "outputs": [
    {
     "name": "stdout",
     "output_type": "stream",
     "text": [
      "Trained model with Optax and ADAM in 30.02 seconds.\n"
     ]
    }
   ],
   "source": [
    "# Reset parameter vector\n",
    "θ = initialize_params()\n",
    "# Train network\n",
    "start_time = time()\n",
    "\n",
    "θ = train_jax_optax(θ, x, y)\n",
    "\n",
    "elapsed = time() - start_time\n",
    "print(f\"Trained model with Optax and ADAM in {elapsed:.2f} seconds.\")"
   ]
  },
  {
   "cell_type": "markdown",
   "id": "b3fc4b2e",
   "metadata": {},
   "source": [
    "Here’s the MSE."
   ]
  },
  {
   "cell_type": "code",
   "execution_count": 30,
   "id": "399ce7a7",
   "metadata": {
    "execution": {
     "iopub.execute_input": "2025-10-07T04:51:34.014431Z",
     "iopub.status.busy": "2025-10-07T04:51:34.014305Z",
     "iopub.status.idle": "2025-10-07T04:51:34.017137Z",
     "shell.execute_reply": "2025-10-07T04:51:34.016759Z"
    },
    "hide-output": false
   },
   "outputs": [
    {
     "name": "stdout",
     "output_type": "stream",
     "text": [
      "\n",
      "Final MSE on test data set = 0.03738924115896225.\n",
      "\n"
     ]
    }
   ],
   "source": [
    "print(f\"\"\"\n",
    "Final MSE on test data set = {loss_fn(θ, x_validate, y_validate)}.\n",
    "\"\"\"\n",
    ")"
   ]
  },
  {
   "cell_type": "markdown",
   "id": "9239f488",
   "metadata": {},
   "source": [
    "Here’s a visualization of the result."
   ]
  },
  {
   "cell_type": "code",
   "execution_count": 31,
   "id": "dfd84ecb",
   "metadata": {
    "execution": {
     "iopub.execute_input": "2025-10-07T04:51:34.018341Z",
     "iopub.status.busy": "2025-10-07T04:51:34.018223Z",
     "iopub.status.idle": "2025-10-07T04:51:34.083012Z",
     "shell.execute_reply": "2025-10-07T04:51:34.082589Z"
    },
    "hide-output": false
   },
   "outputs": [
    {
     "data": {
      "image/png": "[encoded data removed]",
      "text/plain": [
       "<Figure size 640x480 with 1 Axes>"
      ]
     },
     "metadata": {},
     "output_type": "display_data"
    }
   ],
   "source": [
    "fig, ax = plt.subplots()\n",
    "ax.scatter(x, y)\n",
    "ax.plot(x.flatten(), f(θ, x).flatten(), \n",
    "        label=\"fitted model\", color='black')\n",
    "ax.set_xlabel('x')\n",
    "ax.set_ylabel('y')\n",
    "plt.show()"
   ]
  },
  {
   "cell_type": "code",
   "execution_count": null,
   "id": "1458270c",
   "metadata": {},
   "outputs": [],
   "source": []
  },
  {
   "cell_type": "code",
   "execution_count": null,
   "id": "273fc02b",
   "metadata": {},
   "outputs": [],
   "source": []
  },
  {
   "cell_type": "code",
   "execution_count": null,
   "id": "3468dfbd",
   "metadata": {},
   "outputs": [],
   "source": []
  }
 ],
 "metadata": {
  "jupytext": {
   "default_lexer": "ipython3"
  },
  "kernelspec": {
   "display_name": "Python 3 (ipykernel)",
   "language": "python",
   "name": "python3"
  },
  "language_info": {
   "codemirror_mode": {
    "name": "ipython",
    "version": 3
   },
   "file_extension": ".py",
   "mimetype": "text/x-python",
   "name": "python",
   "nbconvert_exporter": "python",
   "pygments_lexer": "ipython3",
   "version": "3.13.5"
  }
 },
 "nbformat": 4,
 "nbformat_minor": 5
}
