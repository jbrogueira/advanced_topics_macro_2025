{
 "cells": [
  {
   "cell_type": "markdown",
   "id": "66460826",
   "metadata": {},
   "source": [
    "# Fun with JAX\n",
    "\n",
    "**Prepared for the Bank of Portugal Computational Economics Course (Oct 2025)**\n",
    "\n",
    "**Author:** [John Stachurski](https://johnstachurski.net)\n",
    "\n",
    "October 2025\n",
    "\n",
    "This is a super quick illustration of the power of [JAX](https://github.com/google/jax), a Python library built by Google Research.\n",
    "\n",
    "It should be run on a machine with a GPU --- for example, try Google Colab with the runtime environment set to include a GPU.\n",
    "\n",
    "The aim is just to give a small taste of high performance computing in Python -- details will be covered later in the course."
   ]
  },
  {
   "cell_type": "markdown",
   "id": "1641e026",
   "metadata": {},
   "source": [
    "We start with some imports"
   ]
  },
  {
   "cell_type": "code",
   "execution_count": 1,
   "id": "24cd7beb",
   "metadata": {},
   "outputs": [
    {
     "ename": "ModuleNotFoundError",
     "evalue": "No module named 'jax'",
     "output_type": "error",
     "traceback": [
      "\u001b[0;31m---------------------------------------------------------------------------\u001b[0m",
      "\u001b[0;31mModuleNotFoundError\u001b[0m                       Traceback (most recent call last)",
      "\u001b[0;32m/var/folders/nh/xzlhtdrn0xv508_bsdllblbc0000gn/T/ipykernel_15264/338307321.py\u001b[0m in \u001b[0;36m<module>\u001b[0;34m\u001b[0m\n\u001b[1;32m      1\u001b[0m \u001b[0;32mimport\u001b[0m \u001b[0mnumpy\u001b[0m \u001b[0;32mas\u001b[0m \u001b[0mnp\u001b[0m\u001b[0;34m\u001b[0m\u001b[0;34m\u001b[0m\u001b[0m\n\u001b[0;32m----> 2\u001b[0;31m \u001b[0;32mimport\u001b[0m \u001b[0mjax\u001b[0m\u001b[0;34m\u001b[0m\u001b[0;34m\u001b[0m\u001b[0m\n\u001b[0m\u001b[1;32m      3\u001b[0m \u001b[0;32mimport\u001b[0m \u001b[0mjax\u001b[0m\u001b[0;34m.\u001b[0m\u001b[0mnumpy\u001b[0m \u001b[0;32mas\u001b[0m \u001b[0mjnp\u001b[0m\u001b[0;34m\u001b[0m\u001b[0;34m\u001b[0m\u001b[0m\n\u001b[1;32m      4\u001b[0m \u001b[0;32mimport\u001b[0m \u001b[0mmatplotlib\u001b[0m\u001b[0;34m.\u001b[0m\u001b[0mpyplot\u001b[0m \u001b[0;32mas\u001b[0m \u001b[0mplt\u001b[0m\u001b[0;34m\u001b[0m\u001b[0;34m\u001b[0m\u001b[0m\n",
      "\u001b[0;31mModuleNotFoundError\u001b[0m: No module named 'jax'"
     ]
    }
   ],
   "source": [
    "import numpy as np\n",
    "import jax\n",
    "import jax.numpy as jnp\n",
    "import matplotlib.pyplot as plt"
   ]
  },
  {
   "cell_type": "markdown",
   "id": "37c12431",
   "metadata": {},
   "source": [
    "Let's check our hardware:"
   ]
  },
  {
   "cell_type": "code",
   "execution_count": 2,
   "id": "005b2024",
   "metadata": {
    "execution": {
     "iopub.execute_input": "2025-10-07T05:04:36.245127Z",
     "iopub.status.busy": "2025-10-07T05:04:36.244908Z",
     "iopub.status.idle": "2025-10-07T05:04:36.402535Z",
     "shell.execute_reply": "2025-10-07T05:04:36.401879Z"
    }
   },
   "outputs": [
    {
     "name": "stdout",
     "output_type": "stream",
     "text": [
      "Tue Oct  7 16:04:36 2025       \r\n",
      "+-----------------------------------------------------------------------------------------+\r\n",
      "| NVIDIA-SMI 580.65.06              Driver Version: 580.65.06      CUDA Version: 13.0     |\r\n",
      "+-----------------------------------------+------------------------+----------------------+\r\n",
      "| GPU  Name                 Persistence-M | Bus-Id          Disp.A | Volatile Uncorr. ECC |\r\n",
      "| Fan  Temp   Perf          Pwr:Usage/Cap |           Memory-Usage | GPU-Util  Compute M. |\r\n",
      "|                                         |                        |               MIG M. |\r\n",
      "|=========================================+========================+======================|\r\n",
      "|   0  NVIDIA GeForce RTX 3080        Off |   00000000:0A:00.0 Off |                  N/A |\r\n",
      "| 30%   53C    P0            117W /  320W |       1MiB /  10240MiB |      0%      Default |\r\n",
      "|                                         |                        |                  N/A |\r\n",
      "+-----------------------------------------+------------------------+----------------------+\r\n",
      "\r\n",
      "+-----------------------------------------------------------------------------------------+\r\n",
      "| Processes:                                                                              |\r\n",
      "|  GPU   GI   CI              PID   Type   Process name                        GPU Memory |\r\n",
      "|        ID   ID                                                               Usage      |\r\n",
      "|=========================================================================================|\r\n",
      "|  No running processes found                                                             |\r\n",
      "+-----------------------------------------------------------------------------------------+\r\n"
     ]
    }
   ],
   "source": [
    "!nvidia-smi"
   ]
  },
  {
   "cell_type": "code",
   "execution_count": 3,
   "id": "c8e50ccd",
   "metadata": {
    "execution": {
     "iopub.execute_input": "2025-10-07T05:04:36.404357Z",
     "iopub.status.busy": "2025-10-07T05:04:36.404177Z",
     "iopub.status.idle": "2025-10-07T05:04:36.534268Z",
     "shell.execute_reply": "2025-10-07T05:04:36.532441Z"
    }
   },
   "outputs": [
    {
     "name": "stdout",
     "output_type": "stream",
     "text": [
      "CPU NODE SOCKET CORE L1d:L1i:L2:L3 ONLINE    MAXMHZ   MINMHZ       MHZ\r\n",
      "  0    0      0    0 0:0:0:0          yes 5000.0000 800.0000 1200.0110\r\n",
      "  1    0      0    1 1:1:1:0          yes 5000.0000 800.0000 3863.2600\r\n",
      "  2    0      0    2 2:2:2:0          yes 5000.0000 800.0000  800.0000\r\n",
      "  3    0      0    3 3:3:3:0          yes 5000.0000 800.0000  800.0000\r\n",
      "  4    0      0    4 4:4:4:0          yes 5000.0000 800.0000  800.0000\r\n",
      "  5    0      0    5 5:5:5:0          yes 5000.0000 800.0000 1227.2889\r\n",
      "  6    0      0    6 6:6:6:0          yes 5000.0000 800.0000 1200.1530\r\n",
      "  7    0      0    7 7:7:7:0          yes 5000.0000 800.0000 3099.9551\r\n",
      "  8    0      0    0 0:0:0:0          yes 5000.0000 800.0000  800.0000\r\n",
      "  9    0      0    1 1:1:1:0          yes 5000.0000 800.0000  800.0000\r\n",
      " 10    0      0    2 2:2:2:0          yes 5000.0000 800.0000  800.0000\r\n",
      " 11    0      0    3 3:3:3:0          yes 5000.0000 800.0000  800.0000\r\n",
      " 12    0      0    4 4:4:4:0          yes 5000.0000 800.0000 1138.3530\r\n",
      " 13    0      0    5 5:5:5:0          yes 5000.0000 800.0000 4801.9390\r\n",
      " 14    0      0    6 6:6:6:0          yes 5000.0000 800.0000  800.0000\r\n",
      " 15    0      0    7 7:7:7:0          yes 5000.0000 800.0000  800.0000\r\n"
     ]
    }
   ],
   "source": [
    "!lscpu -e"
   ]
  },
  {
   "cell_type": "markdown",
   "id": "2f7f196e",
   "metadata": {},
   "source": [
    "## Transforming Data"
   ]
  },
  {
   "cell_type": "markdown",
   "id": "693758b2",
   "metadata": {},
   "source": [
    "A very common numerical task is to apply a transformation to a set of data points.\n",
    "\n",
    "Our transformation will be the cosine function."
   ]
  },
  {
   "cell_type": "markdown",
   "id": "1b002cee",
   "metadata": {},
   "source": [
    "Here we evaluate the cosine function at 50 points."
   ]
  },
  {
   "cell_type": "code",
   "execution_count": 4,
   "id": "c227007f",
   "metadata": {
    "execution": {
     "iopub.execute_input": "2025-10-07T05:04:36.539852Z",
     "iopub.status.busy": "2025-10-07T05:04:36.539279Z",
     "iopub.status.idle": "2025-10-07T05:04:36.546737Z",
     "shell.execute_reply": "2025-10-07T05:04:36.545170Z"
    }
   },
   "outputs": [],
   "source": [
    "x = np.linspace(0, 10, 50)\n",
    "y = np.cos(x)"
   ]
  },
  {
   "cell_type": "markdown",
   "id": "eca22ea8",
   "metadata": {},
   "source": [
    "Let's plot."
   ]
  },
  {
   "cell_type": "code",
   "execution_count": 5,
   "id": "10c35c1c",
   "metadata": {
    "execution": {
     "iopub.execute_input": "2025-10-07T05:04:36.551297Z",
     "iopub.status.busy": "2025-10-07T05:04:36.550786Z",
     "iopub.status.idle": "2025-10-07T05:04:36.662675Z",
     "shell.execute_reply": "2025-10-07T05:04:36.662369Z"
    }
   },
   "outputs": [
    {
     "data": {
      "image/png": "[encoded data removed]",
      "text/plain": [
       "<Figure size 640x480 with 1 Axes>"
      ]
     },
     "metadata": {},
     "output_type": "display_data"
    }
   ],
   "source": [
    "fig, ax = plt.subplots()\n",
    "ax.scatter(x, y)\n",
    "plt.show()"
   ]
  },
  {
   "cell_type": "markdown",
   "id": "6c9dbd27",
   "metadata": {},
   "source": [
    "Our aim is to evaluate the cosine function at many points."
   ]
  },
  {
   "cell_type": "code",
   "execution_count": 6,
   "id": "867c63f1",
   "metadata": {
    "execution": {
     "iopub.execute_input": "2025-10-07T05:04:36.663981Z",
     "iopub.status.busy": "2025-10-07T05:04:36.663858Z",
     "iopub.status.idle": "2025-10-07T05:04:36.762957Z",
     "shell.execute_reply": "2025-10-07T05:04:36.762584Z"
    }
   },
   "outputs": [],
   "source": [
    "n = 50_000_000\n",
    "x = np.linspace(0, 10, n)"
   ]
  },
  {
   "cell_type": "markdown",
   "id": "6e07a5d1",
   "metadata": {},
   "source": [
    "### With NumPy"
   ]
  },
  {
   "cell_type": "code",
   "execution_count": 7,
   "id": "aa468627",
   "metadata": {
    "execution": {
     "iopub.execute_input": "2025-10-07T05:04:36.764519Z",
     "iopub.status.busy": "2025-10-07T05:04:36.764361Z",
     "iopub.status.idle": "2025-10-07T05:04:37.177271Z",
     "shell.execute_reply": "2025-10-07T05:04:37.176961Z"
    }
   },
   "outputs": [
    {
     "name": "stdout",
     "output_type": "stream",
     "text": [
      "CPU times: user 389 ms, sys: 22.1 ms, total: 411 ms\n",
      "Wall time: 410 ms\n"
     ]
    }
   ],
   "source": [
    "%%time \n",
    "\n",
    "y = np.cos(x)"
   ]
  },
  {
   "cell_type": "code",
   "execution_count": 8,
   "id": "7df01946",
   "metadata": {
    "execution": {
     "iopub.execute_input": "2025-10-07T05:04:37.178647Z",
     "iopub.status.busy": "2025-10-07T05:04:37.178508Z",
     "iopub.status.idle": "2025-10-07T05:04:37.595376Z",
     "shell.execute_reply": "2025-10-07T05:04:37.594901Z"
    }
   },
   "outputs": [
    {
     "name": "stdout",
     "output_type": "stream",
     "text": [
      "CPU times: user 387 ms, sys: 28.1 ms, total: 415 ms\n",
      "Wall time: 414 ms\n"
     ]
    }
   ],
   "source": [
    "%%time \n",
    "\n",
    "y = np.cos(x)"
   ]
  },
  {
   "cell_type": "code",
   "execution_count": 9,
   "id": "26606ded",
   "metadata": {
    "execution": {
     "iopub.execute_input": "2025-10-07T05:04:37.596886Z",
     "iopub.status.busy": "2025-10-07T05:04:37.596688Z",
     "iopub.status.idle": "2025-10-07T05:04:37.599727Z",
     "shell.execute_reply": "2025-10-07T05:04:37.599415Z"
    }
   },
   "outputs": [],
   "source": [
    "x = None  "
   ]
  },
  {
   "cell_type": "markdown",
   "id": "dcd3e811",
   "metadata": {},
   "source": [
    "### With JAX"
   ]
  },
  {
   "cell_type": "code",
   "execution_count": 10,
   "id": "ff051ea3",
   "metadata": {
    "execution": {
     "iopub.execute_input": "2025-10-07T05:04:37.601094Z",
     "iopub.status.busy": "2025-10-07T05:04:37.600914Z",
     "iopub.status.idle": "2025-10-07T05:04:37.991606Z",
     "shell.execute_reply": "2025-10-07T05:04:37.991147Z"
    }
   },
   "outputs": [],
   "source": [
    "x_jax = jnp.linspace(0, 10, n)"
   ]
  },
  {
   "cell_type": "markdown",
   "id": "053cf684",
   "metadata": {},
   "source": [
    "Let's time it.\n"
   ]
  },
  {
   "cell_type": "code",
   "execution_count": 11,
   "id": "6e9af7f2",
   "metadata": {
    "execution": {
     "iopub.execute_input": "2025-10-07T05:04:37.992893Z",
     "iopub.status.busy": "2025-10-07T05:04:37.992759Z",
     "iopub.status.idle": "2025-10-07T05:04:38.048713Z",
     "shell.execute_reply": "2025-10-07T05:04:38.048338Z"
    }
   },
   "outputs": [
    {
     "name": "stdout",
     "output_type": "stream",
     "text": [
      "CPU times: user 32.7 ms, sys: 1.94 ms, total: 34.6 ms\n",
      "Wall time: 53.6 ms\n"
     ]
    }
   ],
   "source": [
    "%%time\n",
    "    \n",
    "y = jnp.cos(x_jax)\n",
    "jax.block_until_ready(y);  # Don't run forward until the array is returned"
   ]
  },
  {
   "cell_type": "code",
   "execution_count": 12,
   "id": "2ad919f2",
   "metadata": {
    "execution": {
     "iopub.execute_input": "2025-10-07T05:04:38.050003Z",
     "iopub.status.busy": "2025-10-07T05:04:38.049879Z",
     "iopub.status.idle": "2025-10-07T05:04:38.052917Z",
     "shell.execute_reply": "2025-10-07T05:04:38.052660Z"
    }
   },
   "outputs": [
    {
     "name": "stdout",
     "output_type": "stream",
     "text": [
      "CPU times: user 1.35 ms, sys: 0 ns, total: 1.35 ms\n",
      "Wall time: 1.06 ms\n"
     ]
    }
   ],
   "source": [
    "%%time\n",
    "    \n",
    "y = jnp.cos(x_jax)\n",
    "jax.block_until_ready(y); "
   ]
  },
  {
   "cell_type": "markdown",
   "id": "fff35c99",
   "metadata": {},
   "source": [
    "Here we change the input size --- can you explain why the timing changes?"
   ]
  },
  {
   "cell_type": "code",
   "execution_count": 13,
   "id": "1ae62674",
   "metadata": {
    "execution": {
     "iopub.execute_input": "2025-10-07T05:04:38.054022Z",
     "iopub.status.busy": "2025-10-07T05:04:38.053905Z",
     "iopub.status.idle": "2025-10-07T05:04:38.092565Z",
     "shell.execute_reply": "2025-10-07T05:04:38.092139Z"
    }
   },
   "outputs": [],
   "source": [
    "x_jax = jnp.linspace(0, 10, n + 1)"
   ]
  },
  {
   "cell_type": "code",
   "execution_count": 14,
   "id": "73f3cbf7",
   "metadata": {
    "execution": {
     "iopub.execute_input": "2025-10-07T05:04:38.093967Z",
     "iopub.status.busy": "2025-10-07T05:04:38.093844Z",
     "iopub.status.idle": "2025-10-07T05:04:38.129074Z",
     "shell.execute_reply": "2025-10-07T05:04:38.128695Z"
    }
   },
   "outputs": [
    {
     "name": "stdout",
     "output_type": "stream",
     "text": [
      "CPU times: user 21 ms, sys: 2.01 ms, total: 23 ms\n",
      "Wall time: 32.8 ms\n"
     ]
    }
   ],
   "source": [
    "%%time\n",
    "    \n",
    "y = jnp.cos(x_jax)\n",
    "jax.block_until_ready(y);"
   ]
  },
  {
   "cell_type": "code",
   "execution_count": 15,
   "id": "6a692881",
   "metadata": {
    "execution": {
     "iopub.execute_input": "2025-10-07T05:04:38.130375Z",
     "iopub.status.busy": "2025-10-07T05:04:38.130255Z",
     "iopub.status.idle": "2025-10-07T05:04:38.133261Z",
     "shell.execute_reply": "2025-10-07T05:04:38.132948Z"
    }
   },
   "outputs": [
    {
     "name": "stdout",
     "output_type": "stream",
     "text": [
      "CPU times: user 0 ns, sys: 832 μs, total: 832 μs\n",
      "Wall time: 827 μs\n"
     ]
    }
   ],
   "source": [
    "%%time\n",
    "    \n",
    "y = jnp.cos(x_jax)\n",
    "jax.block_until_ready(y);"
   ]
  },
  {
   "cell_type": "code",
   "execution_count": 16,
   "id": "b9be9aca",
   "metadata": {
    "execution": {
     "iopub.execute_input": "2025-10-07T05:04:38.134452Z",
     "iopub.status.busy": "2025-10-07T05:04:38.134339Z",
     "iopub.status.idle": "2025-10-07T05:04:38.136310Z",
     "shell.execute_reply": "2025-10-07T05:04:38.136000Z"
    }
   },
   "outputs": [],
   "source": [
    "x_jax = None  # Free memory"
   ]
  },
  {
   "cell_type": "markdown",
   "id": "1db434ac",
   "metadata": {},
   "source": [
    "## Evaluating a more complicated function"
   ]
  },
  {
   "cell_type": "code",
   "execution_count": 17,
   "id": "67d6526a",
   "metadata": {
    "execution": {
     "iopub.execute_input": "2025-10-07T05:04:38.137496Z",
     "iopub.status.busy": "2025-10-07T05:04:38.137384Z",
     "iopub.status.idle": "2025-10-07T05:04:38.139557Z",
     "shell.execute_reply": "2025-10-07T05:04:38.139244Z"
    }
   },
   "outputs": [],
   "source": [
    "def f(x):\n",
    "    y = np.cos(2 * x**2) + np.sqrt(np.abs(x)) + 2 * np.sin(x**4) - 0.1 * x**2\n",
    "    return y"
   ]
  },
  {
   "cell_type": "code",
   "execution_count": 18,
   "id": "002d34b3",
   "metadata": {
    "execution": {
     "iopub.execute_input": "2025-10-07T05:04:38.140701Z",
     "iopub.status.busy": "2025-10-07T05:04:38.140587Z",
     "iopub.status.idle": "2025-10-07T05:04:38.203158Z",
     "shell.execute_reply": "2025-10-07T05:04:38.202834Z"
    }
   },
   "outputs": [
    {
     "data": {
      "image/png": "[encoded data removed]",
      "text/plain": [
       "<Figure size 640x480 with 1 Axes>"
      ]
     },
     "metadata": {},
     "output_type": "display_data"
    }
   ],
   "source": [
    "fig, ax = plt.subplots()\n",
    "x = np.linspace(0, 10, 100)\n",
    "ax.plot(x, f(x))\n",
    "ax.scatter(x, f(x))\n",
    "plt.show()"
   ]
  },
  {
   "cell_type": "markdown",
   "id": "88873e81",
   "metadata": {},
   "source": [
    "Now let's try with a large array."
   ]
  },
  {
   "cell_type": "markdown",
   "id": "f77436fc",
   "metadata": {},
   "source": [
    "### With NumPy"
   ]
  },
  {
   "cell_type": "code",
   "execution_count": 19,
   "id": "c8417869",
   "metadata": {
    "execution": {
     "iopub.execute_input": "2025-10-07T05:04:38.204372Z",
     "iopub.status.busy": "2025-10-07T05:04:38.204252Z",
     "iopub.status.idle": "2025-10-07T05:04:38.303773Z",
     "shell.execute_reply": "2025-10-07T05:04:38.303324Z"
    }
   },
   "outputs": [],
   "source": [
    "n = 50_000_000\n",
    "x = np.linspace(0, 10, n)"
   ]
  },
  {
   "cell_type": "code",
   "execution_count": 20,
   "id": "70face31",
   "metadata": {
    "execution": {
     "iopub.execute_input": "2025-10-07T05:04:38.305296Z",
     "iopub.status.busy": "2025-10-07T05:04:38.305174Z",
     "iopub.status.idle": "2025-10-07T05:04:40.247370Z",
     "shell.execute_reply": "2025-10-07T05:04:40.247043Z"
    }
   },
   "outputs": [
    {
     "name": "stdout",
     "output_type": "stream",
     "text": [
      "CPU times: user 1.77 s, sys: 167 ms, total: 1.93 s\n",
      "Wall time: 1.94 s\n"
     ]
    }
   ],
   "source": [
    "%%time \n",
    "\n",
    "y = f(x)"
   ]
  },
  {
   "cell_type": "code",
   "execution_count": 21,
   "id": "596f2152",
   "metadata": {
    "execution": {
     "iopub.execute_input": "2025-10-07T05:04:40.248687Z",
     "iopub.status.busy": "2025-10-07T05:04:40.248567Z",
     "iopub.status.idle": "2025-10-07T05:04:42.181751Z",
     "shell.execute_reply": "2025-10-07T05:04:42.181410Z"
    }
   },
   "outputs": [
    {
     "name": "stdout",
     "output_type": "stream",
     "text": [
      "CPU times: user 1.76 s, sys: 174 ms, total: 1.93 s\n",
      "Wall time: 1.93 s\n"
     ]
    }
   ],
   "source": [
    "%%time \n",
    "\n",
    "y = f(x)"
   ]
  },
  {
   "cell_type": "markdown",
   "id": "99df7e3f",
   "metadata": {},
   "source": [
    "### With JAX"
   ]
  },
  {
   "cell_type": "code",
   "execution_count": 22,
   "id": "5703fa9b",
   "metadata": {
    "execution": {
     "iopub.execute_input": "2025-10-07T05:04:42.183235Z",
     "iopub.status.busy": "2025-10-07T05:04:42.183116Z",
     "iopub.status.idle": "2025-10-07T05:04:42.185441Z",
     "shell.execute_reply": "2025-10-07T05:04:42.185134Z"
    }
   },
   "outputs": [],
   "source": [
    "def f(x):\n",
    "    y = jnp.cos(2 * x**2) + jnp.sqrt(jnp.abs(x)) + 2 * jnp.sin(x**4) - x**2\n",
    "    return y"
   ]
  },
  {
   "cell_type": "code",
   "execution_count": 23,
   "id": "f2fa12e1",
   "metadata": {
    "execution": {
     "iopub.execute_input": "2025-10-07T05:04:42.186645Z",
     "iopub.status.busy": "2025-10-07T05:04:42.186533Z",
     "iopub.status.idle": "2025-10-07T05:04:42.189382Z",
     "shell.execute_reply": "2025-10-07T05:04:42.189136Z"
    }
   },
   "outputs": [],
   "source": [
    "x_jax = jnp.linspace(0, 10, n)"
   ]
  },
  {
   "cell_type": "code",
   "execution_count": 24,
   "id": "8bc8ddde",
   "metadata": {
    "execution": {
     "iopub.execute_input": "2025-10-07T05:04:42.190605Z",
     "iopub.status.busy": "2025-10-07T05:04:42.190495Z",
     "iopub.status.idle": "2025-10-07T05:04:42.421581Z",
     "shell.execute_reply": "2025-10-07T05:04:42.421253Z"
    }
   },
   "outputs": [
    {
     "name": "stdout",
     "output_type": "stream",
     "text": [
      "CPU times: user 151 ms, sys: 9.76 ms, total: 161 ms\n",
      "Wall time: 229 ms\n"
     ]
    }
   ],
   "source": [
    "%%time \n",
    "\n",
    "y = f(x_jax)\n",
    "jax.block_until_ready(y);"
   ]
  },
  {
   "cell_type": "code",
   "execution_count": 25,
   "id": "5979a8dc",
   "metadata": {
    "execution": {
     "iopub.execute_input": "2025-10-07T05:04:42.422759Z",
     "iopub.status.busy": "2025-10-07T05:04:42.422636Z",
     "iopub.status.idle": "2025-10-07T05:04:42.578798Z",
     "shell.execute_reply": "2025-10-07T05:04:42.578115Z"
    }
   },
   "outputs": [
    {
     "name": "stdout",
     "output_type": "stream",
     "text": [
      "CPU times: user 1.28 ms, sys: 1.04 ms, total: 2.32 ms\n",
      "Wall time: 8.41 ms\n"
     ]
    },
    {
     "data": {
      "text/plain": [
       "Array([  1.       ,   1.0004472,   1.0006324, ..., -96.95619  ,\n",
       "       -96.96176  , -96.96176  ], dtype=float32)"
      ]
     },
     "execution_count": 25,
     "metadata": {},
     "output_type": "execute_result"
    }
   ],
   "source": [
    "%%time \n",
    "\n",
    "y = f(x_jax)\n",
    "jax.block_until_ready(y)"
   ]
  },
  {
   "cell_type": "markdown",
   "id": "a8557dab",
   "metadata": {},
   "source": [
    "### Compiling the Whole Function"
   ]
  },
  {
   "cell_type": "code",
   "execution_count": 26,
   "id": "bb964fa3",
   "metadata": {
    "execution": {
     "iopub.execute_input": "2025-10-07T05:04:42.580993Z",
     "iopub.status.busy": "2025-10-07T05:04:42.580738Z",
     "iopub.status.idle": "2025-10-07T05:04:42.583871Z",
     "shell.execute_reply": "2025-10-07T05:04:42.583380Z"
    }
   },
   "outputs": [],
   "source": [
    "f_jax = jax.jit(f)"
   ]
  },
  {
   "cell_type": "code",
   "execution_count": 27,
   "id": "73bab26a",
   "metadata": {
    "execution": {
     "iopub.execute_input": "2025-10-07T05:04:42.585892Z",
     "iopub.status.busy": "2025-10-07T05:04:42.585657Z",
     "iopub.status.idle": "2025-10-07T05:04:42.693600Z",
     "shell.execute_reply": "2025-10-07T05:04:42.693243Z"
    }
   },
   "outputs": [
    {
     "name": "stdout",
     "output_type": "stream",
     "text": [
      "CPU times: user 71.2 ms, sys: 3.34 ms, total: 74.5 ms\n",
      "Wall time: 105 ms\n"
     ]
    }
   ],
   "source": [
    "%%time \n",
    "\n",
    "y = f_jax(x_jax)\n",
    "jax.block_until_ready(y);"
   ]
  },
  {
   "cell_type": "code",
   "execution_count": 28,
   "id": "22922739",
   "metadata": {
    "execution": {
     "iopub.execute_input": "2025-10-07T05:04:42.694915Z",
     "iopub.status.busy": "2025-10-07T05:04:42.694749Z",
     "iopub.status.idle": "2025-10-07T05:04:42.697732Z",
     "shell.execute_reply": "2025-10-07T05:04:42.697426Z"
    }
   },
   "outputs": [
    {
     "name": "stdout",
     "output_type": "stream",
     "text": [
      "CPU times: user 720 μs, sys: 0 ns, total: 720 μs\n",
      "Wall time: 824 μs\n"
     ]
    }
   ],
   "source": [
    "%%time \n",
    "\n",
    "y = f_jax(x_jax)\n",
    "jax.block_until_ready(y);"
   ]
  },
  {
   "cell_type": "code",
   "execution_count": null,
   "id": "30aa68b3",
   "metadata": {},
   "outputs": [],
   "source": []
  }
 ],
 "metadata": {
  "kernelspec": {
   "display_name": "Python 3 (ipykernel)",
   "language": "python",
   "name": "python3"
  },
  "language_info": {
   "codemirror_mode": {
    "name": "ipython",
    "version": 3
   },
   "file_extension": ".py",
   "mimetype": "text/x-python",
   "name": "python",
   "nbconvert_exporter": "python",
   "pygments_lexer": "ipython3",
   "version": "3.9.13"
  }
 },
 "nbformat": 4,
 "nbformat_minor": 5
}
