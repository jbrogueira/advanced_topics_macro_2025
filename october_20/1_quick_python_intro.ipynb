{
 "cells": [
  {
   "cell_type": "markdown",
   "id": "04f322aa",
   "metadata": {},
   "source": [
    "# A Quick Introduction to Python\n",
    "\n",
    "This notebook provides a super quick introduction to Python (adapted from [this notebook](https://github.com/QuantEcon/bank_of_portugal_2025/blob/main/tuesday/1_quick_python_intro.ipynb)).\n",
    "\n",
    "A slower introduction is available [here](https://github.com/jbrogueira/python_intro)."
   ]
  },
  {
   "cell_type": "markdown",
   "id": "b080e4d7",
   "metadata": {},
   "source": [
    "## Example Task: Plotting a White Noise Process\n",
    "\n",
    "Task: simulate and plot the white noise process $ \\epsilon_0, \\epsilon_1,\n",
    "\\ldots, \\epsilon_T $, where each draw $ \\epsilon_t $ is independent standard\n",
    "normal.\n",
    "\n",
    "\n",
    "### Version 1\n",
    "\n",
    "Here are a few lines of code that perform the task we set"
   ]
  },
  {
   "cell_type": "code",
   "execution_count": null,
   "id": "997141fb",
   "metadata": {},
   "outputs": [],
   "source": [
    "import numpy as np\n",
    "import matplotlib.pyplot as plt   \n",
    "\n",
    "fig, ax = plt.subplots()\n",
    "ϵ_values = np.random.randn(100)   # 100 draws from N(0, 1)\n",
    "ax.plot(ϵ_values)                # Plot draws"
   ]
  },
  {
   "cell_type": "markdown",
   "id": "52899486",
   "metadata": {},
   "source": [
    "Let’s discuss some aspects of this program."
   ]
  },
  {
   "cell_type": "markdown",
   "id": "14408a2b",
   "metadata": {},
   "source": [
    "#### Imports\n",
    "\n",
    "The first two lines import functionality from external code libraries:"
   ]
  },
  {
   "cell_type": "code",
   "execution_count": null,
   "id": "1e776622",
   "metadata": {},
   "outputs": [],
   "source": [
    "import numpy as np\n",
    "import matplotlib.pyplot as plt "
   ]
  },
  {
   "cell_type": "markdown",
   "id": "94f22c98",
   "metadata": {},
   "source": [
    "The first line imports [NumPy](https://python-programming.quantecon.org/numpy.html), a Python package for tasks like\n",
    "\n",
    "- working with arrays (vectors and matrices)  \n",
    "- common mathematical functions like `cos` and `sqrt`  \n",
    "- generating random numbers  \n",
    "- linear algebra, etc.  \n",
    "\n",
    "\n",
    "After `import numpy as np` we have access to these attributes via the syntax `np.attribute`.\n",
    "\n",
    "Here’s two more examples"
   ]
  },
  {
   "cell_type": "code",
   "execution_count": null,
   "id": "75c06d6a",
   "metadata": {},
   "outputs": [],
   "source": [
    "np.sqrt(4)"
   ]
  },
  {
   "cell_type": "code",
   "execution_count": null,
   "id": "1fa8cb2b",
   "metadata": {},
   "outputs": [],
   "source": [
    "np.log(4)"
   ]
  },
  {
   "cell_type": "markdown",
   "id": "171d146d",
   "metadata": {},
   "source": [
    "#### Importing Names Directly\n",
    "\n",
    "Recall this code that we saw above"
   ]
  },
  {
   "cell_type": "code",
   "execution_count": null,
   "id": "f9b33b10",
   "metadata": {},
   "outputs": [],
   "source": [
    "import numpy as np\n",
    "np.sqrt(4)"
   ]
  },
  {
   "cell_type": "markdown",
   "id": "62e63512",
   "metadata": {},
   "source": [
    "Here’s another way to access NumPy’s square root function"
   ]
  },
  {
   "cell_type": "code",
   "execution_count": null,
   "id": "bc53d0f5",
   "metadata": {},
   "outputs": [],
   "source": [
    "from numpy import sqrt\n",
    "sqrt(4)"
   ]
  },
  {
   "cell_type": "markdown",
   "id": "7756c005",
   "metadata": {},
   "source": [
    "### A Version with a For Loop\n",
    "\n",
    "Here’s a (less efficient) version that illustrates `for` loops and Python lists."
   ]
  },
  {
   "cell_type": "code",
   "execution_count": null,
   "id": "cac2bfdd",
   "metadata": {},
   "outputs": [],
   "source": [
    "ts_length = 100\n",
    "ϵ_values = []       # Empty list\n",
    "\n",
    "for i in range(ts_length):\n",
    "    e = np.random.randn()\n",
    "    ϵ_values.append(e)\n",
    "    \n",
    "fig, ax = plt.subplots()\n",
    "ax.plot(ϵ_values)"
   ]
  },
  {
   "cell_type": "markdown",
   "id": "0f5686b0",
   "metadata": {},
   "source": [
    "#### Lists\n",
    "\n",
    "\n",
    "Consider the statement `ϵ_values = []`, which creates an empty list.\n",
    "\n",
    "Lists are a native Python data structure used to group a collection of objects.\n",
    "\n",
    "Here's another:"
   ]
  },
  {
   "cell_type": "code",
   "execution_count": null,
   "id": "64c7cfca",
   "metadata": {},
   "outputs": [],
   "source": [
    "x = [10, 'foo', False]\n",
    "type(x)"
   ]
  },
  {
   "cell_type": "markdown",
   "id": "2eb2623a",
   "metadata": {},
   "source": [
    "When adding a value to a list, we can use the syntax `list_name.append(some_value)`"
   ]
  },
  {
   "cell_type": "code",
   "execution_count": null,
   "id": "250f1353",
   "metadata": {},
   "outputs": [],
   "source": [
    "x.append(2.5)\n",
    "x"
   ]
  },
  {
   "cell_type": "markdown",
   "id": "0b5574b2",
   "metadata": {},
   "source": [
    "Here `append()` is what’s called a **method**, which is a function \"attached to\" an object -- in this case, the list `x`.\n",
    "\n",
    "- Python objects such as lists and strings all have methods that can\n",
    "  manipulate data contained in the object.  \n",
    "- String objects have string methods, list objects have list methods, etc.\n",
    "\n",
    "Another useful list method is `pop()`"
   ]
  },
  {
   "cell_type": "code",
   "execution_count": null,
   "id": "c62549d8",
   "metadata": {},
   "outputs": [],
   "source": [
    "x"
   ]
  },
  {
   "cell_type": "code",
   "execution_count": null,
   "id": "aecc4f20",
   "metadata": {},
   "outputs": [],
   "source": [
    "x.pop()"
   ]
  },
  {
   "cell_type": "code",
   "execution_count": null,
   "id": "ecfe443f",
   "metadata": {},
   "outputs": [],
   "source": [
    "x"
   ]
  },
  {
   "cell_type": "markdown",
   "id": "15f042b3",
   "metadata": {},
   "source": [
    "\n",
    "### Indices\n",
    "\n",
    "Lists in Python are zero-based (as in C, Java or Go), so the first element is referenced by `x[0]`"
   ]
  },
  {
   "cell_type": "code",
   "execution_count": null,
   "id": "15af2970",
   "metadata": {},
   "outputs": [],
   "source": [
    "x[0]   # First element of x"
   ]
  },
  {
   "cell_type": "code",
   "execution_count": null,
   "id": "91fa31d6",
   "metadata": {},
   "outputs": [],
   "source": [
    "x[1]   # Second element of x"
   ]
  },
  {
   "cell_type": "markdown",
   "id": "e7d75cdf",
   "metadata": {},
   "source": [
    "Who likes zero based lists/arrays?\n",
    "\n",
    "\n",
    "How can you get the last element?"
   ]
  },
  {
   "cell_type": "markdown",
   "id": "58821893",
   "metadata": {},
   "source": [
    "### While Loops\n",
    "\n",
    "\n",
    "Let’s modify our program to use a `while` loop instead of a `for` loop."
   ]
  },
  {
   "cell_type": "code",
   "execution_count": null,
   "id": "2ca14a9c",
   "metadata": {},
   "outputs": [],
   "source": [
    "ts_length = 100\n",
    "ϵ_values = []\n",
    "i = 0\n",
    "while i < ts_length:\n",
    "    e = np.random.randn()\n",
    "    ϵ_values.append(e)\n",
    "    i = i + 1             # Equivalent: i += 1\n",
    "\n",
    "fig, ax = plt.subplots()\n",
    "ax.plot(ϵ_values)"
   ]
  },
  {
   "cell_type": "markdown",
   "id": "630b4890",
   "metadata": {},
   "source": [
    "**Exercise**\n",
    "\n",
    "Plot the balance of a bank account over $0, \\ldots, T$ when $T=50$.\n",
    "\n",
    "* There are no withdraws \n",
    "* The initial balance is $ b_0 = 10 $ and the interest rate is $ r = 0.025$.\n",
    "\n",
    "The balance updates from period $ t $ to $ t+1 $ according to $ b_{t+1} = (1 + r) b_t $.\n",
    "\n",
    "Your task is to generate and plot the sequence $b_0, b_1, \\ldots, b_T $.\n",
    "\n",
    "You can use a Python list to store this sequence, or a NumPy array.\n",
    "\n",
    "In the first case, start with"
   ]
  },
  {
   "cell_type": "code",
   "execution_count": null,
   "id": "71e37f53",
   "metadata": {},
   "outputs": [],
   "source": [
    "T = 50\n",
    "b = []"
   ]
  },
  {
   "cell_type": "markdown",
   "id": "379d20b5",
   "metadata": {},
   "source": [
    "In the second case, you can use a statement such as"
   ]
  },
  {
   "cell_type": "code",
   "execution_count": null,
   "id": "25c1d7b4",
   "metadata": {},
   "outputs": [],
   "source": [
    "T = 50\n",
    "b = np.empty(T+1)   # Allocate memory to store all b_t"
   ]
  },
  {
   "cell_type": "markdown",
   "id": "d28d3c0a",
   "metadata": {},
   "source": [
    "and then populate `b` in a for loop."
   ]
  },
  {
   "cell_type": "code",
   "execution_count": null,
   "id": "c5e3d0ea",
   "metadata": {},
   "outputs": [],
   "source": [
    "# Put your solution here"
   ]
  },
  {
   "cell_type": "code",
   "execution_count": null,
   "id": "100556ff",
   "metadata": {},
   "outputs": [],
   "source": [
    "for _ in range(20):\n",
    "    print(\"Solution below!\")"
   ]
  },
  {
   "cell_type": "markdown",
   "id": "5cca8175",
   "metadata": {},
   "source": [
    "Here's the list-based solution"
   ]
  },
  {
   "cell_type": "code",
   "execution_count": null,
   "id": "f7024cc5",
   "metadata": {},
   "outputs": [],
   "source": [
    "b = []\n",
    "x = 10         # initial balance\n",
    "r = 0.025         # interest rate\n",
    "T = 50            # end date\n",
    "for t in range(T):\n",
    "    b.append(x)\n",
    "    x = (1 + r) *x\n",
    "b.append(x)\n",
    "\n",
    "fig, ax = plt.subplots()\n",
    "ax.plot(b, label='bank balance')\n",
    "ax.legend()\n",
    "plt.show()"
   ]
  },
  {
   "cell_type": "markdown",
   "id": "888cbaa8",
   "metadata": {},
   "source": [
    "And here's the NumPy array-based solution."
   ]
  },
  {
   "cell_type": "code",
   "execution_count": null,
   "id": "ea5dce80",
   "metadata": {},
   "outputs": [],
   "source": [
    "b = np.empty(T+1) # an empty NumPy array, to store all b_t\n",
    "b[0] = 10         # initial balance\n",
    "for t in range(T):\n",
    "    b[t+1] = (1 + r) * b[t]\n",
    "\n",
    "fig, ax = plt.subplots()\n",
    "ax.plot(b, label='bank balance')\n",
    "ax.legend()"
   ]
  },
  {
   "cell_type": "markdown",
   "id": "a7da4489",
   "metadata": {},
   "source": [
    "**Exercise**\n",
    "\n",
    "Simulate and plot the correlated time series\n",
    "\n",
    "$$\n",
    "    x_{t+1} = \\alpha \\, x_t + \\epsilon_{t+1}\n",
    "    \\quad \\text{where} \\quad\n",
    "    x_0 = 0\n",
    "    \\quad \\text{and} \\quad t = 0,\\ldots,T\n",
    "$$\n",
    "\n",
    "were $ \\{\\epsilon_t\\} $ is IID and standard normal.\n",
    "\n",
    "In your solution, restrict your import statements to"
   ]
  },
  {
   "cell_type": "code",
   "execution_count": null,
   "id": "59ceaea6",
   "metadata": {},
   "outputs": [],
   "source": [
    "import numpy as np\n",
    "import matplotlib.pyplot as plt"
   ]
  },
  {
   "cell_type": "markdown",
   "id": "36afe266",
   "metadata": {},
   "source": [
    "Set $ T=200 $ and $ \\alpha = 0.9 $."
   ]
  },
  {
   "cell_type": "code",
   "execution_count": null,
   "id": "49517390",
   "metadata": {},
   "outputs": [],
   "source": [
    "# Put your code here"
   ]
  },
  {
   "cell_type": "code",
   "execution_count": null,
   "id": "5aca5257",
   "metadata": {},
   "outputs": [],
   "source": [
    "for i in range(20):\n",
    "    print(\"Solution below.\")"
   ]
  },
  {
   "cell_type": "markdown",
   "id": "9a2d81aa",
   "metadata": {},
   "source": [
    "Here’s one solution."
   ]
  },
  {
   "cell_type": "code",
   "execution_count": null,
   "id": "4e093617",
   "metadata": {},
   "outputs": [],
   "source": [
    "α = 0.9\n",
    "T = 200\n",
    "x = np.empty(T+1)\n",
    "x[0] = 0\n",
    "\n",
    "for t in range(T):\n",
    "    x[t+1] = α * x[t] + np.random.randn()\n",
    "\n",
    "fig, ax = plt.subplots()\n",
    "ax.plot(x)"
   ]
  },
  {
   "cell_type": "markdown",
   "id": "c63dfb89",
   "metadata": {},
   "source": [
    "**Exercise** \n",
    "\n",
    "Plot three simulated time series,\n",
    "one for each of the cases $ \\alpha=0 $, $ \\alpha=0.8 $ and $ \\alpha=0.98 $.\n",
    "\n",
    "Use a `for` loop to step through the $ \\alpha $ values.\n",
    "\n",
    "If you can, add a legend, to help distinguish between the three time series.\n",
    "\n",
    "- If you call the `plot()` function multiple times before calling `show()`, all of the lines you produce will end up on the same figure.  \n",
    "- For the legend, if `var = 42`, then `f'foo{var}'` evaluates to `'foo42'`."
   ]
  },
  {
   "cell_type": "code",
   "execution_count": null,
   "id": "2aaf5749",
   "metadata": {},
   "outputs": [],
   "source": [
    "# Put your code here"
   ]
  },
  {
   "cell_type": "code",
   "execution_count": null,
   "id": "4803cfff",
   "metadata": {},
   "outputs": [],
   "source": [
    "for i in range(20):\n",
    "    print(\"Solution below.\")"
   ]
  },
  {
   "cell_type": "code",
   "execution_count": null,
   "id": "bd22740b",
   "metadata": {},
   "outputs": [],
   "source": [
    "α_values = [0.0, 0.8, 0.98]\n",
    "T = 200\n",
    "x = np.empty(T+1)\n",
    "\n",
    "fig, ax = plt.subplots()\n",
    "\n",
    "for α in α_values:\n",
    "    x[0] = 0\n",
    "    for t in range(T):\n",
    "        x[t+1] = α * x[t] + np.random.randn()\n",
    "    ax.plot(x, label=f'$\\\\alpha = {α}$')\n",
    "\n",
    "ax.legend()"
   ]
  },
  {
   "cell_type": "markdown",
   "id": "564f39dc",
   "metadata": {},
   "source": [
    "## Branches and conditions\n",
    "\n",
    "In Python, conditions are usually implemented with if-else syntax.\n",
    "\n",
    "Here’s an example, that prints -1 for each negative number in an array and 1\n",
    "for each nonnegative number"
   ]
  },
  {
   "cell_type": "code",
   "execution_count": null,
   "id": "5b3ac6ef",
   "metadata": {},
   "outputs": [],
   "source": [
    "numbers = [-9, 2.3, -11, 0]"
   ]
  },
  {
   "cell_type": "code",
   "execution_count": null,
   "id": "5eb12007",
   "metadata": {},
   "outputs": [],
   "source": [
    "for x in numbers:\n",
    "    if x < 0:\n",
    "        print(-1)\n",
    "    else:\n",
    "        print(1)"
   ]
  },
  {
   "cell_type": "markdown",
   "id": "8400dc5c",
   "metadata": {},
   "source": [
    "**Exercise**\n",
    "\n",
    "Simulate and plot the correlated time series\n",
    "\n",
    "$$\n",
    "    x_{t+1} = \\alpha \\, |x_t| + \\epsilon_{t+1}\n",
    "    \\quad \\text{where} \\quad\n",
    "    x_0 = 0\n",
    "    \\quad \\text{and} \\quad t = 0,\\ldots,T\n",
    "$$\n",
    "\n",
    "were $ \\{\\epsilon_t\\} $ is IID and standard normal.  Use"
   ]
  },
  {
   "cell_type": "code",
   "execution_count": null,
   "id": "cdc1b589",
   "metadata": {},
   "outputs": [],
   "source": [
    "α = 0.9\n",
    "T = 200"
   ]
  },
  {
   "cell_type": "markdown",
   "id": "b3d6add9",
   "metadata": {},
   "source": [
    "Do not use an existing function such as `abs()` or `np.abs()`\n",
    "to compute the absolute value.\n",
    "\n",
    "Replace this existing function with an if-else condition."
   ]
  },
  {
   "cell_type": "code",
   "execution_count": null,
   "id": "a64df916",
   "metadata": {},
   "outputs": [],
   "source": [
    "# Put your code here"
   ]
  },
  {
   "cell_type": "code",
   "execution_count": null,
   "id": "a58e0e0b",
   "metadata": {},
   "outputs": [],
   "source": [
    "for i in range(20):\n",
    "    print(\"Solution below.\")"
   ]
  },
  {
   "cell_type": "markdown",
   "id": "6570fc8a",
   "metadata": {},
   "source": [
    "Here’s one way:"
   ]
  },
  {
   "cell_type": "code",
   "execution_count": null,
   "id": "9308cea2",
   "metadata": {},
   "outputs": [],
   "source": [
    "x = np.empty(T+1)\n",
    "x[0] = 0\n",
    "\n",
    "for t in range(T):\n",
    "    if x[t] < 0:\n",
    "        abs_x = - x[t]\n",
    "    else:\n",
    "        abs_x = x[t]\n",
    "    x[t+1] = α * abs_x + np.random.randn()\n",
    "\n",
    "fig, ax = plt.subplots()\n",
    "ax.plot(x)"
   ]
  },
  {
   "cell_type": "markdown",
   "id": "521063d2",
   "metadata": {},
   "source": [
    "Here’s another way to write the same thing:"
   ]
  },
  {
   "cell_type": "code",
   "execution_count": null,
   "id": "7d0d169e",
   "metadata": {},
   "outputs": [],
   "source": [
    "α = 0.9\n",
    "T = 200\n",
    "x = np.empty(T+1)\n",
    "x[0] = 0\n",
    "\n",
    "for t in range(T):\n",
    "    abs_x = - x[t] if x[t] < 0 else x[t]\n",
    "    x[t+1] = α * abs_x + np.random.randn()\n",
    "\n",
    "fig, ax = plt.subplots()\n",
    "ax.plot(x)"
   ]
  },
  {
   "cell_type": "markdown",
   "id": "b7559752",
   "metadata": {},
   "source": [
    "## Data Types\n",
    "\n",
    "Computer programs typically keep track of a range of data types.\n",
    "\n",
    "For example, `1.5` is a floating point number, while `1` is an integer.\n",
    "\n",
    "Another data type is Boolean values, which can be either `True` or `False`"
   ]
  },
  {
   "cell_type": "code",
   "execution_count": null,
   "id": "eafd8baa",
   "metadata": {},
   "outputs": [],
   "source": [
    "x = True\n",
    "x"
   ]
  },
  {
   "cell_type": "markdown",
   "id": "6931de8a",
   "metadata": {},
   "source": [
    "We can check the type of any object in memory using the `type()` function."
   ]
  },
  {
   "cell_type": "code",
   "execution_count": null,
   "id": "0f3eedd9",
   "metadata": {},
   "outputs": [],
   "source": [
    "type(x)"
   ]
  },
  {
   "cell_type": "markdown",
   "id": "e46b623c",
   "metadata": {},
   "source": [
    "What happens in the next line of code?"
   ]
  },
  {
   "cell_type": "code",
   "execution_count": null,
   "id": "4ac7fd08",
   "metadata": {},
   "outputs": [],
   "source": [
    "y = 100 < 10\n",
    "y"
   ]
  },
  {
   "cell_type": "code",
   "execution_count": null,
   "id": "72ada175",
   "metadata": {},
   "outputs": [],
   "source": [
    "type(y)"
   ]
  },
  {
   "cell_type": "markdown",
   "id": "9e6bef16",
   "metadata": {},
   "source": [
    "In arithmetic expressions, `True` is converted to `1` and `False` is converted `0`.\n",
    "\n",
    "This is called **Boolean arithmetic** and is often useful in programming.\n",
    "\n",
    "Here are some examples"
   ]
  },
  {
   "cell_type": "code",
   "execution_count": null,
   "id": "46eab0d0",
   "metadata": {},
   "outputs": [],
   "source": [
    "x + y"
   ]
  },
  {
   "cell_type": "code",
   "execution_count": null,
   "id": "95cab35c",
   "metadata": {},
   "outputs": [],
   "source": [
    "x * y"
   ]
  },
  {
   "cell_type": "code",
   "execution_count": null,
   "id": "5c026a39",
   "metadata": {},
   "outputs": [],
   "source": [
    "bools = [True, True, False, True]  # List of Boolean values\n",
    "sum(bools)"
   ]
  },
  {
   "cell_type": "markdown",
   "id": "98d46a4c",
   "metadata": {},
   "source": [
    "### Containers\n",
    "\n",
    "Python has several basic types for storing collections of (possibly heterogeneous) data.\n",
    "\n",
    "We have already discussed lists.\n",
    "\n",
    "A related data type is **tuples**, which are \"immutable\" lists"
   ]
  },
  {
   "cell_type": "code",
   "execution_count": null,
   "id": "4900bd50",
   "metadata": {},
   "outputs": [],
   "source": [
    "x = ('a', 'b')  # Parentheses instead of the square brackets\n",
    "x =  'a', 'b'    # Or no brackets --- the meaning is identical\n",
    "x"
   ]
  },
  {
   "cell_type": "code",
   "execution_count": null,
   "id": "95b413e9",
   "metadata": {},
   "outputs": [],
   "source": [
    "type(x)"
   ]
  },
  {
   "cell_type": "markdown",
   "id": "218823b1",
   "metadata": {},
   "source": [
    "In Python, an object is called **immutable** if, once created, the object cannot be changed.\n",
    "\n",
    "Conversely, an object is **mutable** if it can still be altered after creation.\n",
    "\n",
    "Python lists are mutable"
   ]
  },
  {
   "cell_type": "code",
   "execution_count": null,
   "id": "9fa53968",
   "metadata": {},
   "outputs": [],
   "source": [
    "x = [1, 2]\n",
    "x[0] = 10\n",
    "x"
   ]
  },
  {
   "cell_type": "markdown",
   "id": "7aa48a58",
   "metadata": {},
   "source": [
    "But tuples are not"
   ]
  },
  {
   "cell_type": "code",
   "execution_count": null,
   "id": "21e1682d",
   "metadata": {},
   "outputs": [],
   "source": [
    "x = (1, 2)\n",
    "#x[0] = 10  # Uncomment and run"
   ]
  },
  {
   "cell_type": "markdown",
   "id": "30fcddf4",
   "metadata": {},
   "source": [
    "Tuples (and lists) can be “unpacked” as follows"
   ]
  },
  {
   "cell_type": "code",
   "execution_count": null,
   "id": "95c3d148",
   "metadata": {},
   "outputs": [],
   "source": [
    "integers = (10, 20, 30)\n",
    "x, y, z = integers\n",
    "x"
   ]
  },
  {
   "cell_type": "code",
   "execution_count": null,
   "id": "da91ad77",
   "metadata": {},
   "outputs": [],
   "source": [
    "y"
   ]
  },
  {
   "cell_type": "markdown",
   "id": "c9991b1d",
   "metadata": {},
   "source": [
    "#### Slice Notation\n",
    "\n",
    "To access multiple elements of a sequence (a list, a tuple or a string), you can use Python’s slice\n",
    "notation.\n",
    "\n",
    "For example,"
   ]
  },
  {
   "cell_type": "code",
   "execution_count": null,
   "id": "18ae5f6e",
   "metadata": {},
   "outputs": [],
   "source": [
    "a = [\"a\", \"b\", \"c\", \"d\", \"e\"]\n",
    "a[1:]"
   ]
  },
  {
   "cell_type": "code",
   "execution_count": null,
   "id": "8c742004",
   "metadata": {},
   "outputs": [],
   "source": [
    "a[1:3]"
   ]
  },
  {
   "cell_type": "markdown",
   "id": "5487dd1d",
   "metadata": {},
   "source": [
    "The rule is `a[m:n]` returns `n - m` elements, starting at `a[m]`.\n",
    "\n",
    "Also:"
   ]
  },
  {
   "cell_type": "code",
   "execution_count": null,
   "id": "fca4f906",
   "metadata": {},
   "outputs": [],
   "source": [
    "a[-2:]  # Last two elements of the list"
   ]
  },
  {
   "cell_type": "code",
   "execution_count": null,
   "id": "8b287157",
   "metadata": {},
   "outputs": [],
   "source": [
    "s = 'foobar'\n",
    "s[-3:]  # Last three elements"
   ]
  },
  {
   "cell_type": "markdown",
   "id": "05f1235e",
   "metadata": {},
   "source": [
    "## Iterating\n",
    "\n",
    "One of the most important tasks in computing is stepping through a\n",
    "sequence of data and performing a given action.\n",
    "\n",
    "One of Python’s strengths is its simple, flexible interface to iteration.\n",
    "\n",
    "### Looping over Different Objects\n",
    "\n",
    "Many Python objects are \"iterable\", in the sense that they can be looped over.\n",
    "\n",
    "To give an example, let’s write the file us_cities.txt, which lists US cities and their population, to the present working directory."
   ]
  },
  {
   "cell_type": "code",
   "execution_count": null,
   "id": "38af074c",
   "metadata": {},
   "outputs": [],
   "source": [
    "%%writefile us_cities.txt\n",
    "new york: 8244910\n",
    "los angeles: 3819702\n",
    "chicago: 2707120\n",
    "houston: 2145146\n",
    "philadelphia: 1536471\n",
    "phoenix: 1469471\n",
    "san antonio: 1359758\n",
    "san diego: 1326179\n",
    "dallas: 1223229"
   ]
  },
  {
   "cell_type": "markdown",
   "id": "3bad63be",
   "metadata": {},
   "source": [
    "Suppose that we want to make the information more readable, by capitalizing names and adding commas to mark thousands.\n",
    "\n",
    "The program below reads the data in and makes the conversion:"
   ]
  },
  {
   "cell_type": "code",
   "execution_count": null,
   "id": "0064de54",
   "metadata": {},
   "outputs": [],
   "source": [
    "with open('us_cities.txt', 'r') as data_file:\n",
    "    for line in data_file:\n",
    "        city, population = line.split(':')         # Tuple unpacking\n",
    "        city = city.title()                        # Capitalize city names\n",
    "        population = f'{int(population):,}'        # Add commas to numbers\n",
    "        print(city.ljust(15) + population)"
   ]
  },
  {
   "cell_type": "markdown",
   "id": "c4558823",
   "metadata": {},
   "source": [
    "### Looping without Indices\n",
    "\n",
    "Python tends to favor looping without explicit indexing.\n",
    "\n",
    "For example,"
   ]
  },
  {
   "cell_type": "code",
   "execution_count": null,
   "id": "3654c4bd",
   "metadata": {},
   "outputs": [],
   "source": [
    "x_values = [1, 2, 3]  # Some iterable x\n",
    "for x in x_values:\n",
    "    print(x * x)"
   ]
  },
  {
   "cell_type": "markdown",
   "id": "b9dc53d7",
   "metadata": {},
   "source": [
    "is preferred to"
   ]
  },
  {
   "cell_type": "code",
   "execution_count": null,
   "id": "ed6a6e5c",
   "metadata": {},
   "outputs": [],
   "source": [
    "for i in range(len(x_values)):\n",
    "    print(x_values[i] * x_values[i])"
   ]
  },
  {
   "cell_type": "markdown",
   "id": "179f6f78",
   "metadata": {},
   "source": [
    "Python provides some facilities to simplify looping without indices.\n",
    "\n",
    "One is `zip()`, which is used for stepping through pairs from two sequences.\n",
    "\n",
    "For example, try running the following code"
   ]
  },
  {
   "cell_type": "code",
   "execution_count": null,
   "id": "7983a300",
   "metadata": {},
   "outputs": [],
   "source": [
    "countries = ('Japan', 'Korea', 'China')\n",
    "cities = ('Tokyo', 'Seoul', 'Beijing')\n",
    "\n",
    "for country, city in zip(countries, cities):\n",
    "    print(f'The capital of {country} is {city}')"
   ]
  },
  {
   "cell_type": "markdown",
   "id": "636a0981",
   "metadata": {},
   "source": [
    "If we actually need the index from a list, one option is to use `enumerate()`.\n",
    "\n",
    "To understand what `enumerate()` does, consider the following example"
   ]
  },
  {
   "cell_type": "code",
   "execution_count": null,
   "id": "c30f5004",
   "metadata": {},
   "outputs": [],
   "source": [
    "letter_list = ['a', 'b', 'c']\n",
    "for index, letter in enumerate(letter_list):\n",
    "    print(f\"letter_list[{index}] = '{letter}'\")"
   ]
  },
  {
   "cell_type": "markdown",
   "id": "46ae63f9",
   "metadata": {},
   "source": [
    "### List Comprehensions\n",
    "\n",
    "[List comprehensions](https://en.wikipedia.org/wiki/List_comprehension) are an elegant Python tool for creating lists.\n",
    "\n",
    "Consider the following example, where the list comprehension is on the\n",
    "right-hand side of the second line"
   ]
  },
  {
   "cell_type": "code",
   "execution_count": null,
   "id": "31cfa12c",
   "metadata": {},
   "outputs": [],
   "source": [
    "animals = ['dog', 'cat', 'bird']\n",
    "plurals = [animal + 's' for animal in animals]\n",
    "plurals"
   ]
  },
  {
   "cell_type": "markdown",
   "id": "fbf0e481",
   "metadata": {},
   "source": [
    "Here’s another example"
   ]
  },
  {
   "cell_type": "code",
   "execution_count": null,
   "id": "5fd8bf32",
   "metadata": {},
   "outputs": [],
   "source": [
    "range(8)"
   ]
  },
  {
   "cell_type": "code",
   "execution_count": null,
   "id": "3dd468e1",
   "metadata": {},
   "outputs": [],
   "source": [
    "list(range(8))"
   ]
  },
  {
   "cell_type": "code",
   "execution_count": null,
   "id": "57c2f283",
   "metadata": {},
   "outputs": [],
   "source": [
    "doubles = [2 * x for x in range(8)]\n",
    "doubles"
   ]
  },
  {
   "cell_type": "markdown",
   "id": "0c3baaa5",
   "metadata": {},
   "source": [
    "## Comparisons and Logical Operators\n",
    "\n",
    "\n",
    "### Comparisons\n",
    "\n",
    "Comparisons are statements such as"
   ]
  },
  {
   "cell_type": "code",
   "execution_count": null,
   "id": "9b89ed0a",
   "metadata": {},
   "outputs": [],
   "source": [
    "1 < 10"
   ]
  },
  {
   "cell_type": "markdown",
   "id": "f578c9f6",
   "metadata": {},
   "source": [
    "In Python we can chain inequalities"
   ]
  },
  {
   "cell_type": "code",
   "execution_count": null,
   "id": "8471a3d6",
   "metadata": {},
   "outputs": [],
   "source": [
    "1 < 2 < 3"
   ]
  },
  {
   "cell_type": "code",
   "execution_count": null,
   "id": "67bdf313",
   "metadata": {},
   "outputs": [],
   "source": [
    "1 <= 2 <= 3"
   ]
  },
  {
   "cell_type": "markdown",
   "id": "56e45b8f",
   "metadata": {},
   "source": [
    "When testing for equality we use `==`"
   ]
  },
  {
   "cell_type": "code",
   "execution_count": null,
   "id": "104cbc3b",
   "metadata": {},
   "outputs": [],
   "source": [
    "x = 1    # Assignment\n",
    "x == 2   # Comparison"
   ]
  },
  {
   "cell_type": "markdown",
   "id": "faf00724",
   "metadata": {},
   "source": [
    "For non numerical comparisons we can use `is`"
   ]
  },
  {
   "cell_type": "code",
   "execution_count": null,
   "id": "f2f75ebb",
   "metadata": {},
   "outputs": [],
   "source": [
    "None is None"
   ]
  },
  {
   "cell_type": "markdown",
   "id": "60b8b2a7",
   "metadata": {},
   "source": [
    "For “not equal” use `!=`"
   ]
  },
  {
   "cell_type": "code",
   "execution_count": null,
   "id": "dda2e4a7",
   "metadata": {},
   "outputs": [],
   "source": [
    "1 != 2"
   ]
  },
  {
   "cell_type": "markdown",
   "id": "2f003300",
   "metadata": {},
   "source": [
    "### Combining Expressions\n",
    "\n",
    "We can combine expressions using `and`, `or` and `not`.\n",
    "\n",
    "These are the standard logical connectives (conjunction, disjunction and denial)"
   ]
  },
  {
   "cell_type": "code",
   "execution_count": null,
   "id": "bfee97ce",
   "metadata": {},
   "outputs": [],
   "source": [
    "1 < 2 and 'f' in 'foo'"
   ]
  },
  {
   "cell_type": "code",
   "execution_count": null,
   "id": "8bddb99c",
   "metadata": {},
   "outputs": [],
   "source": [
    "1 < 2 and 'g' in 'foo'"
   ]
  },
  {
   "cell_type": "code",
   "execution_count": null,
   "id": "2fbc621a",
   "metadata": {},
   "outputs": [],
   "source": [
    "1 < 2 or 'g' in 'foo'"
   ]
  },
  {
   "cell_type": "code",
   "execution_count": null,
   "id": "86982162",
   "metadata": {},
   "outputs": [],
   "source": [
    "not not True"
   ]
  },
  {
   "cell_type": "markdown",
   "id": "c1fca8df",
   "metadata": {},
   "source": [
    "### Coding Style and Documentation\n",
    "\n",
    "A consistent coding style make code easier to understand and maintain.\n",
    "\n",
    "You can find Python programming philosophy by typing `import this` at the prompt.\n",
    "\n",
    "See also the Python style guide [PEP8](https://www.python.org/dev/peps/pep-0008/)."
   ]
  },
  {
   "cell_type": "markdown",
   "id": "6467258e",
   "metadata": {},
   "source": [
    "**Exercise**\n",
    "\n",
    "1. Given two numeric lists or tuples `x_vals` and `y_vals` of equal length, compute\n",
    "their inner product using `zip()`.\n",
    "2. In one line, count the number of even numbers in 0,…,99.  (Hint: `x % 2` returns 0 if `x` is even, 1 otherwise.)\n",
    "3. Given `pairs = ((2, 5), (4, 2), (9, 8), (12, 10))`, count the number of pairs `(a, b)`\n",
    "such that both `a` and `b` are even."
   ]
  },
  {
   "cell_type": "code",
   "execution_count": null,
   "id": "8cea4294",
   "metadata": {},
   "outputs": [],
   "source": [
    "# Put your solutions here"
   ]
  },
  {
   "cell_type": "code",
   "execution_count": null,
   "id": "b2eccaee",
   "metadata": {},
   "outputs": [],
   "source": [
    "for i in range(20):\n",
    "    print(\"Solutions below.\")"
   ]
  },
  {
   "cell_type": "markdown",
   "id": "1d52b131",
   "metadata": {},
   "source": [
    "**Part 1 Solution:**\n",
    "\n",
    "Here’s one possible solution"
   ]
  },
  {
   "cell_type": "code",
   "execution_count": null,
   "id": "322857b8",
   "metadata": {},
   "outputs": [],
   "source": [
    "x_vals = [1, 2, 3]\n",
    "y_vals = [1, 1, 1]\n",
    "sum([x * y for x, y in zip(x_vals, y_vals)])"
   ]
  },
  {
   "cell_type": "markdown",
   "id": "239d0951",
   "metadata": {},
   "source": [
    "This also works"
   ]
  },
  {
   "cell_type": "code",
   "execution_count": null,
   "id": "54a23e49",
   "metadata": {},
   "outputs": [],
   "source": [
    "sum(x * y for x, y in zip(x_vals, y_vals))"
   ]
  },
  {
   "cell_type": "markdown",
   "id": "b5704c3d",
   "metadata": {},
   "source": [
    "**Part 2 Solution:**\n",
    "\n",
    "One solution is"
   ]
  },
  {
   "cell_type": "code",
   "execution_count": null,
   "id": "f87e9f3e",
   "metadata": {},
   "outputs": [],
   "source": [
    "sum([x % 2 == 0 for x in range(100)])"
   ]
  },
  {
   "cell_type": "markdown",
   "id": "2e0deabb",
   "metadata": {},
   "source": [
    "This also works:"
   ]
  },
  {
   "cell_type": "code",
   "execution_count": null,
   "id": "dc709e95",
   "metadata": {},
   "outputs": [],
   "source": [
    "sum(x % 2 == 0 for x in range(100))"
   ]
  },
  {
   "cell_type": "markdown",
   "id": "ed9c32c2",
   "metadata": {},
   "source": [
    "So does this:"
   ]
  },
  {
   "cell_type": "code",
   "execution_count": null,
   "id": "6915399b",
   "metadata": {},
   "outputs": [],
   "source": [
    "len([x for x in range(100) if x % 2 == 0])"
   ]
  },
  {
   "cell_type": "markdown",
   "id": "11a4f434",
   "metadata": {},
   "source": [
    "**Part 3 Solution:**\n",
    "\n",
    "Here’s one possibility"
   ]
  },
  {
   "cell_type": "code",
   "execution_count": null,
   "id": "92086884",
   "metadata": {},
   "outputs": [],
   "source": [
    "pairs = ((2, 5), (4, 2), (9, 8), (12, 10))\n",
    "sum([x % 2 == 0 and y % 2 == 0 for x, y in pairs])"
   ]
  },
  {
   "cell_type": "markdown",
   "id": "2615fc86",
   "metadata": {},
   "source": [
    "## Defining Functions\n",
    "\n",
    "### Basic Syntax\n",
    "\n",
    "Here’s a very simple Python function"
   ]
  },
  {
   "cell_type": "code",
   "execution_count": null,
   "id": "3a0cfa52",
   "metadata": {},
   "outputs": [],
   "source": [
    "def f(x):\n",
    "    return 2 * x + 1"
   ]
  },
  {
   "cell_type": "markdown",
   "id": "41302347",
   "metadata": {},
   "source": [
    "Now that we’ve defined this function, let’s *call* it and check whether it does what we expect:"
   ]
  },
  {
   "cell_type": "code",
   "execution_count": null,
   "id": "38590a2e",
   "metadata": {},
   "outputs": [],
   "source": [
    "f(1)   "
   ]
  },
  {
   "cell_type": "code",
   "execution_count": null,
   "id": "b6bc21a5",
   "metadata": {},
   "outputs": [],
   "source": [
    "f(10)"
   ]
  },
  {
   "cell_type": "markdown",
   "id": "561e3a32",
   "metadata": {},
   "source": [
    "Here’s a longer function, that computes the absolute value of a given number.\n",
    "\n",
    "(Such a function already exists as a built-in, but let’s write our own for the\n",
    "exercise.)"
   ]
  },
  {
   "cell_type": "code",
   "execution_count": null,
   "id": "597e1d8e",
   "metadata": {},
   "outputs": [],
   "source": [
    "def new_abs_function(x):\n",
    "    if x < 0:\n",
    "        abs_value = -x\n",
    "    else:\n",
    "        abs_value = x\n",
    "    return abs_value"
   ]
  },
  {
   "cell_type": "markdown",
   "id": "78297f30",
   "metadata": {},
   "source": [
    "Let’s call it to check that it works:"
   ]
  },
  {
   "cell_type": "code",
   "execution_count": null,
   "id": "09c04296",
   "metadata": {},
   "outputs": [],
   "source": [
    "new_abs_function(3)"
   ]
  },
  {
   "cell_type": "code",
   "execution_count": null,
   "id": "54690bfe",
   "metadata": {},
   "outputs": [],
   "source": [
    "new_abs_function(-3)"
   ]
  },
  {
   "cell_type": "markdown",
   "id": "4fb3cf8a",
   "metadata": {},
   "source": [
    "Note that a function can have arbitrarily many `return` statements (including zero)."
   ]
  },
  {
   "cell_type": "code",
   "execution_count": null,
   "id": "cc5bc1a7",
   "metadata": {},
   "outputs": [],
   "source": [
    "def another_abs_function(x):\n",
    "    if x < 0:\n",
    "        return -x\n",
    "    return x"
   ]
  },
  {
   "cell_type": "markdown",
   "id": "b0a750f2",
   "metadata": {},
   "source": [
    "Functions without a return statement automatically return the special Python object `None`."
   ]
  },
  {
   "cell_type": "code",
   "execution_count": null,
   "id": "f3851aa4",
   "metadata": {},
   "outputs": [],
   "source": [
    "def foo():\n",
    "    pass"
   ]
  },
  {
   "cell_type": "code",
   "execution_count": null,
   "id": "b3243bab",
   "metadata": {},
   "outputs": [],
   "source": [
    "x = foo()\n",
    "print(x)"
   ]
  },
  {
   "cell_type": "markdown",
   "id": "9ff23570",
   "metadata": {},
   "source": [
    "**Exercise**\n",
    "\n",
    "Write a function that takes a string as an argument and returns the number of capital letters in the string.\n",
    "\n",
    "(Hint:`'foo'.upper()` returns `'FOO'`.)"
   ]
  },
  {
   "cell_type": "code",
   "execution_count": null,
   "id": "56415648",
   "metadata": {},
   "outputs": [],
   "source": [
    "# Put your solution here"
   ]
  },
  {
   "cell_type": "code",
   "execution_count": null,
   "id": "83798598",
   "metadata": {},
   "outputs": [],
   "source": [
    "for i in range(20):\n",
    "    print(\"Solution below.\")"
   ]
  },
  {
   "cell_type": "markdown",
   "id": "7325bddd",
   "metadata": {},
   "source": [
    "Here’s one solution:"
   ]
  },
  {
   "cell_type": "code",
   "execution_count": null,
   "id": "3b5a5efc",
   "metadata": {},
   "outputs": [],
   "source": [
    "def count_upper_case(string):\n",
    "    count = 0\n",
    "    for letter in string:\n",
    "        if letter == letter.upper() and letter.isalpha():\n",
    "            count += 1\n",
    "    return count\n",
    "\n",
    "count_upper_case('The Rain in Spain')"
   ]
  },
  {
   "cell_type": "markdown",
   "id": "b1e29acc",
   "metadata": {},
   "source": [
    "Alternatively,"
   ]
  },
  {
   "cell_type": "code",
   "execution_count": null,
   "id": "6bcb1ee3",
   "metadata": {},
   "outputs": [],
   "source": [
    "def count_upper_case(string):\n",
    "    return sum([c.isupper() and c.isalpha() for c in string])\n",
    "\n",
    "count_upper_case('The Rain in Spain')"
   ]
  },
  {
   "cell_type": "markdown",
   "id": "e0f110ff",
   "metadata": {},
   "source": [
    "### Keyword Arguments\n",
    "\n",
    "\n",
    "The following example illustrates the syntax"
   ]
  },
  {
   "cell_type": "code",
   "execution_count": null,
   "id": "c3034ad3",
   "metadata": {},
   "outputs": [],
   "source": [
    "def f(x, a=1, b=1):\n",
    "    return a + b * x"
   ]
  },
  {
   "cell_type": "markdown",
   "id": "71b78396",
   "metadata": {},
   "source": [
    "The keyword argument values we supplied in the definition of `f` become the default values"
   ]
  },
  {
   "cell_type": "code",
   "execution_count": null,
   "id": "13ea06f5",
   "metadata": {},
   "outputs": [],
   "source": [
    "f(2)"
   ]
  },
  {
   "cell_type": "markdown",
   "id": "159322dc",
   "metadata": {},
   "source": [
    "They can be modified as follows"
   ]
  },
  {
   "cell_type": "code",
   "execution_count": null,
   "id": "5468020e",
   "metadata": {},
   "outputs": [],
   "source": [
    "f(2, a=4, b=5)"
   ]
  },
  {
   "cell_type": "markdown",
   "id": "051f66f8",
   "metadata": {},
   "source": [
    "### The Flexibility of Python Functions\n",
    "\n",
    "- Functions can be (and often are) defined inside other functions.  \n",
    "- Any object can be passed to a function as an argument, including other functions.  \n",
    "- A function can return any kind of object, including functions."
   ]
  },
  {
   "cell_type": "markdown",
   "id": "1a0a1e30",
   "metadata": {},
   "source": [
    "### One-Line Functions: `lambda`\n",
    "\n",
    "\n",
    "The `lambda` keyword is used to create simple functions on one line.\n",
    "\n",
    "For example,"
   ]
  },
  {
   "cell_type": "code",
   "execution_count": null,
   "id": "3106011b",
   "metadata": {},
   "outputs": [],
   "source": [
    "def f(x):\n",
    "    return x**3"
   ]
  },
  {
   "cell_type": "markdown",
   "id": "bde3942d",
   "metadata": {},
   "source": [
    "is equivalent to."
   ]
  },
  {
   "cell_type": "code",
   "execution_count": null,
   "id": "9f9dc03b",
   "metadata": {},
   "outputs": [],
   "source": [
    "f = lambda x: x**3"
   ]
  },
  {
   "cell_type": "markdown",
   "id": "f20886c1",
   "metadata": {},
   "source": [
    "One use case is \"anonymous\" functions"
   ]
  },
  {
   "cell_type": "code",
   "execution_count": null,
   "id": "fa3ffcfa",
   "metadata": {},
   "outputs": [],
   "source": [
    "from scipy.integrate import quad\n",
    "quad(lambda x: x**3, 0, 2)"
   ]
  },
  {
   "cell_type": "code",
   "execution_count": null,
   "id": "2f69bef5-b4d2-4a82-a498-63fc61765665",
   "metadata": {},
   "outputs": [],
   "source": [
    "# quad?"
   ]
  },
  {
   "cell_type": "markdown",
   "id": "5bfb4061",
   "metadata": {},
   "source": [
    "### More examples of functions\n",
    "\n",
    "Consider again the code"
   ]
  },
  {
   "cell_type": "code",
   "execution_count": null,
   "id": "0979bdd1",
   "metadata": {},
   "outputs": [],
   "source": [
    "ts_length = 100\n",
    "ϵ_values = []   # empty list\n",
    "\n",
    "for i in range(ts_length):\n",
    "    e = np.random.randn()\n",
    "    ϵ_values.append(e)\n",
    "\n",
    "fig, ax = plt.subplots()\n",
    "ax.plot(ϵ_values)"
   ]
  },
  {
   "cell_type": "markdown",
   "id": "5c931da6",
   "metadata": {},
   "source": [
    "Let's create a function that does most of the work."
   ]
  },
  {
   "cell_type": "code",
   "execution_count": null,
   "id": "143f752f",
   "metadata": {},
   "outputs": [],
   "source": [
    "def generate_data(n):\n",
    "    ϵ_values = []\n",
    "    for i in range(n):\n",
    "        e = np.random.randn()\n",
    "        ϵ_values.append(e)\n",
    "    return ϵ_values\n",
    "\n",
    "fig, ax = plt.subplots()\n",
    "data = generate_data(100)\n",
    "ax.plot(data)"
   ]
  },
  {
   "cell_type": "markdown",
   "id": "610e0a25",
   "metadata": {},
   "source": [
    "Here's an alternative where we pass a function to a function:"
   ]
  },
  {
   "cell_type": "code",
   "execution_count": null,
   "id": "232683f5",
   "metadata": {},
   "outputs": [],
   "source": [
    "def generate_data(n, generator_type):\n",
    "    ϵ_values = []\n",
    "    for i in range(n):\n",
    "        e = generator_type()\n",
    "        ϵ_values.append(e)\n",
    "    return ϵ_values\n",
    "\n",
    "data = generate_data(100, np.random.uniform)\n",
    "fig, ax = plt.subplots()\n",
    "ax.plot(data)"
   ]
  },
  {
   "cell_type": "markdown",
   "id": "42c51379",
   "metadata": {},
   "source": [
    "**Exercise**\n",
    "\n",
    "The binomial random variable $Y$ gives the number of successes in $ n $ binary\n",
    "independent trials, where each trial succeeds with probability $ p $.\n",
    "\n",
    "Without any import besides `from numpy.random import uniform`, write a function\n",
    "`binomial_rv` such that `binomial_rv(n, p)` generates one draw of $ Y $.\n",
    "\n",
    "Hint: If $ U $ is uniform on $ (0, 1) $ and $ p \\in (0,1) $, then the expression `U < p` evaluates to `True` with probability $ p $."
   ]
  },
  {
   "cell_type": "code",
   "execution_count": null,
   "id": "de189ed5",
   "metadata": {},
   "outputs": [],
   "source": [
    "# Put your solution here"
   ]
  },
  {
   "cell_type": "code",
   "execution_count": null,
   "id": "4e2892f4",
   "metadata": {},
   "outputs": [],
   "source": [
    "for i in range(20):\n",
    "    print(\"Solution below.\")"
   ]
  },
  {
   "cell_type": "markdown",
   "id": "adac881a",
   "metadata": {},
   "source": [
    "Here's one solution:"
   ]
  },
  {
   "cell_type": "code",
   "execution_count": null,
   "id": "474c9a6e",
   "metadata": {},
   "outputs": [],
   "source": [
    "from numpy.random import uniform\n",
    "\n",
    "def binomial_rv(n, p):\n",
    "    count = 0\n",
    "    for i in range(n):\n",
    "        U = uniform()\n",
    "        if U < p:\n",
    "            count += 1 \n",
    "    return count\n",
    "\n",
    "binomial_rv(10, 0.5)"
   ]
  },
  {
   "cell_type": "markdown",
   "id": "cf5d3575",
   "metadata": {},
   "source": [
    "## OOP: Objects and Methods\n",
    "\n",
    "\n",
    "The traditional programming paradigm (Fortran, C, MATLAB, etc.) is called **procedural**.\n",
    "\n",
    "Another important paradigm is **object-oriented programming** (OOP) \n",
    "\n",
    "In the OOP paradigm, data and functions are bundled together into “objects” —\n",
    "and functions in this context are referred to as **methods**.\n",
    "\n",
    "Methods are called on to transform the data contained in the object.\n",
    "\n",
    "- Think of a Python list that contains data and has methods such as `append()`\n",
    "  and `pop()` that transform the data.  \n",
    "\n",
    "A third paradigm is **functional programming** \n",
    "\n",
    "* Built on the idea of composing functions.\n",
    "* We'll discuss this more when we get to JAX\n",
    "\n",
    "Python is a pragmatic language that blends object-oriented, functional and procedural styles.\n",
    "\n",
    "But at a foundational level, Python *is* object-oriented.\n",
    "\n",
    "By this we mean that, in Python, *everything is an object*.\n",
    "\n",
    "\n",
    "### Objects\n",
    "\n",
    "\n",
    "In Python, an *object* is a collection of data and instructions held in computer memory that consists of\n",
    "\n",
    "1. a type  \n",
    "1. a unique identity  \n",
    "1. data (i.e., content, reference count)  \n",
    "1. methods"
   ]
  },
  {
   "cell_type": "markdown",
   "id": "f4a7d452",
   "metadata": {},
   "source": [
    "#### Type\n",
    "\n",
    "\n",
    "Python provides for different types of objects, to accommodate different categories of data.\n",
    "\n",
    "For example"
   ]
  },
  {
   "cell_type": "code",
   "execution_count": null,
   "id": "a8828706",
   "metadata": {},
   "outputs": [],
   "source": [
    "s = 'This is a string'\n",
    "type(s)"
   ]
  },
  {
   "cell_type": "code",
   "execution_count": null,
   "id": "55113798",
   "metadata": {},
   "outputs": [],
   "source": [
    "x = 42   # Now let's create an integer\n",
    "type(x)"
   ]
  },
  {
   "cell_type": "markdown",
   "id": "6e93f245",
   "metadata": {},
   "source": [
    "The type of an object matters for many expressions.\n",
    "\n",
    "For example, the addition operator between two strings means concatenation"
   ]
  },
  {
   "cell_type": "code",
   "execution_count": null,
   "id": "eb9f65d3",
   "metadata": {},
   "outputs": [],
   "source": [
    "'300' + 'cc'"
   ]
  },
  {
   "cell_type": "markdown",
   "id": "098897f1",
   "metadata": {},
   "source": [
    "On the other hand, between two numbers it means ordinary addition"
   ]
  },
  {
   "cell_type": "code",
   "execution_count": null,
   "id": "a93377e5",
   "metadata": {},
   "outputs": [],
   "source": [
    "300 + 400"
   ]
  },
  {
   "cell_type": "markdown",
   "id": "9f4c1f9b",
   "metadata": {},
   "source": [
    "Consider the following expression"
   ]
  },
  {
   "cell_type": "code",
   "execution_count": null,
   "id": "c57f3bac",
   "metadata": {},
   "outputs": [],
   "source": [
    "#'300' + 400   # uncomment and run"
   ]
  },
  {
   "cell_type": "markdown",
   "id": "5cf8938e",
   "metadata": {},
   "source": [
    "Here we are mixing types, and it’s unclear to Python whether the user wants to\n",
    "\n",
    "Python is *strongly typed* -- throws an error rather than trying to perform\n",
    "hidden type conversion."
   ]
  },
  {
   "cell_type": "markdown",
   "id": "4c7c1ddc",
   "metadata": {},
   "source": [
    "#### Identity\n",
    "\n",
    "\n",
    "In Python, each object has a unique identifier, which helps Python (and us) keep track of the object.\n",
    "\n",
    "The identity of an object can be obtained via the `id()` function"
   ]
  },
  {
   "cell_type": "code",
   "execution_count": null,
   "id": "dfaafa59",
   "metadata": {},
   "outputs": [],
   "source": [
    "y = 2.5\n",
    "z = 2.5\n",
    "id(y)"
   ]
  },
  {
   "cell_type": "code",
   "execution_count": null,
   "id": "c2096c92",
   "metadata": {},
   "outputs": [],
   "source": [
    "id(z)"
   ]
  },
  {
   "cell_type": "markdown",
   "id": "89ae9692",
   "metadata": {},
   "source": [
    "Here `y` and `z` have the same value but they are not the same object."
   ]
  },
  {
   "cell_type": "markdown",
   "id": "f0c36dd5",
   "metadata": {},
   "source": [
    "**Question** Why is the following case different??!"
   ]
  },
  {
   "cell_type": "code",
   "execution_count": null,
   "id": "4b8f849f",
   "metadata": {},
   "outputs": [],
   "source": [
    "a = 10\n",
    "b = 10\n",
    "id(a)"
   ]
  },
  {
   "cell_type": "code",
   "execution_count": null,
   "id": "8406ab7e",
   "metadata": {},
   "outputs": [],
   "source": [
    "id(b)"
   ]
  },
  {
   "cell_type": "markdown",
   "id": "0217c6c4",
   "metadata": {},
   "source": [
    "#### Object Content: Data and Attributes\n",
    "\n",
    "If we set `x = 42` then we create an object of type `int` that contains\n",
    "the data `42`.\n",
    "\n",
    "In fact, it contains more, as the following example shows"
   ]
  },
  {
   "cell_type": "code",
   "execution_count": null,
   "id": "f47137ca",
   "metadata": {},
   "outputs": [],
   "source": [
    "x = 42\n",
    "x"
   ]
  },
  {
   "cell_type": "code",
   "execution_count": null,
   "id": "5878022f",
   "metadata": {},
   "outputs": [],
   "source": [
    "x.imag"
   ]
  },
  {
   "cell_type": "code",
   "execution_count": null,
   "id": "c701a5ea",
   "metadata": {},
   "outputs": [],
   "source": [
    "x.__class__"
   ]
  },
  {
   "cell_type": "markdown",
   "id": "aecf90d7",
   "metadata": {},
   "source": [
    "When Python creates this integer object, it stores with it various auxiliary\n",
    "information, such as the imaginary part, and the type.\n",
    "\n",
    "Any name following a dot is called an *attribute* of the object to the left of the dot.\n",
    "\n",
    "- e.g.,`imag` and `__class__` are attributes of `x`.  \n",
    "\n",
    "We see from this example that objects have attributes that contain auxiliary information."
   ]
  },
  {
   "cell_type": "markdown",
   "id": "110e433d",
   "metadata": {},
   "source": [
    "### Methods\n",
    "\n",
    "\n",
    "Attributes that are *callable* (act like functions) are called *methods*.\n",
    "\n",
    "Informally, methods are functions that are bundled with objects."
   ]
  },
  {
   "cell_type": "code",
   "execution_count": null,
   "id": "2e5d66e4",
   "metadata": {},
   "outputs": [],
   "source": [
    "x = ['foo', 'bar']\n",
    "callable(x.append)"
   ]
  },
  {
   "cell_type": "code",
   "execution_count": null,
   "id": "b4044764",
   "metadata": {},
   "outputs": [],
   "source": [
    "callable(x.__doc__)"
   ]
  },
  {
   "cell_type": "markdown",
   "id": "5fd95315",
   "metadata": {},
   "source": [
    "Methods typically act on the data contained in the object they belong to, or combine that data with other data"
   ]
  },
  {
   "cell_type": "code",
   "execution_count": null,
   "id": "bf7d3baf",
   "metadata": {},
   "outputs": [],
   "source": [
    "x = ['a', 'b']\n",
    "x.append('c')\n",
    "x"
   ]
  },
  {
   "cell_type": "code",
   "execution_count": null,
   "id": "602294da",
   "metadata": {},
   "outputs": [],
   "source": [
    "s = 'This is a string'\n",
    "s.upper()"
   ]
  },
  {
   "cell_type": "code",
   "execution_count": null,
   "id": "7640cfd9",
   "metadata": {},
   "outputs": [],
   "source": [
    "s.lower()"
   ]
  },
  {
   "cell_type": "code",
   "execution_count": null,
   "id": "334fd116",
   "metadata": {},
   "outputs": [],
   "source": [
    "s.replace('This', 'That')"
   ]
  },
  {
   "cell_type": "markdown",
   "id": "7ae38931",
   "metadata": {},
   "source": [
    "A great deal of Python functionality is organized around method calls.\n",
    "\n",
    "For example, consider the following piece of code"
   ]
  },
  {
   "cell_type": "code",
   "execution_count": null,
   "id": "955ba976",
   "metadata": {},
   "outputs": [],
   "source": [
    "x = ['a', 'b']\n",
    "x[0] = 'aa'  # Item assignment using square bracket notation\n",
    "x"
   ]
  },
  {
   "cell_type": "markdown",
   "id": "ea2fb110",
   "metadata": {},
   "source": [
    "It doesn’t look like there are any methods used here, but in fact the square\n",
    "bracket assignment notation is just a convenient interface to a method call.\n",
    "\n",
    "What actually happens is that Python calls the `__setitem__` method, as follows"
   ]
  },
  {
   "cell_type": "code",
   "execution_count": null,
   "id": "d8015f77",
   "metadata": {},
   "outputs": [],
   "source": [
    "x = ['a', 'b']\n",
    "x.__setitem__(0, 'aa')  # Equivalent to x[0] = 'aa'\n",
    "x"
   ]
  },
  {
   "cell_type": "markdown",
   "id": "d2c25fcf",
   "metadata": {},
   "source": [
    "## Inspection Using Rich\n",
    "\n",
    "There’s a nice package called [rich](https://github.com/Textualize/rich) that helps us view the contents of an object."
   ]
  },
  {
   "cell_type": "code",
   "execution_count": null,
   "id": "5baafbff",
   "metadata": {},
   "outputs": [],
   "source": [
    "#!pip install rich   # Uncomment if necessary"
   ]
  },
  {
   "cell_type": "markdown",
   "id": "347a66e6",
   "metadata": {},
   "source": [
    "For example,"
   ]
  },
  {
   "cell_type": "code",
   "execution_count": null,
   "id": "0bd88bde",
   "metadata": {},
   "outputs": [],
   "source": [
    "from rich import inspect\n",
    "x = 10\n",
    "inspect(x)"
   ]
  },
  {
   "cell_type": "markdown",
   "id": "e127b295",
   "metadata": {},
   "source": [
    "If we want to see the methods as well, we can use"
   ]
  },
  {
   "cell_type": "code",
   "execution_count": null,
   "id": "2ade19b0",
   "metadata": {},
   "outputs": [],
   "source": [
    "inspect(x, methods=True)"
   ]
  },
  {
   "cell_type": "markdown",
   "id": "f8107ee0",
   "metadata": {},
   "source": [
    "In fact there are still more methods, as you can see if you execute `inspect(10, all=True)`."
   ]
  },
  {
   "cell_type": "markdown",
   "id": "c6085074",
   "metadata": {},
   "source": [
    "## Names and Namespaces\n",
    "\n",
    "### Variable Names in Python\n",
    "\n",
    "\n",
    "Consider the Python statement"
   ]
  },
  {
   "cell_type": "code",
   "execution_count": null,
   "id": "d17011b4",
   "metadata": {},
   "outputs": [],
   "source": [
    "x = 42"
   ]
  },
  {
   "cell_type": "markdown",
   "id": "9aa35962",
   "metadata": {},
   "source": [
    "In Python, `x` is called a **name**, and the statement `x = 42` **binds** the\n",
    "name `x` to the integer object `42`.\n",
    "\n",
    "There is no problem binding two or more names to the one object, regardless of what that object is"
   ]
  },
  {
   "cell_type": "code",
   "execution_count": null,
   "id": "59b16d40",
   "metadata": {},
   "outputs": [],
   "source": [
    "def f(string):      # Create a function called f\n",
    "    print(string)   # that prints any string it's passed\n",
    "\n",
    "g = f\n",
    "id(g) == id(f)"
   ]
  },
  {
   "cell_type": "code",
   "execution_count": null,
   "id": "72c5603e",
   "metadata": {},
   "outputs": [],
   "source": [
    "g('test')"
   ]
  },
  {
   "cell_type": "markdown",
   "id": "11e3f2ba",
   "metadata": {},
   "source": [
    "What happens when the number of names bound to an object goes to zero?\n",
    "\n",
    "Here’s an example of this situation:"
   ]
  },
  {
   "cell_type": "code",
   "execution_count": null,
   "id": "237ac006",
   "metadata": {},
   "outputs": [],
   "source": [
    "x = 'foo'    # the string object 'foo' is created in memory and x is bound to it \n",
    "x = 'bar'    # x is rebound to the string object 'bar'"
   ]
  },
  {
   "cell_type": "markdown",
   "id": "4fa34ad5",
   "metadata": {},
   "source": [
    "Now there are no names bound to `'foo'`.\n",
    "\n",
    "Python releases `'foo'` to be garbage collected.\n",
    "\n",
    "(The memory slot that stores that object is returned to the operating system.)"
   ]
  },
  {
   "cell_type": "markdown",
   "id": "eb04e8eb",
   "metadata": {},
   "source": [
    "### Namespaces\n",
    "\n",
    "\n",
    "Recall from the preceding discussion that the statement"
   ]
  },
  {
   "cell_type": "code",
   "execution_count": null,
   "id": "df3cb626",
   "metadata": {},
   "outputs": [],
   "source": [
    "x = 42"
   ]
  },
  {
   "cell_type": "markdown",
   "id": "9f41235a",
   "metadata": {},
   "source": [
    "binds the name `x` to the integer object on the right-hand side.\n",
    "\n",
    "This process of binding `x` to the correct object is implemented as a dictionary.\n",
    "\n",
    "This dictionary is called a namespace."
   ]
  },
  {
   "cell_type": "markdown",
   "id": "ca8fdcaa",
   "metadata": {},
   "source": [
    "Python uses multiple namespaces, creating them on the fly as necessary.\n",
    "\n",
    "For example, every time we import a module, Python creates a namespace for that module.\n",
    "\n",
    "To see this in action, suppose we write a script `mathfoo.py` as follows"
   ]
  },
  {
   "cell_type": "code",
   "execution_count": null,
   "id": "02ca3533",
   "metadata": {},
   "outputs": [],
   "source": [
    "%%writefile mathfoo.py\n",
    "pi = 'foobar'\n",
    "x = 42"
   ]
  },
  {
   "cell_type": "markdown",
   "id": "42db0895",
   "metadata": {},
   "source": [
    "Let's import this \"module\""
   ]
  },
  {
   "cell_type": "code",
   "execution_count": null,
   "id": "1573c76d",
   "metadata": {},
   "outputs": [],
   "source": [
    "import mathfoo"
   ]
  },
  {
   "cell_type": "markdown",
   "id": "570e8709",
   "metadata": {},
   "source": [
    "Next let’s import the `math` module from the standard library"
   ]
  },
  {
   "cell_type": "code",
   "execution_count": null,
   "id": "20e93fa2",
   "metadata": {},
   "outputs": [],
   "source": [
    "import math"
   ]
  },
  {
   "cell_type": "markdown",
   "id": "f1aa3a9b",
   "metadata": {},
   "source": [
    "Both of these modules have an attribute called `pi`"
   ]
  },
  {
   "cell_type": "code",
   "execution_count": null,
   "id": "45daea9f",
   "metadata": {},
   "outputs": [],
   "source": [
    "math.pi"
   ]
  },
  {
   "cell_type": "code",
   "execution_count": null,
   "id": "1db2a72d",
   "metadata": {},
   "outputs": [],
   "source": [
    "mathfoo.pi"
   ]
  },
  {
   "cell_type": "markdown",
   "id": "3c1b04c0",
   "metadata": {},
   "source": [
    "These two different bindings of `pi` exist in different namespaces, each one implemented as a dictionary.\n",
    "\n",
    "If you wish, you can look at the dictionary directly, using `module_name.__dict__`."
   ]
  },
  {
   "cell_type": "code",
   "execution_count": null,
   "id": "11902e9a",
   "metadata": {},
   "outputs": [],
   "source": [
    "mathfoo.__dict__.keys()  # Show all keys in the dictionary"
   ]
  },
  {
   "cell_type": "code",
   "execution_count": null,
   "id": "5e386b98",
   "metadata": {},
   "outputs": [],
   "source": [
    "mathfoo.__dict__['pi']"
   ]
  },
  {
   "cell_type": "markdown",
   "id": "f6868336",
   "metadata": {},
   "source": [
    "### Interactive Sessions\n",
    "\n",
    "\n",
    "In Python, **all** code executed by the interpreter runs in some module.\n",
    "\n",
    "What about commands typed at the prompt?\n",
    "\n",
    "These are also regarded as being executed within a module — in this case, a module called `__main__`.\n",
    "\n",
    "To check this, we can look at the current module name via the value of `__name__`"
   ]
  },
  {
   "cell_type": "code",
   "execution_count": null,
   "id": "c9a0c62c",
   "metadata": {},
   "outputs": [],
   "source": [
    "print(__name__)"
   ]
  },
  {
   "cell_type": "markdown",
   "id": "42758fe5",
   "metadata": {},
   "source": [
    "When we run a script using IPython’s `run` command, the contents of the file are\n",
    "executed as part of `__main__` too.\n",
    "\n",
    "To see this, let’s create a file `mod.py` that prints its own `__name__` attribute"
   ]
  },
  {
   "cell_type": "code",
   "execution_count": null,
   "id": "93f76fea",
   "metadata": {},
   "outputs": [],
   "source": [
    "%%file mod.py\n",
    "print(__name__)"
   ]
  },
  {
   "cell_type": "markdown",
   "id": "a643fad7",
   "metadata": {},
   "source": [
    "Now let’s look at two different ways of running it in IPython"
   ]
  },
  {
   "cell_type": "code",
   "execution_count": null,
   "id": "16752487",
   "metadata": {},
   "outputs": [],
   "source": [
    "import mod  # Standard import"
   ]
  },
  {
   "cell_type": "code",
   "execution_count": null,
   "id": "5694acba",
   "metadata": {},
   "outputs": [],
   "source": [
    "%run mod.py  # Run interactively"
   ]
  },
  {
   "cell_type": "markdown",
   "id": "9679f781",
   "metadata": {},
   "source": [
    "In the second case, the code is executed as part of `__main__`, so `__name__` is equal to `__main__`.\n",
    "\n",
    "To see the contents of the namespace of `__main__` we use `vars()` rather than `vars(__main__)`.\n",
    "\n",
    "If you do this in IPython, you will see a whole lot of variables that IPython\n",
    "needs, and has initialized when you started up your session.\n",
    "\n",
    "If you prefer to see only the variables you have initialized, use the IPython\n",
    "\"magic\" command `%whos`"
   ]
  },
  {
   "cell_type": "code",
   "execution_count": null,
   "id": "b121fd2f",
   "metadata": {},
   "outputs": [],
   "source": [
    "x = 2\n",
    "y = 3\n",
    "import numpy as np\n",
    "\n",
    "%whos"
   ]
  },
  {
   "cell_type": "markdown",
   "id": "8199b862",
   "metadata": {},
   "source": [
    "### Global and local namespaces\n",
    "\n",
    "The **global namespace** is *the namespace of the module currently being executed*.\n",
    "\n",
    "For example, suppose that we start the interpreter and begin making assignments.\n",
    "\n",
    "We are now working in the module `__main__`, and hence the namespace for `__main__` is the global namespace."
   ]
  },
  {
   "cell_type": "markdown",
   "id": "c2147883",
   "metadata": {},
   "source": [
    "When we call a function, the interpreter creates a **local namespace** for that\n",
    "function, and registers the variables in that namespace.\n",
    "\n",
    "Variables in the local namespace are called *local variables*.\n",
    "\n",
    "After the function returns, the function's namespace is deallocated and lost.\n",
    "\n",
    "While the function is executing, we can view the contents of the local namespace with `locals()`.\n",
    "\n",
    "For example, consider"
   ]
  },
  {
   "cell_type": "code",
   "execution_count": null,
   "id": "7eb4f56a",
   "metadata": {},
   "outputs": [],
   "source": [
    "def f(x):\n",
    "    a = 2\n",
    "    print(locals())\n",
    "    return a * x"
   ]
  },
  {
   "cell_type": "markdown",
   "id": "e643e33c",
   "metadata": {},
   "source": [
    "Now let’s call the function"
   ]
  },
  {
   "cell_type": "code",
   "execution_count": null,
   "id": "46432ecb",
   "metadata": {},
   "outputs": [],
   "source": [
    "f(1)"
   ]
  },
  {
   "cell_type": "markdown",
   "id": "e1f31835",
   "metadata": {},
   "source": [
    "### The `__builtins__` Namespace\n",
    "\n",
    "\n",
    "We have been using various built-in functions, such as `max(), dir(), str(), list(), len(), range(), type()`, etc.\n",
    "\n",
    "How does access to these names work?\n",
    "\n",
    "- These definitions are stored in a module called `__builtin__`.  \n",
    "- They have their own namespace called `__builtins__`."
   ]
  },
  {
   "cell_type": "code",
   "execution_count": null,
   "id": "a8009a9f",
   "metadata": {},
   "outputs": [],
   "source": [
    "# Show the first 10 names in `__builtins__`\n",
    "dir(__builtins__)[:10]"
   ]
  },
  {
   "cell_type": "markdown",
   "id": "423fb98b",
   "metadata": {},
   "source": [
    "We can access elements of the namespace as follows"
   ]
  },
  {
   "cell_type": "code",
   "execution_count": null,
   "id": "f28201a5",
   "metadata": {},
   "outputs": [],
   "source": [
    "__builtins__.max"
   ]
  },
  {
   "cell_type": "markdown",
   "id": "3054f13d",
   "metadata": {},
   "source": [
    "But `__builtins__` is special, because we can always access them directly as well"
   ]
  },
  {
   "cell_type": "code",
   "execution_count": null,
   "id": "3c648bca",
   "metadata": {},
   "outputs": [],
   "source": [
    "max"
   ]
  },
  {
   "cell_type": "code",
   "execution_count": null,
   "id": "b1c091a6",
   "metadata": {},
   "outputs": [],
   "source": [
    "__builtins__.max == max"
   ]
  },
  {
   "cell_type": "markdown",
   "id": "a58439b4",
   "metadata": {},
   "source": [
    "## Name Resolution\n",
    "\n",
    "Namespaces help us organize variable names.\n",
    "\n",
    "(Type `import this` at the prompt and look at the last item that’s printed)\n",
    "\n",
    "At any point of execution, there are at least two namespaces that can be accessed directly.\n",
    "\n",
    "(“Accessed directly” means without using a dot, as in  `pi` rather than `math.pi`)\n",
    "\n",
    "These namespaces are\n",
    "\n",
    "- The global namespace (of the module being executed)  \n",
    "- The builtin namespace  \n",
    "\n",
    "\n",
    "If the interpreter is executing a function, then the directly accessible namespaces are\n",
    "\n",
    "- The local namespace of the function  \n",
    "- The global namespace (of the module being executed)  \n",
    "- The builtin namespace  \n",
    "\n",
    "\n",
    "Sometimes functions are defined within other functions, like so"
   ]
  },
  {
   "cell_type": "code",
   "execution_count": null,
   "id": "befa9186",
   "metadata": {},
   "outputs": [],
   "source": [
    "def f():\n",
    "    a = 2\n",
    "    def g():\n",
    "        b = 4\n",
    "        print(a * b)\n",
    "    g()"
   ]
  },
  {
   "cell_type": "markdown",
   "id": "9e2d1990",
   "metadata": {},
   "source": [
    "Here `f` is the *enclosing function* for `g`, and each function gets its\n",
    "own namespaces.\n",
    "\n",
    "Now we can give the rule for how namespace resolution works:\n",
    "\n",
    "The order in which the interpreter searches for names is\n",
    "\n",
    "1. the local namespace (if it exists)  \n",
    "1. the hierarchy of enclosing namespaces (if they exist)  \n",
    "1. the global namespace  \n",
    "1. the builtin namespace  \n",
    "\n",
    "\n",
    "If the name is not in any of these namespaces, the interpreter raises a `NameError`.\n",
    "\n",
    "This is called the **LEGB rule** (local, enclosing, global, builtin)."
   ]
  },
  {
   "cell_type": "markdown",
   "id": "466fa201",
   "metadata": {},
   "source": [
    "### Mutable Versus Immutable Parameters\n",
    "\n",
    "This is a good time to say a little more about mutable vs immutable objects.\n",
    "\n",
    "Consider the code segment"
   ]
  },
  {
   "cell_type": "code",
   "execution_count": null,
   "id": "31b8467c",
   "metadata": {},
   "outputs": [],
   "source": [
    "def f(x):\n",
    "    x = x + 1\n",
    "    return x\n",
    "\n",
    "x = 100\n",
    "print(f\"f(x) = {f(x)} and x = {x}\")"
   ]
  },
  {
   "cell_type": "markdown",
   "id": "4792c7a3",
   "metadata": {},
   "source": [
    "Here's what happens\n",
    "\n",
    "* First `f` and `x` are registered in the global namespace.\n",
    "* The call `f(x)` creates a local namespace and adds `x` to it, bound to `100`.\n",
    "* Next, this local `x` is rebound to the new integer object `101`, and this value is returned.\n",
    " \n",
    "\n",
    "None of this affects the global `x`.\n",
    "\n",
    "However, it’s a different story when we use a **mutable** data type such as a list"
   ]
  },
  {
   "cell_type": "code",
   "execution_count": null,
   "id": "dcc1d55d",
   "metadata": {},
   "outputs": [],
   "source": [
    "def f(x):\n",
    "    x[0] = x[0] + 1\n",
    "    return x\n",
    "\n",
    "x = [100]\n",
    "print(f\"f(x) = {f(x)} and x = {x}\")"
   ]
  },
  {
   "cell_type": "markdown",
   "id": "0e3c16b2",
   "metadata": {},
   "source": [
    "Here’s what happens\n",
    "\n",
    "- `f` is registered as a function in the global namespace  \n",
    "- `x` is bound to `[100]` in the global namespace  \n",
    "- The call `f(x)`  \n",
    "  - Creates a local namespace  \n",
    "  - Adds `x` to the local namespace, bound to `[100]`  \n",
    "  - Mutates the data in the list to `[101]`\n",
    "  - Returns the mutated list\n",
    " \n",
    "Global `x` is still bound to the (now mutated) list"
   ]
  }
 ],
 "metadata": {
  "jupytext": {
   "default_lexer": "ipython3"
  },
  "kernelspec": {
   "display_name": "Python 3 (ipykernel)",
   "language": "python",
   "name": "python3"
  },
  "language_info": {
   "codemirror_mode": {
    "name": "ipython",
    "version": 3
   },
   "file_extension": ".py",
   "mimetype": "text/x-python",
   "name": "python",
   "nbconvert_exporter": "python",
   "pygments_lexer": "ipython3",
   "version": "3.9.13"
  }
 },
 "nbformat": 4,
 "nbformat_minor": 5
}
