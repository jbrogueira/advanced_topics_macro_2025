{
 "cells": [
  {
   "cell_type": "markdown",
   "id": "a1f4f580",
   "metadata": {},
   "source": [
    "## Quick scientific Python introduction\n",
    "\n",
    "This notebook does a quick tour over the functionality that the scientific Python stack exposes (adapted from this [notebook](https://github.com/QuantEcon/bank_of_portugal_2025/blob/main/tuesday/2_scientific_python_intro.ipynb))."
   ]
  },
  {
   "cell_type": "markdown",
   "id": "cea69703",
   "metadata": {},
   "source": [
    "## Numpy"
   ]
  },
  {
   "cell_type": "code",
   "execution_count": 1,
   "id": "986cc227",
   "metadata": {
    "execution": {
     "iopub.execute_input": "2025-10-07T05:07:46.071739Z",
     "iopub.status.busy": "2025-10-07T05:07:46.071109Z",
     "iopub.status.idle": "2025-10-07T05:07:46.115541Z",
     "shell.execute_reply": "2025-10-07T05:07:46.115092Z"
    }
   },
   "outputs": [],
   "source": [
    "import numpy as np"
   ]
  },
  {
   "cell_type": "markdown",
   "id": "2a9d00f1",
   "metadata": {},
   "source": [
    "NumPy is one of the core scientific libraries used in Python.\n",
    "\n",
    "It introduces an \"array\" type. \n",
    "\n",
    "This array type allows for users to represent vectors, matrices, and higher dimensional arrays."
   ]
  },
  {
   "cell_type": "code",
   "execution_count": 2,
   "id": "127cef59",
   "metadata": {
    "execution": {
     "iopub.execute_input": "2025-10-07T05:07:46.117038Z",
     "iopub.status.busy": "2025-10-07T05:07:46.116846Z",
     "iopub.status.idle": "2025-10-07T05:07:46.119573Z",
     "shell.execute_reply": "2025-10-07T05:07:46.119150Z"
    }
   },
   "outputs": [],
   "source": [
    "x = np.array([0.0, 1.0, 2.0])\n",
    "\n",
    "y = np.array([[0.0, 1.0], \n",
    "              [2.0, 3.0], \n",
    "              [4.0, 5.0]])"
   ]
  },
  {
   "cell_type": "code",
   "execution_count": 3,
   "id": "059f1caf",
   "metadata": {
    "execution": {
     "iopub.execute_input": "2025-10-07T05:07:46.120697Z",
     "iopub.status.busy": "2025-10-07T05:07:46.120568Z",
     "iopub.status.idle": "2025-10-07T05:07:46.124462Z",
     "shell.execute_reply": "2025-10-07T05:07:46.124229Z"
    }
   },
   "outputs": [
    {
     "data": {
      "text/plain": [
       "array([0., 1., 2.])"
      ]
     },
     "execution_count": 3,
     "metadata": {},
     "output_type": "execute_result"
    }
   ],
   "source": [
    "x"
   ]
  },
  {
   "cell_type": "code",
   "execution_count": 4,
   "id": "724f5ad1",
   "metadata": {
    "execution": {
     "iopub.execute_input": "2025-10-07T05:07:46.125624Z",
     "iopub.status.busy": "2025-10-07T05:07:46.125465Z",
     "iopub.status.idle": "2025-10-07T05:07:46.128608Z",
     "shell.execute_reply": "2025-10-07T05:07:46.128132Z"
    }
   },
   "outputs": [
    {
     "data": {
      "text/plain": [
       "array([[0., 1.],\n",
       "       [2., 3.],\n",
       "       [4., 5.]])"
      ]
     },
     "execution_count": 4,
     "metadata": {},
     "output_type": "execute_result"
    }
   ],
   "source": [
    "y"
   ]
  },
  {
   "cell_type": "code",
   "execution_count": 5,
   "id": "4d52a97e",
   "metadata": {
    "execution": {
     "iopub.execute_input": "2025-10-07T05:07:46.129875Z",
     "iopub.status.busy": "2025-10-07T05:07:46.129680Z",
     "iopub.status.idle": "2025-10-07T05:07:46.132230Z",
     "shell.execute_reply": "2025-10-07T05:07:46.131996Z"
    }
   },
   "outputs": [
    {
     "data": {
      "text/plain": [
       "(3, 2)"
      ]
     },
     "execution_count": 5,
     "metadata": {},
     "output_type": "execute_result"
    }
   ],
   "source": [
    "y.shape"
   ]
  },
  {
   "cell_type": "code",
   "execution_count": 6,
   "id": "6a061114",
   "metadata": {
    "execution": {
     "iopub.execute_input": "2025-10-07T05:07:46.133312Z",
     "iopub.status.busy": "2025-10-07T05:07:46.133199Z",
     "iopub.status.idle": "2025-10-07T05:07:46.135792Z",
     "shell.execute_reply": "2025-10-07T05:07:46.135550Z"
    }
   },
   "outputs": [
    {
     "data": {
      "text/plain": [
       "array([[0., 2., 4.],\n",
       "       [1., 3., 5.]])"
      ]
     },
     "execution_count": 6,
     "metadata": {},
     "output_type": "execute_result"
    }
   ],
   "source": [
    "y.T"
   ]
  },
  {
   "cell_type": "code",
   "execution_count": 7,
   "id": "d61c0b0c",
   "metadata": {
    "execution": {
     "iopub.execute_input": "2025-10-07T05:07:46.136892Z",
     "iopub.status.busy": "2025-10-07T05:07:46.136710Z",
     "iopub.status.idle": "2025-10-07T05:07:46.139301Z",
     "shell.execute_reply": "2025-10-07T05:07:46.138882Z"
    }
   },
   "outputs": [
    {
     "data": {
      "text/plain": [
       "(2, 3)"
      ]
     },
     "execution_count": 7,
     "metadata": {},
     "output_type": "execute_result"
    }
   ],
   "source": [
    "y.T.shape"
   ]
  },
  {
   "cell_type": "markdown",
   "id": "5f57c511",
   "metadata": {},
   "source": [
    "**Indexing**"
   ]
  },
  {
   "cell_type": "markdown",
   "id": "94c10e3c",
   "metadata": {},
   "source": [
    "We can select elements out of the array by indexing into the arrays"
   ]
  },
  {
   "cell_type": "code",
   "execution_count": 8,
   "id": "85753df6",
   "metadata": {
    "execution": {
     "iopub.execute_input": "2025-10-07T05:07:46.140393Z",
     "iopub.status.busy": "2025-10-07T05:07:46.140278Z",
     "iopub.status.idle": "2025-10-07T05:07:46.142709Z",
     "shell.execute_reply": "2025-10-07T05:07:46.142453Z"
    }
   },
   "outputs": [
    {
     "data": {
      "text/plain": [
       "np.float64(0.0)"
      ]
     },
     "execution_count": 8,
     "metadata": {},
     "output_type": "execute_result"
    }
   ],
   "source": [
    "x[0]"
   ]
  },
  {
   "cell_type": "code",
   "execution_count": 9,
   "id": "da210c09",
   "metadata": {
    "execution": {
     "iopub.execute_input": "2025-10-07T05:07:46.143744Z",
     "iopub.status.busy": "2025-10-07T05:07:46.143629Z",
     "iopub.status.idle": "2025-10-07T05:07:46.146147Z",
     "shell.execute_reply": "2025-10-07T05:07:46.145770Z"
    }
   },
   "outputs": [
    {
     "data": {
      "text/plain": [
       "array([1., 3., 5.])"
      ]
     },
     "execution_count": 9,
     "metadata": {},
     "output_type": "execute_result"
    }
   ],
   "source": [
    "y[:, 1]  # Select column 1 "
   ]
  },
  {
   "cell_type": "markdown",
   "id": "4a3d6861",
   "metadata": {},
   "source": [
    "### Special array creation methods"
   ]
  },
  {
   "cell_type": "markdown",
   "id": "ca3b959e",
   "metadata": {},
   "source": [
    "**Create an empty array**"
   ]
  },
  {
   "cell_type": "code",
   "execution_count": 10,
   "id": "ecfbccc3",
   "metadata": {
    "execution": {
     "iopub.execute_input": "2025-10-07T05:07:46.147313Z",
     "iopub.status.busy": "2025-10-07T05:07:46.147199Z",
     "iopub.status.idle": "2025-10-07T05:07:46.149898Z",
     "shell.execute_reply": "2025-10-07T05:07:46.149611Z"
    }
   },
   "outputs": [
    {
     "data": {
      "text/plain": [
       "array([[2.67019305e-316, 0.00000000e+000],\n",
       "       [6.34651317e-310, 6.34651317e-310],\n",
       "       [6.34651317e-310, 6.34651317e-310],\n",
       "       [6.34651317e-310, 6.34651317e-310],\n",
       "       [6.34651317e-310, 6.34651317e-310]])"
      ]
     },
     "execution_count": 10,
     "metadata": {},
     "output_type": "execute_result"
    }
   ],
   "source": [
    "np.empty((5, 2))"
   ]
  },
  {
   "cell_type": "markdown",
   "id": "c1b5bf7c",
   "metadata": {},
   "source": [
    "**Create an array filled with zeros**"
   ]
  },
  {
   "cell_type": "code",
   "execution_count": 11,
   "id": "0b635222",
   "metadata": {
    "execution": {
     "iopub.execute_input": "2025-10-07T05:07:46.150956Z",
     "iopub.status.busy": "2025-10-07T05:07:46.150844Z",
     "iopub.status.idle": "2025-10-07T05:07:46.153242Z",
     "shell.execute_reply": "2025-10-07T05:07:46.153013Z"
    }
   },
   "outputs": [
    {
     "data": {
      "text/plain": [
       "array([0., 0., 0., 0., 0., 0., 0., 0., 0., 0.])"
      ]
     },
     "execution_count": 11,
     "metadata": {},
     "output_type": "execute_result"
    }
   ],
   "source": [
    "np.zeros(10)"
   ]
  },
  {
   "cell_type": "markdown",
   "id": "4141bd65",
   "metadata": {},
   "source": [
    "**Create an array filled with ones**"
   ]
  },
  {
   "cell_type": "code",
   "execution_count": 12,
   "id": "2e53a233",
   "metadata": {
    "execution": {
     "iopub.execute_input": "2025-10-07T05:07:46.154321Z",
     "iopub.status.busy": "2025-10-07T05:07:46.154208Z",
     "iopub.status.idle": "2025-10-07T05:07:46.156731Z",
     "shell.execute_reply": "2025-10-07T05:07:46.156492Z"
    }
   },
   "outputs": [
    {
     "data": {
      "text/plain": [
       "array([[1., 1., 1., 1., 1.],\n",
       "       [1., 1., 1., 1., 1.]])"
      ]
     },
     "execution_count": 12,
     "metadata": {},
     "output_type": "execute_result"
    }
   ],
   "source": [
    "np.ones((2, 5))"
   ]
  },
  {
   "cell_type": "markdown",
   "id": "a6ce9c14",
   "metadata": {},
   "source": [
    "**Create a vector filled with numbers from i to n**"
   ]
  },
  {
   "cell_type": "code",
   "execution_count": 13,
   "id": "c329d000",
   "metadata": {
    "execution": {
     "iopub.execute_input": "2025-10-07T05:07:46.157952Z",
     "iopub.status.busy": "2025-10-07T05:07:46.157654Z",
     "iopub.status.idle": "2025-10-07T05:07:46.160468Z",
     "shell.execute_reply": "2025-10-07T05:07:46.160074Z"
    }
   },
   "outputs": [
    {
     "data": {
      "text/plain": [
       "array([1, 2, 3, 4, 5, 6])"
      ]
     },
     "execution_count": 13,
     "metadata": {},
     "output_type": "execute_result"
    }
   ],
   "source": [
    "np.arange(1, 7)"
   ]
  },
  {
   "cell_type": "markdown",
   "id": "480bcb61",
   "metadata": {},
   "source": [
    "**Create a vector filled with n evenly spaced numbers**"
   ]
  },
  {
   "cell_type": "code",
   "execution_count": 14,
   "id": "739b5643",
   "metadata": {
    "execution": {
     "iopub.execute_input": "2025-10-07T05:07:46.161494Z",
     "iopub.status.busy": "2025-10-07T05:07:46.161382Z",
     "iopub.status.idle": "2025-10-07T05:07:46.163850Z",
     "shell.execute_reply": "2025-10-07T05:07:46.163607Z"
    }
   },
   "outputs": [
    {
     "data": {
      "text/plain": [
       "array([0. , 0.5, 1. , 1.5, 2. , 2.5, 3. , 3.5, 4. , 4.5, 5. ])"
      ]
     },
     "execution_count": 14,
     "metadata": {},
     "output_type": "execute_result"
    }
   ],
   "source": [
    "n = 11\n",
    "np.linspace(0, 5, n)"
   ]
  },
  {
   "cell_type": "markdown",
   "id": "a640b84e",
   "metadata": {},
   "source": [
    "**Create a vector filled with U(0, 1)**"
   ]
  },
  {
   "cell_type": "code",
   "execution_count": 15,
   "id": "13542ad7",
   "metadata": {
    "execution": {
     "iopub.execute_input": "2025-10-07T05:07:46.164891Z",
     "iopub.status.busy": "2025-10-07T05:07:46.164777Z",
     "iopub.status.idle": "2025-10-07T05:07:46.170550Z",
     "shell.execute_reply": "2025-10-07T05:07:46.170269Z"
    }
   },
   "outputs": [
    {
     "data": {
      "text/plain": [
       "array([[0.58577648, 0.96712023, 0.59932825],\n",
       "       [0.96009915, 0.44275178, 0.39662447]])"
      ]
     },
     "execution_count": 15,
     "metadata": {},
     "output_type": "execute_result"
    }
   ],
   "source": [
    "np.random.rand(2, 3)"
   ]
  },
  {
   "cell_type": "code",
   "execution_count": 16,
   "id": "d6784023",
   "metadata": {
    "execution": {
     "iopub.execute_input": "2025-10-07T05:07:46.171639Z",
     "iopub.status.busy": "2025-10-07T05:07:46.171502Z",
     "iopub.status.idle": "2025-10-07T05:07:46.174053Z",
     "shell.execute_reply": "2025-10-07T05:07:46.173781Z"
    }
   },
   "outputs": [
    {
     "data": {
      "text/plain": [
       "array([[0.18192086, 0.76947727, 0.28859876],\n",
       "       [0.40704672, 0.84089635, 0.4344663 ]])"
      ]
     },
     "execution_count": 16,
     "metadata": {},
     "output_type": "execute_result"
    }
   ],
   "source": [
    "np.random.rand(2, 3)   # Redraw"
   ]
  },
  {
   "cell_type": "markdown",
   "id": "4bcf70f4",
   "metadata": {},
   "source": [
    "**Create a vector filled with N(0, 1)**"
   ]
  },
  {
   "cell_type": "code",
   "execution_count": 17,
   "id": "6c7b4815",
   "metadata": {
    "execution": {
     "iopub.execute_input": "2025-10-07T05:07:46.175144Z",
     "iopub.status.busy": "2025-10-07T05:07:46.175030Z",
     "iopub.status.idle": "2025-10-07T05:07:46.177641Z",
     "shell.execute_reply": "2025-10-07T05:07:46.177406Z"
    }
   },
   "outputs": [
    {
     "data": {
      "text/plain": [
       "array([[[-0.87180096,  0.52472137,  1.21458882],\n",
       "        [ 0.5760903 , -1.16737777, -0.34877928]],\n",
       "\n",
       "       [[-0.274621  ,  0.73570092, -0.51540296],\n",
       "        [-1.78229022,  0.72822542,  1.9380808 ]]])"
      ]
     },
     "execution_count": 17,
     "metadata": {},
     "output_type": "execute_result"
    }
   ],
   "source": [
    "np.random.randn(2, 2, 3)"
   ]
  },
  {
   "cell_type": "code",
   "execution_count": 18,
   "id": "62c0dcd2",
   "metadata": {
    "execution": {
     "iopub.execute_input": "2025-10-07T05:07:46.178653Z",
     "iopub.status.busy": "2025-10-07T05:07:46.178540Z",
     "iopub.status.idle": "2025-10-07T05:07:46.181015Z",
     "shell.execute_reply": "2025-10-07T05:07:46.180779Z"
    }
   },
   "outputs": [
    {
     "data": {
      "text/plain": [
       "array([[[-0.32239459,  0.84933702,  0.65655915],\n",
       "        [-0.5459196 ,  0.34977587,  1.34393773]],\n",
       "\n",
       "       [[ 0.13363036, -0.86258665, -0.5527573 ],\n",
       "        [ 0.80227092,  0.34610522,  0.40925211]]])"
      ]
     },
     "execution_count": 18,
     "metadata": {},
     "output_type": "execute_result"
    }
   ],
   "source": [
    "np.random.randn(2, 2, 3)  # Redraw"
   ]
  },
  {
   "cell_type": "markdown",
   "id": "4e7fd12d",
   "metadata": {},
   "source": [
    "### Operations on Arrays\n",
    "\n",
    "Operations on arrays are typically element by element."
   ]
  },
  {
   "cell_type": "code",
   "execution_count": 19,
   "id": "bc48d15d",
   "metadata": {
    "execution": {
     "iopub.execute_input": "2025-10-07T05:07:46.182046Z",
     "iopub.status.busy": "2025-10-07T05:07:46.181934Z",
     "iopub.status.idle": "2025-10-07T05:07:46.185207Z",
     "shell.execute_reply": "2025-10-07T05:07:46.184949Z"
    }
   },
   "outputs": [
    {
     "name": "stdout",
     "output_type": "stream",
     "text": [
      "    x = [0. 1. 2.]\n",
      "    z = [10. 10. 10.]\n",
      "z + x = [10. 11. 12.]\n",
      "z - x = [10.  9.  8.]\n",
      "z * x = [ 0. 10. 20.]\n",
      "z / x = [inf 10.  5.]\n",
      "z**x  = [  1.  10. 100.]\n"
     ]
    },
    {
     "name": "stderr",
     "output_type": "stream",
     "text": [
      "/tmp/ipykernel_19990/4187061317.py:7: RuntimeWarning: divide by zero encountered in divide\n",
      "  print(f\"z / x = {z / x}\")\n"
     ]
    }
   ],
   "source": [
    "z = np.full(3, 10.0)\n",
    "print(f\"    x = {x}\")\n",
    "print(f\"    z = {z}\")\n",
    "print(f\"z + x = {z + x}\")\n",
    "print(f\"z - x = {z - x}\")\n",
    "print(f\"z * x = {z * x}\")\n",
    "print(f\"z / x = {z / x}\")\n",
    "print(f\"z**x  = {z ** x}\")"
   ]
  },
  {
   "cell_type": "markdown",
   "id": "c71bd4db",
   "metadata": {},
   "source": [
    "**Operations between scalars and arrays**\n",
    "\n",
    "These operations do mostly what you would expect -- They apply the scalar operation to each individual element of the array."
   ]
  },
  {
   "cell_type": "code",
   "execution_count": 20,
   "id": "ff0a57fb",
   "metadata": {
    "execution": {
     "iopub.execute_input": "2025-10-07T05:07:46.186387Z",
     "iopub.status.busy": "2025-10-07T05:07:46.186272Z",
     "iopub.status.idle": "2025-10-07T05:07:46.188712Z",
     "shell.execute_reply": "2025-10-07T05:07:46.188477Z"
    }
   },
   "outputs": [
    {
     "data": {
      "text/plain": [
       "array([0., 1., 2.])"
      ]
     },
     "execution_count": 20,
     "metadata": {},
     "output_type": "execute_result"
    }
   ],
   "source": [
    "x"
   ]
  },
  {
   "cell_type": "code",
   "execution_count": 21,
   "id": "2774d69e",
   "metadata": {
    "execution": {
     "iopub.execute_input": "2025-10-07T05:07:46.189713Z",
     "iopub.status.busy": "2025-10-07T05:07:46.189599Z",
     "iopub.status.idle": "2025-10-07T05:07:46.192074Z",
     "shell.execute_reply": "2025-10-07T05:07:46.191843Z"
    }
   },
   "outputs": [
    {
     "data": {
      "text/plain": [
       "array([1., 2., 3.])"
      ]
     },
     "execution_count": 21,
     "metadata": {},
     "output_type": "execute_result"
    }
   ],
   "source": [
    "x + 1"
   ]
  },
  {
   "cell_type": "code",
   "execution_count": 22,
   "id": "8d25103a",
   "metadata": {
    "execution": {
     "iopub.execute_input": "2025-10-07T05:07:46.193176Z",
     "iopub.status.busy": "2025-10-07T05:07:46.193061Z",
     "iopub.status.idle": "2025-10-07T05:07:46.195502Z",
     "shell.execute_reply": "2025-10-07T05:07:46.195270Z"
    }
   },
   "outputs": [
    {
     "data": {
      "text/plain": [
       "array([0., 3., 6.])"
      ]
     },
     "execution_count": 22,
     "metadata": {},
     "output_type": "execute_result"
    }
   ],
   "source": [
    "x * 3"
   ]
  },
  {
   "cell_type": "code",
   "execution_count": 23,
   "id": "b85f6efb",
   "metadata": {
    "execution": {
     "iopub.execute_input": "2025-10-07T05:07:46.196572Z",
     "iopub.status.busy": "2025-10-07T05:07:46.196458Z",
     "iopub.status.idle": "2025-10-07T05:07:46.198985Z",
     "shell.execute_reply": "2025-10-07T05:07:46.198689Z"
    }
   },
   "outputs": [
    {
     "data": {
      "text/plain": [
       "array([-3., -2., -1.])"
      ]
     },
     "execution_count": 23,
     "metadata": {},
     "output_type": "execute_result"
    }
   ],
   "source": [
    "x - 3"
   ]
  },
  {
   "cell_type": "markdown",
   "id": "ba79305c",
   "metadata": {},
   "source": [
    "#### Operations between arrays of different sizes\n",
    "\n",
    "In general, for pointwise operations between arrays of different shape, NumPy uses *broadcasting* rules."
   ]
  },
  {
   "cell_type": "code",
   "execution_count": 24,
   "id": "a1a69b97",
   "metadata": {
    "execution": {
     "iopub.execute_input": "2025-10-07T05:07:46.199990Z",
     "iopub.status.busy": "2025-10-07T05:07:46.199877Z",
     "iopub.status.idle": "2025-10-07T05:07:46.201749Z",
     "shell.execute_reply": "2025-10-07T05:07:46.201439Z"
    }
   },
   "outputs": [],
   "source": [
    "z = np.ones((3, 1)) * 10"
   ]
  },
  {
   "cell_type": "code",
   "execution_count": 25,
   "id": "58d8af05",
   "metadata": {
    "execution": {
     "iopub.execute_input": "2025-10-07T05:07:46.203114Z",
     "iopub.status.busy": "2025-10-07T05:07:46.202695Z",
     "iopub.status.idle": "2025-10-07T05:07:46.205080Z",
     "shell.execute_reply": "2025-10-07T05:07:46.204767Z"
    }
   },
   "outputs": [
    {
     "data": {
      "text/plain": [
       "array([[10.],\n",
       "       [10.],\n",
       "       [10.]])"
      ]
     },
     "execution_count": 25,
     "metadata": {},
     "output_type": "execute_result"
    }
   ],
   "source": [
    "z"
   ]
  },
  {
   "cell_type": "code",
   "execution_count": 26,
   "id": "03106367",
   "metadata": {
    "execution": {
     "iopub.execute_input": "2025-10-07T05:07:46.206112Z",
     "iopub.status.busy": "2025-10-07T05:07:46.205999Z",
     "iopub.status.idle": "2025-10-07T05:07:46.208527Z",
     "shell.execute_reply": "2025-10-07T05:07:46.208283Z"
    }
   },
   "outputs": [
    {
     "data": {
      "text/plain": [
       "array([[0., 1.],\n",
       "       [2., 3.],\n",
       "       [4., 5.]])"
      ]
     },
     "execution_count": 26,
     "metadata": {},
     "output_type": "execute_result"
    }
   ],
   "source": [
    "y"
   ]
  },
  {
   "cell_type": "code",
   "execution_count": 27,
   "id": "cbde4604",
   "metadata": {
    "execution": {
     "iopub.execute_input": "2025-10-07T05:07:46.209624Z",
     "iopub.status.busy": "2025-10-07T05:07:46.209511Z",
     "iopub.status.idle": "2025-10-07T05:07:46.212006Z",
     "shell.execute_reply": "2025-10-07T05:07:46.211735Z"
    }
   },
   "outputs": [
    {
     "data": {
      "text/plain": [
       "array([[10., 11.],\n",
       "       [12., 13.],\n",
       "       [14., 15.]])"
      ]
     },
     "execution_count": 27,
     "metadata": {},
     "output_type": "execute_result"
    }
   ],
   "source": [
    "z + y"
   ]
  },
  {
   "cell_type": "markdown",
   "id": "da24b8a8",
   "metadata": {},
   "source": [
    "#### Matrix Multiplication"
   ]
  },
  {
   "cell_type": "code",
   "execution_count": 28,
   "id": "13ea4d46",
   "metadata": {
    "execution": {
     "iopub.execute_input": "2025-10-07T05:07:46.213158Z",
     "iopub.status.busy": "2025-10-07T05:07:46.213046Z",
     "iopub.status.idle": "2025-10-07T05:07:46.226159Z",
     "shell.execute_reply": "2025-10-07T05:07:46.225729Z"
    }
   },
   "outputs": [
    {
     "name": "stdout",
     "output_type": "stream",
     "text": [
      "[[0. 1.]\n",
      " [2. 3.]\n",
      " [4. 5.]]\n",
      "[[ 1.  3.  5.]\n",
      " [ 3. 13. 23.]\n",
      " [ 5. 23. 41.]]\n"
     ]
    }
   ],
   "source": [
    "print(y)\n",
    "print(y @ y.T)"
   ]
  },
  {
   "cell_type": "markdown",
   "id": "f42aafb6",
   "metadata": {},
   "source": [
    "We can use `@` for inner products too, even for \"flat\" arrays."
   ]
  },
  {
   "cell_type": "code",
   "execution_count": 29,
   "id": "63e17afa",
   "metadata": {
    "execution": {
     "iopub.execute_input": "2025-10-07T05:07:46.227273Z",
     "iopub.status.busy": "2025-10-07T05:07:46.227158Z",
     "iopub.status.idle": "2025-10-07T05:07:46.229723Z",
     "shell.execute_reply": "2025-10-07T05:07:46.229318Z"
    }
   },
   "outputs": [
    {
     "name": "stdout",
     "output_type": "stream",
     "text": [
      "The shape of z is (10,)\n",
      "Explicit inner product: 7.262871634626699\n",
      "Using @ 7.2628716346267\n"
     ]
    }
   ],
   "source": [
    "z = np.random.randn(10)\n",
    "print(f\"The shape of z is {z.shape}\")\n",
    "print(\"Explicit inner product:\", np.sum(z * z))\n",
    "print(\"Using @\", z @ z)"
   ]
  },
  {
   "cell_type": "markdown",
   "id": "3b3400c3",
   "metadata": {},
   "source": [
    "### Reductions\n",
    "\n",
    "In NumPy-speak, *reductions* are functions that map an array into a single value.\n",
    "\n",
    "Here we demonstrate a few of the most common array functions and some reductions:"
   ]
  },
  {
   "cell_type": "code",
   "execution_count": 30,
   "id": "b5ad05af",
   "metadata": {
    "execution": {
     "iopub.execute_input": "2025-10-07T05:07:46.230913Z",
     "iopub.status.busy": "2025-10-07T05:07:46.230719Z",
     "iopub.status.idle": "2025-10-07T05:07:46.233347Z",
     "shell.execute_reply": "2025-10-07T05:07:46.232937Z"
    }
   },
   "outputs": [
    {
     "data": {
      "text/plain": [
       "array([0., 1., 3.])"
      ]
     },
     "execution_count": 30,
     "metadata": {},
     "output_type": "execute_result"
    }
   ],
   "source": [
    "np.cumsum(x)"
   ]
  },
  {
   "cell_type": "code",
   "execution_count": 31,
   "id": "a4ff1142",
   "metadata": {
    "execution": {
     "iopub.execute_input": "2025-10-07T05:07:46.234517Z",
     "iopub.status.busy": "2025-10-07T05:07:46.234400Z",
     "iopub.status.idle": "2025-10-07T05:07:46.237109Z",
     "shell.execute_reply": "2025-10-07T05:07:46.236782Z"
    }
   },
   "outputs": [
    {
     "data": {
      "text/plain": [
       "np.float64(-0.24617311437923278)"
      ]
     },
     "execution_count": 31,
     "metadata": {},
     "output_type": "execute_result"
    }
   ],
   "source": [
    "np.mean(z)"
   ]
  },
  {
   "cell_type": "code",
   "execution_count": 32,
   "id": "b8d16fd3",
   "metadata": {
    "execution": {
     "iopub.execute_input": "2025-10-07T05:07:46.238217Z",
     "iopub.status.busy": "2025-10-07T05:07:46.238101Z",
     "iopub.status.idle": "2025-10-07T05:07:46.240600Z",
     "shell.execute_reply": "2025-10-07T05:07:46.240358Z"
    }
   },
   "outputs": [
    {
     "data": {
      "text/plain": [
       "np.float64(0.6656859612194991)"
      ]
     },
     "execution_count": 32,
     "metadata": {},
     "output_type": "execute_result"
    }
   ],
   "source": [
    "np.var(z)"
   ]
  },
  {
   "cell_type": "code",
   "execution_count": 33,
   "id": "960394d8",
   "metadata": {
    "execution": {
     "iopub.execute_input": "2025-10-07T05:07:46.241681Z",
     "iopub.status.busy": "2025-10-07T05:07:46.241552Z",
     "iopub.status.idle": "2025-10-07T05:07:46.246089Z",
     "shell.execute_reply": "2025-10-07T05:07:46.245771Z"
    }
   },
   "outputs": [
    {
     "data": {
      "text/plain": [
       "np.float64(1.0024702575379139)"
      ]
     },
     "execution_count": 33,
     "metadata": {},
     "output_type": "execute_result"
    }
   ],
   "source": [
    "np.std(np.random.randn(100_000))"
   ]
  },
  {
   "cell_type": "markdown",
   "id": "95fd5f85",
   "metadata": {},
   "source": [
    "### Universal functions\n",
    "\n",
    "Universal functions (\"ufuncs\") are maps scalar-to-scalar maps\n",
    "that can also act on n-dimensional arrays, acting element-by-element."
   ]
  },
  {
   "cell_type": "code",
   "execution_count": 34,
   "id": "5d301304",
   "metadata": {
    "execution": {
     "iopub.execute_input": "2025-10-07T05:07:46.247171Z",
     "iopub.status.busy": "2025-10-07T05:07:46.247056Z",
     "iopub.status.idle": "2025-10-07T05:07:46.249635Z",
     "shell.execute_reply": "2025-10-07T05:07:46.249391Z"
    }
   },
   "outputs": [
    {
     "data": {
      "text/plain": [
       "array([0.        , 0.84147098, 0.90929743])"
      ]
     },
     "execution_count": 34,
     "metadata": {},
     "output_type": "execute_result"
    }
   ],
   "source": [
    "np.sin(x)"
   ]
  },
  {
   "cell_type": "code",
   "execution_count": 35,
   "id": "a31bfe68",
   "metadata": {
    "execution": {
     "iopub.execute_input": "2025-10-07T05:07:46.250717Z",
     "iopub.status.busy": "2025-10-07T05:07:46.250599Z",
     "iopub.status.idle": "2025-10-07T05:07:46.253003Z",
     "shell.execute_reply": "2025-10-07T05:07:46.252748Z"
    }
   },
   "outputs": [
    {
     "data": {
      "text/plain": [
       "array([1.        , 2.71828183, 7.3890561 ])"
      ]
     },
     "execution_count": 35,
     "metadata": {},
     "output_type": "execute_result"
    }
   ],
   "source": [
    "np.exp(x)"
   ]
  },
  {
   "cell_type": "markdown",
   "id": "611ddcf3",
   "metadata": {},
   "source": [
    "## Matplotlib\n",
    "\n",
    "The \"default\" plotting package for most of the Python world is `matplotlib`.\n",
    "\n",
    "It is a very flexible package and allows for creating very good looking graphs (in spite of relatively simple defaults)"
   ]
  },
  {
   "cell_type": "code",
   "execution_count": 36,
   "id": "e08b8810",
   "metadata": {
    "execution": {
     "iopub.execute_input": "2025-10-07T05:07:46.254109Z",
     "iopub.status.busy": "2025-10-07T05:07:46.253992Z",
     "iopub.status.idle": "2025-10-07T05:07:46.472469Z",
     "shell.execute_reply": "2025-10-07T05:07:46.471945Z"
    }
   },
   "outputs": [],
   "source": [
    "import matplotlib.pyplot as plt"
   ]
  },
  {
   "cell_type": "markdown",
   "id": "e8bc268f",
   "metadata": {},
   "source": [
    "### Figure/Axis\n",
    "\n",
    "The main pieces of a graph in `matplotlib` are a \"figure\" and an \"axis\". We’ve found that the easiest way for us to distinguish between the figure and axis objects is to think about them as a framed painting.\n",
    "\n",
    "The axis is the canvas; it is where we “draw” our plots.\n",
    "\n",
    "The figure is the entire framed painting (which inclues the axis itself!).\n",
    "\n",
    "We can see this difference by setting certain elements of the figure to different colors."
   ]
  },
  {
   "cell_type": "code",
   "execution_count": 37,
   "id": "228c6e61",
   "metadata": {
    "execution": {
     "iopub.execute_input": "2025-10-07T05:07:46.474090Z",
     "iopub.status.busy": "2025-10-07T05:07:46.473906Z",
     "iopub.status.idle": "2025-10-07T05:07:46.540766Z",
     "shell.execute_reply": "2025-10-07T05:07:46.540451Z"
    }
   },
   "outputs": [
    {
     "data": {
      "image/png": "[encoded data removed]",
      "text/plain": [
       "<Figure size 640x480 with 1 Axes>"
      ]
     },
     "metadata": {},
     "output_type": "display_data"
    }
   ],
   "source": [
    "fig, ax = plt.subplots()\n",
    "\n",
    "fig.set_facecolor(\"green\")\n",
    "ax.set_facecolor(\"blue\")"
   ]
  },
  {
   "cell_type": "markdown",
   "id": "add3f879",
   "metadata": {},
   "source": [
    "### More"
   ]
  },
  {
   "cell_type": "markdown",
   "id": "da83e3a9",
   "metadata": {},
   "source": [
    "**Scatter plots**"
   ]
  },
  {
   "cell_type": "code",
   "execution_count": 38,
   "id": "acd43362",
   "metadata": {
    "execution": {
     "iopub.execute_input": "2025-10-07T05:07:46.542429Z",
     "iopub.status.busy": "2025-10-07T05:07:46.542246Z",
     "iopub.status.idle": "2025-10-07T05:07:46.641227Z",
     "shell.execute_reply": "2025-10-07T05:07:46.640808Z"
    }
   },
   "outputs": [
    {
     "data": {
      "image/png": "[encoded data removed]",
      "text/plain": [
       "<Figure size 640x480 with 1 Axes>"
      ]
     },
     "metadata": {},
     "output_type": "display_data"
    }
   ],
   "source": [
    "x = np.random.randn(5_000)\n",
    "y = np.random.randn(5_000)\n",
    "\n",
    "fig, ax = plt.subplots()\n",
    "\n",
    "ax.scatter(x, y, color=\"DarkBlue\", alpha=0.05, s=25);"
   ]
  },
  {
   "cell_type": "markdown",
   "id": "d84c30f1",
   "metadata": {},
   "source": [
    "**Line plots**"
   ]
  },
  {
   "cell_type": "code",
   "execution_count": 39,
   "id": "c8f18efb",
   "metadata": {
    "execution": {
     "iopub.execute_input": "2025-10-07T05:07:46.643166Z",
     "iopub.status.busy": "2025-10-07T05:07:46.643008Z",
     "iopub.status.idle": "2025-10-07T05:07:46.719512Z",
     "shell.execute_reply": "2025-10-07T05:07:46.719135Z"
    }
   },
   "outputs": [
    {
     "data": {
      "image/png": "[encoded data removed]",
      "text/plain": [
       "<Figure size 640x480 with 1 Axes>"
      ]
     },
     "metadata": {},
     "output_type": "display_data"
    }
   ],
   "source": [
    "x = np.linspace(0, 10)\n",
    "y = np.sin(x)\n",
    "\n",
    "fig, ax = plt.subplots()\n",
    "\n",
    "ax.plot(x, y, linestyle=\"-\", color=\"k\")\n",
    "ax.plot(x, 2*y, linestyle=\"--\", color=\"k\")\n",
    "\n",
    "# Bonus - Fill between two lines\n",
    "ax.fill_between(x, y, 2*y, color=\"LightBlue\", alpha=0.3);"
   ]
  },
  {
   "cell_type": "markdown",
   "id": "108959b8",
   "metadata": {},
   "source": [
    "**Bar plots**"
   ]
  },
  {
   "cell_type": "code",
   "execution_count": 40,
   "id": "88bc7558",
   "metadata": {
    "execution": {
     "iopub.execute_input": "2025-10-07T05:07:46.720943Z",
     "iopub.status.busy": "2025-10-07T05:07:46.720734Z",
     "iopub.status.idle": "2025-10-07T05:07:46.794000Z",
     "shell.execute_reply": "2025-10-07T05:07:46.793652Z"
    }
   },
   "outputs": [
    {
     "data": {
      "image/png": "[encoded data removed]",
      "text/plain": [
       "<Figure size 600x400 with 1 Axes>"
      ]
     },
     "metadata": {},
     "output_type": "display_data"
    }
   ],
   "source": [
    "x = np.arange(10)\n",
    "y = np.cos(x)\n",
    "fig, ax = plt.subplots(figsize=(6, 4))\n",
    "ax.bar(x, y);"
   ]
  },
  {
   "cell_type": "markdown",
   "id": "8d1362f8",
   "metadata": {},
   "source": [
    "**Histograms**"
   ]
  },
  {
   "cell_type": "code",
   "execution_count": 41,
   "id": "3030803b",
   "metadata": {
    "execution": {
     "iopub.execute_input": "2025-10-07T05:07:46.795302Z",
     "iopub.status.busy": "2025-10-07T05:07:46.795145Z",
     "iopub.status.idle": "2025-10-07T05:07:46.885164Z",
     "shell.execute_reply": "2025-10-07T05:07:46.884785Z"
    }
   },
   "outputs": [
    {
     "data": {
      "image/png": "[encoded data removed]",
      "text/plain": [
       "<Figure size 640x480 with 1 Axes>"
      ]
     },
     "metadata": {},
     "output_type": "display_data"
    }
   ],
   "source": [
    "x = np.random.randn(5000)\n",
    "fig, ax = plt.subplots()\n",
    "ax.hist(x, bins=25, density=True, edgecolor='k', alpha=0.5);"
   ]
  },
  {
   "cell_type": "markdown",
   "id": "53065852",
   "metadata": {},
   "source": [
    "**Plotting piecewise linear interpolation**"
   ]
  },
  {
   "cell_type": "code",
   "execution_count": 42,
   "id": "baa0699c",
   "metadata": {
    "execution": {
     "iopub.execute_input": "2025-10-07T05:07:46.886512Z",
     "iopub.status.busy": "2025-10-07T05:07:46.886361Z",
     "iopub.status.idle": "2025-10-07T05:07:46.966471Z",
     "shell.execute_reply": "2025-10-07T05:07:46.966056Z"
    }
   },
   "outputs": [
    {
     "data": {
      "image/png": "[encoded data removed]",
      "text/plain": [
       "<Figure size 640x480 with 1 Axes>"
      ]
     },
     "metadata": {},
     "output_type": "display_data"
    }
   ],
   "source": [
    "x = np.linspace(0.25, 10.0, 15)  # interpolation points on x axis\n",
    "y = np.sin(x)                    # interpolation points on y axis\n",
    "\n",
    "x_interp = np.linspace(0.0, 11, 100)    # x points where we seek interpolated values\n",
    "y_interp = np.interp(x_interp, x, y)    # interpolated values\n",
    "\n",
    "fig, ax = plt.subplots()\n",
    "ax.scatter(x, y, color=\"r\", s=20, label='interpolation points')\n",
    "ax.plot(x_interp, y_interp, alpha=0.5, lw=2, label='interpolated values')\n",
    "ax.set_yticks((-1, 0, 1))\n",
    "ax.legend();"
   ]
  },
  {
   "cell_type": "markdown",
   "id": "f7a4c21d",
   "metadata": {},
   "source": [
    "## Scipy\n",
    "\n",
    "`scipy` is a package that is closely related to `numpy`.\n",
    "\n",
    "While `numpy` introduces the array type and some basic functionality on top of that array, `scipy` extends these arrays further by providing higher level functionality with access to a variety of useful tools for science."
   ]
  },
  {
   "cell_type": "markdown",
   "id": "c8dfe8f5",
   "metadata": {},
   "source": [
    "### Interpolation\n",
    "\n",
    "NumPy provides basic linear interpolation, as shown above.\n",
    "\n",
    "The function `scipy.interpolate` provides more options"
   ]
  },
  {
   "cell_type": "code",
   "execution_count": 43,
   "id": "64093970",
   "metadata": {
    "execution": {
     "iopub.execute_input": "2025-10-07T05:07:46.968072Z",
     "iopub.status.busy": "2025-10-07T05:07:46.967703Z",
     "iopub.status.idle": "2025-10-07T05:07:47.102035Z",
     "shell.execute_reply": "2025-10-07T05:07:47.101684Z"
    }
   },
   "outputs": [],
   "source": [
    "import scipy.interpolate as interp"
   ]
  },
  {
   "cell_type": "markdown",
   "id": "fb326763",
   "metadata": {},
   "source": [
    "**Piecewise cubic**"
   ]
  },
  {
   "cell_type": "code",
   "execution_count": 44,
   "id": "2134a24f",
   "metadata": {
    "execution": {
     "iopub.execute_input": "2025-10-07T05:07:47.103566Z",
     "iopub.status.busy": "2025-10-07T05:07:47.103362Z",
     "iopub.status.idle": "2025-10-07T05:07:47.185351Z",
     "shell.execute_reply": "2025-10-07T05:07:47.184935Z"
    }
   },
   "outputs": [
    {
     "data": {
      "image/png": "[encoded data removed]",
      "text/plain": [
       "<Figure size 640x480 with 1 Axes>"
      ]
     },
     "metadata": {},
     "output_type": "display_data"
    }
   ],
   "source": [
    "f = interp.interp1d(x, y, kind=\"cubic\", fill_value=\"extrapolate\")\n",
    "y_interp = f(x_interp)\n",
    "\n",
    "fig, ax = plt.subplots()\n",
    "ax.scatter(x, y, color=\"r\", s=20)\n",
    "ax.plot(x_interp, y_interp, lw=2, alpha=0.5);"
   ]
  },
  {
   "cell_type": "markdown",
   "id": "60d6a5bb",
   "metadata": {},
   "source": [
    "**Other**"
   ]
  },
  {
   "cell_type": "code",
   "execution_count": 45,
   "id": "eb5443f1",
   "metadata": {
    "execution": {
     "iopub.execute_input": "2025-10-07T05:07:47.186693Z",
     "iopub.status.busy": "2025-10-07T05:07:47.186547Z",
     "iopub.status.idle": "2025-10-07T05:07:47.258493Z",
     "shell.execute_reply": "2025-10-07T05:07:47.258111Z"
    }
   },
   "outputs": [
    {
     "data": {
      "text/plain": [
       "[<matplotlib.lines.Line2D at 0x74d415de8a50>]"
      ]
     },
     "execution_count": 45,
     "metadata": {},
     "output_type": "execute_result"
    },
    {
     "data": {
      "image/png": "[encoded data removed]",
      "text/plain": [
       "<Figure size 640x480 with 1 Axes>"
      ]
     },
     "metadata": {},
     "output_type": "display_data"
    }
   ],
   "source": [
    "f = interp.PchipInterpolator(x, y, extrapolate=True)\n",
    "y_interp = f(x_interp)\n",
    "\n",
    "fig, ax = plt.subplots()\n",
    "ax.scatter(x, y, color=\"r\", s=20)\n",
    "ax.plot(x_interp, y_interp, linewidth=2, alpha=0.5)"
   ]
  },
  {
   "cell_type": "markdown",
   "id": "8e1e9e39",
   "metadata": {},
   "source": [
    "### Linear algebra\n",
    "\n",
    "Linear algebra is a core component of many toolkits. `numpy` itself has a small set of core operations that are within a package called `numpy.linalg` but `scipy.linalg` contains a superset of those operations."
   ]
  },
  {
   "cell_type": "code",
   "execution_count": 46,
   "id": "55a54b0b",
   "metadata": {
    "execution": {
     "iopub.execute_input": "2025-10-07T05:07:47.259991Z",
     "iopub.status.busy": "2025-10-07T05:07:47.259761Z",
     "iopub.status.idle": "2025-10-07T05:07:47.262047Z",
     "shell.execute_reply": "2025-10-07T05:07:47.261797Z"
    }
   },
   "outputs": [],
   "source": [
    "import scipy.linalg as la"
   ]
  },
  {
   "cell_type": "markdown",
   "id": "158ea0a0",
   "metadata": {},
   "source": [
    "**Lots of your standard linear algebra tools**"
   ]
  },
  {
   "cell_type": "code",
   "execution_count": 47,
   "id": "ebd4c90b",
   "metadata": {
    "execution": {
     "iopub.execute_input": "2025-10-07T05:07:47.263381Z",
     "iopub.status.busy": "2025-10-07T05:07:47.263232Z",
     "iopub.status.idle": "2025-10-07T05:07:47.265572Z",
     "shell.execute_reply": "2025-10-07T05:07:47.265199Z"
    }
   },
   "outputs": [],
   "source": [
    "X = np.array([\n",
    "    [0.5, 0.3, 0.0],\n",
    "    [0.3, 0.5, 0.4],\n",
    "    [0.0, 0.4, 0.75]\n",
    "])"
   ]
  },
  {
   "cell_type": "markdown",
   "id": "13fbeee9",
   "metadata": {},
   "source": [
    "Here's the Cholesky decomposition"
   ]
  },
  {
   "cell_type": "code",
   "execution_count": 48,
   "id": "7ab1cf44",
   "metadata": {
    "execution": {
     "iopub.execute_input": "2025-10-07T05:07:47.266954Z",
     "iopub.status.busy": "2025-10-07T05:07:47.266761Z",
     "iopub.status.idle": "2025-10-07T05:07:47.268805Z",
     "shell.execute_reply": "2025-10-07T05:07:47.268537Z"
    }
   },
   "outputs": [],
   "source": [
    "L = la.cholesky(X)"
   ]
  },
  {
   "cell_type": "code",
   "execution_count": 49,
   "id": "5f7ee411",
   "metadata": {
    "execution": {
     "iopub.execute_input": "2025-10-07T05:07:47.270223Z",
     "iopub.status.busy": "2025-10-07T05:07:47.270069Z",
     "iopub.status.idle": "2025-10-07T05:07:47.273022Z",
     "shell.execute_reply": "2025-10-07T05:07:47.272781Z"
    }
   },
   "outputs": [
    {
     "data": {
      "text/plain": [
       "array([[0.5 , 0.3 , 0.  ],\n",
       "       [0.3 , 0.5 , 0.4 ],\n",
       "       [0.  , 0.4 , 0.75]])"
      ]
     },
     "execution_count": 49,
     "metadata": {},
     "output_type": "execute_result"
    }
   ],
   "source": [
    "L.T @ L"
   ]
  },
  {
   "cell_type": "markdown",
   "id": "8d4eada4",
   "metadata": {},
   "source": [
    "Here's how we solve $X b = y$ for $b$"
   ]
  },
  {
   "cell_type": "code",
   "execution_count": 50,
   "id": "5cc015d3",
   "metadata": {
    "execution": {
     "iopub.execute_input": "2025-10-07T05:07:47.274256Z",
     "iopub.status.busy": "2025-10-07T05:07:47.274108Z",
     "iopub.status.idle": "2025-10-07T05:07:47.282445Z",
     "shell.execute_reply": "2025-10-07T05:07:47.281976Z"
    }
   },
   "outputs": [
    {
     "data": {
      "text/plain": [
       "array([-1.9125,  3.1875, -1.3   ])"
      ]
     },
     "execution_count": 50,
     "metadata": {},
     "output_type": "execute_result"
    }
   ],
   "source": [
    "y = np.array((0.0, 0.5, 0.3))\n",
    "la.solve(X, y)"
   ]
  },
  {
   "cell_type": "markdown",
   "id": "5a3e9429",
   "metadata": {},
   "source": [
    "Get eigenvalues:"
   ]
  },
  {
   "cell_type": "code",
   "execution_count": 51,
   "id": "e9d7a96b",
   "metadata": {
    "execution": {
     "iopub.execute_input": "2025-10-07T05:07:47.283884Z",
     "iopub.status.busy": "2025-10-07T05:07:47.283697Z",
     "iopub.status.idle": "2025-10-07T05:07:47.287152Z",
     "shell.execute_reply": "2025-10-07T05:07:47.286840Z"
    }
   },
   "outputs": [
    {
     "data": {
      "text/plain": [
       "array([0.0619792+0.j, 0.5852137+0.j, 1.1028071+0.j])"
      ]
     },
     "execution_count": 51,
     "metadata": {},
     "output_type": "execute_result"
    }
   ],
   "source": [
    "la.eigvals(X)"
   ]
  },
  {
   "cell_type": "markdown",
   "id": "ad2c5433",
   "metadata": {},
   "source": [
    "QR decomposition:"
   ]
  },
  {
   "cell_type": "code",
   "execution_count": 52,
   "id": "8eda1aa6",
   "metadata": {
    "execution": {
     "iopub.execute_input": "2025-10-07T05:07:47.288451Z",
     "iopub.status.busy": "2025-10-07T05:07:47.288293Z",
     "iopub.status.idle": "2025-10-07T05:07:47.291778Z",
     "shell.execute_reply": "2025-10-07T05:07:47.291448Z"
    }
   },
   "outputs": [
    {
     "name": "stdout",
     "output_type": "stream",
     "text": [
      "[[-0.85749293  0.29104275  0.42426407]\n",
      " [-0.51449576 -0.48507125 -0.70710678]\n",
      " [-0.         -0.82462113  0.56568542]] [[-0.58309519 -0.51449576 -0.2057983 ]\n",
      " [ 0.         -0.48507125 -0.81249434]\n",
      " [ 0.          0.          0.14142136]]\n"
     ]
    }
   ],
   "source": [
    "Q, R = la.qr(X)\n",
    "print(Q, R)"
   ]
  },
  {
   "cell_type": "code",
   "execution_count": 53,
   "id": "70219bd2",
   "metadata": {
    "execution": {
     "iopub.execute_input": "2025-10-07T05:07:47.293078Z",
     "iopub.status.busy": "2025-10-07T05:07:47.292927Z",
     "iopub.status.idle": "2025-10-07T05:07:47.295581Z",
     "shell.execute_reply": "2025-10-07T05:07:47.295304Z"
    }
   },
   "outputs": [
    {
     "data": {
      "text/plain": [
       "array([[0.5 , 0.3 , 0.  ],\n",
       "       [0.3 , 0.5 , 0.4 ],\n",
       "       [0.  , 0.4 , 0.75]])"
      ]
     },
     "execution_count": 53,
     "metadata": {},
     "output_type": "execute_result"
    }
   ],
   "source": [
    "X"
   ]
  },
  {
   "cell_type": "code",
   "execution_count": 54,
   "id": "654b8107",
   "metadata": {
    "execution": {
     "iopub.execute_input": "2025-10-07T05:07:47.297014Z",
     "iopub.status.busy": "2025-10-07T05:07:47.296710Z",
     "iopub.status.idle": "2025-10-07T05:07:47.300097Z",
     "shell.execute_reply": "2025-10-07T05:07:47.299721Z"
    }
   },
   "outputs": [
    {
     "data": {
      "text/plain": [
       "array([[5.00000000e-01, 3.00000000e-01, 1.43148056e-16],\n",
       "       [3.00000000e-01, 5.00000000e-01, 4.00000000e-01],\n",
       "       [0.00000000e+00, 4.00000000e-01, 7.50000000e-01]])"
      ]
     },
     "execution_count": 54,
     "metadata": {},
     "output_type": "execute_result"
    }
   ],
   "source": [
    "Q @ R"
   ]
  },
  {
   "cell_type": "markdown",
   "id": "f3197fe1",
   "metadata": {},
   "source": [
    "Here's how to compute an inverse:"
   ]
  },
  {
   "cell_type": "code",
   "execution_count": 55,
   "id": "e270ce1c",
   "metadata": {
    "execution": {
     "iopub.execute_input": "2025-10-07T05:07:47.301322Z",
     "iopub.status.busy": "2025-10-07T05:07:47.301167Z",
     "iopub.status.idle": "2025-10-07T05:07:47.304693Z",
     "shell.execute_reply": "2025-10-07T05:07:47.304308Z"
    }
   },
   "outputs": [
    {
     "data": {
      "text/plain": [
       "array([[ 1.00000000e+00, -1.99840144e-16, -2.22044605e-16],\n",
       "       [ 0.00000000e+00,  1.00000000e+00,  4.44089210e-16],\n",
       "       [ 0.00000000e+00, -8.88178420e-17,  1.00000000e+00]])"
      ]
     },
     "execution_count": 55,
     "metadata": {},
     "output_type": "execute_result"
    }
   ],
   "source": [
    "la.inv(X) @ X"
   ]
  },
  {
   "cell_type": "code",
   "execution_count": 56,
   "id": "37032245",
   "metadata": {
    "execution": {
     "iopub.execute_input": "2025-10-07T05:07:47.306107Z",
     "iopub.status.busy": "2025-10-07T05:07:47.305955Z",
     "iopub.status.idle": "2025-10-07T05:07:47.309142Z",
     "shell.execute_reply": "2025-10-07T05:07:47.308709Z"
    }
   },
   "outputs": [
    {
     "data": {
      "text/plain": [
       "True"
      ]
     },
     "execution_count": 56,
     "metadata": {},
     "output_type": "execute_result"
    }
   ],
   "source": [
    "np.allclose(la.inv(X) @ X, np.identity(3))"
   ]
  },
  {
   "cell_type": "markdown",
   "id": "12fd31b5",
   "metadata": {},
   "source": [
    "### Statistics\n",
    "\n",
    "We often want to work with various probability distributions. \n",
    "\n",
    "We could code up the pdf or a sampler ourselves but this work is largely done for us within `scipy.statistics`."
   ]
  },
  {
   "cell_type": "code",
   "execution_count": 57,
   "id": "33ef16f6",
   "metadata": {
    "execution": {
     "iopub.execute_input": "2025-10-07T05:07:47.310419Z",
     "iopub.status.busy": "2025-10-07T05:07:47.310270Z",
     "iopub.status.idle": "2025-10-07T05:07:47.433784Z",
     "shell.execute_reply": "2025-10-07T05:07:47.433430Z"
    }
   },
   "outputs": [],
   "source": [
    "import scipy.stats as st"
   ]
  },
  {
   "cell_type": "code",
   "execution_count": 58,
   "id": "ec29d01c",
   "metadata": {
    "execution": {
     "iopub.execute_input": "2025-10-07T05:07:47.435093Z",
     "iopub.status.busy": "2025-10-07T05:07:47.434926Z",
     "iopub.status.idle": "2025-10-07T05:07:47.437474Z",
     "shell.execute_reply": "2025-10-07T05:07:47.437163Z"
    }
   },
   "outputs": [],
   "source": [
    "# location specifies the mean / scale specifies the standard deviation\n",
    "d = st.norm(loc=2.0, scale=4.0)"
   ]
  },
  {
   "cell_type": "code",
   "execution_count": 59,
   "id": "b604c16e",
   "metadata": {
    "execution": {
     "iopub.execute_input": "2025-10-07T05:07:47.438659Z",
     "iopub.status.busy": "2025-10-07T05:07:47.438538Z",
     "iopub.status.idle": "2025-10-07T05:07:47.441197Z",
     "shell.execute_reply": "2025-10-07T05:07:47.440879Z"
    }
   },
   "outputs": [
    {
     "data": {
      "text/plain": [
       "array([ 2.68911083,  0.8763835 , -2.636123  ,  0.04734028,  0.37760844,\n",
       "       -1.61465068,  4.58223898, -4.12750134, -4.09765496, -2.38529105,\n",
       "        5.0070043 ,  4.28885523,  5.43479044,  2.24778534, -0.74772051,\n",
       "        4.29395106,  3.2380702 ,  0.00789639,  1.33739426, -0.33709671,\n",
       "       -0.26074784,  6.01494721,  2.30704275,  2.29037827,  0.48252439])"
      ]
     },
     "execution_count": 59,
     "metadata": {},
     "output_type": "execute_result"
    }
   ],
   "source": [
    "# Draw random samples\n",
    "d.rvs(25)"
   ]
  },
  {
   "cell_type": "code",
   "execution_count": 60,
   "id": "eaaf0088",
   "metadata": {
    "execution": {
     "iopub.execute_input": "2025-10-07T05:07:47.442249Z",
     "iopub.status.busy": "2025-10-07T05:07:47.442134Z",
     "iopub.status.idle": "2025-10-07T05:07:47.444746Z",
     "shell.execute_reply": "2025-10-07T05:07:47.444496Z"
    }
   },
   "outputs": [
    {
     "data": {
      "text/plain": [
       "np.float64(0.09296377346744224)"
      ]
     },
     "execution_count": 60,
     "metadata": {},
     "output_type": "execute_result"
    }
   ],
   "source": [
    "# Probability density function\n",
    "d.pdf(0.5)"
   ]
  },
  {
   "cell_type": "code",
   "execution_count": 61,
   "id": "d63bc86f",
   "metadata": {
    "execution": {
     "iopub.execute_input": "2025-10-07T05:07:47.445810Z",
     "iopub.status.busy": "2025-10-07T05:07:47.445687Z",
     "iopub.status.idle": "2025-10-07T05:07:47.448159Z",
     "shell.execute_reply": "2025-10-07T05:07:47.447908Z"
    }
   },
   "outputs": [
    {
     "data": {
      "text/plain": [
       "np.float64(0.5)"
      ]
     },
     "execution_count": 61,
     "metadata": {},
     "output_type": "execute_result"
    }
   ],
   "source": [
    "# Cumulative density function\n",
    "d.cdf(2.0)"
   ]
  },
  {
   "cell_type": "code",
   "execution_count": 62,
   "id": "fb487cd6",
   "metadata": {
    "execution": {
     "iopub.execute_input": "2025-10-07T05:07:47.449271Z",
     "iopub.status.busy": "2025-10-07T05:07:47.449157Z",
     "iopub.status.idle": "2025-10-07T05:07:47.461974Z",
     "shell.execute_reply": "2025-10-07T05:07:47.461546Z"
    }
   },
   "outputs": [
    {
     "data": {
      "text/plain": [
       "(np.float64(11.99441431371481), np.float64(4.00143207765811))"
      ]
     },
     "execution_count": 62,
     "metadata": {},
     "output_type": "execute_result"
    }
   ],
   "source": [
    "# Fit a normal rv to N(0, 1) data\n",
    "st.norm.fit(12 + 4 * np.random.randn(100_000))"
   ]
  },
  {
   "cell_type": "markdown",
   "id": "6504e5de",
   "metadata": {},
   "source": [
    "SciPy's API for working with probability distributions is a bit weird but the code is stable and well-written."
   ]
  },
  {
   "cell_type": "markdown",
   "id": "1deac199",
   "metadata": {},
   "source": [
    "## Numba\n",
    "\n",
    "Numba is a powerful package that brings \"just-in-time\" (JIT) compilation technology to Python."
   ]
  },
  {
   "cell_type": "code",
   "execution_count": 63,
   "id": "062ab6f6",
   "metadata": {
    "execution": {
     "iopub.execute_input": "2025-10-07T05:07:47.463276Z",
     "iopub.status.busy": "2025-10-07T05:07:47.463160Z",
     "iopub.status.idle": "2025-10-07T05:07:47.465982Z",
     "shell.execute_reply": "2025-10-07T05:07:47.465567Z"
    }
   },
   "outputs": [],
   "source": [
    "import numpy as np\n",
    "\n",
    "\n",
    "def calculate_pi_python(n=1_000_000):\n",
    "    \"\"\"\n",
    "    Approximates π as follows:\n",
    "\n",
    "    For a circle of radius 1/2, area = π r^2 = π / 4 \n",
    "\n",
    "    Hence π = 4 area.\n",
    "\n",
    "    We estimate the area of a circle C of radius 1/2 inside the unit square S = [0, 1] x [0, 1].\n",
    "\n",
    "        area = probability that a uniform distribution on S assigns to C\n",
    "        area is approximately fraction of uniform draws in S that fall in C\n",
    "\n",
    "    Then we estimate π using the formula above.\n",
    "    \"\"\"\n",
    "    in_circ = 0\n",
    "\n",
    "    for i in range(n):\n",
    "        # Draw (x, y) uniformly on S\n",
    "        x = np.random.random()\n",
    "        y = np.random.random()\n",
    "        # Increment counter if (x, y) falls in C\n",
    "        if np.sqrt((x - 0.5)**2 + (y - 0.5)**2) < 1/2:\n",
    "            in_circ += 1\n",
    "\n",
    "    approximate_area = in_circ / n\n",
    "\n",
    "    return 4 * approximate_area"
   ]
  },
  {
   "cell_type": "code",
   "execution_count": 64,
   "id": "f2d8a756",
   "metadata": {
    "execution": {
     "iopub.execute_input": "2025-10-07T05:07:47.467184Z",
     "iopub.status.busy": "2025-10-07T05:07:47.467070Z",
     "iopub.status.idle": "2025-10-07T05:07:58.224214Z",
     "shell.execute_reply": "2025-10-07T05:07:58.223711Z"
    }
   },
   "outputs": [
    {
     "name": "stdout",
     "output_type": "stream",
     "text": [
      "1.34 s ± 12.7 ms per loop (mean ± std. dev. of 7 runs, 1 loop each)\n"
     ]
    }
   ],
   "source": [
    "%%timeit\n",
    "\n",
    "calculate_pi_python(1_000_000)"
   ]
  },
  {
   "cell_type": "markdown",
   "id": "6e9d1a96",
   "metadata": {},
   "source": [
    "To get a idea of how fast this is, let's compare it to a Fortran version.\n",
    "\n",
    "The following code allows us to call Fortran code from within Jupyter."
   ]
  },
  {
   "cell_type": "code",
   "execution_count": 65,
   "id": "cee7a54e",
   "metadata": {
    "execution": {
     "iopub.execute_input": "2025-10-07T05:07:58.225622Z",
     "iopub.status.busy": "2025-10-07T05:07:58.225473Z",
     "iopub.status.idle": "2025-10-07T05:07:58.227563Z",
     "shell.execute_reply": "2025-10-07T05:07:58.227323Z"
    }
   },
   "outputs": [],
   "source": [
    "#pip install meson ninja  # Uncomment if you wish"
   ]
  },
  {
   "cell_type": "code",
   "execution_count": 66,
   "id": "ac1f5400",
   "metadata": {
    "execution": {
     "iopub.execute_input": "2025-10-07T05:07:58.228821Z",
     "iopub.status.busy": "2025-10-07T05:07:58.228658Z",
     "iopub.status.idle": "2025-10-07T05:07:58.230915Z",
     "shell.execute_reply": "2025-10-07T05:07:58.230530Z"
    }
   },
   "outputs": [],
   "source": [
    "#pip install fortran-magic  # Uncomment if you wish"
   ]
  },
  {
   "cell_type": "code",
   "execution_count": 67,
   "id": "339eb08c",
   "metadata": {
    "execution": {
     "iopub.execute_input": "2025-10-07T05:07:58.232243Z",
     "iopub.status.busy": "2025-10-07T05:07:58.232076Z",
     "iopub.status.idle": "2025-10-07T05:07:58.234349Z",
     "shell.execute_reply": "2025-10-07T05:07:58.233942Z"
    }
   },
   "outputs": [],
   "source": [
    "#sudo apt install gfortran  # Uncomment for Ubuntu or search for instructions for your OS"
   ]
  },
  {
   "cell_type": "code",
   "execution_count": 68,
   "id": "3b74bd47",
   "metadata": {
    "execution": {
     "iopub.execute_input": "2025-10-07T05:07:58.235677Z",
     "iopub.status.busy": "2025-10-07T05:07:58.235526Z",
     "iopub.status.idle": "2025-10-07T05:07:58.293579Z",
     "shell.execute_reply": "2025-10-07T05:07:58.293181Z"
    }
   },
   "outputs": [
    {
     "data": {
      "application/javascript": [
       "\n",
       "        if(typeof IPython === 'undefined') {\n",
       "            console.log('fortranmagic.py: TDOO: JupyterLab ' +\n",
       "                        'syntax highlight - unimplemented.');\n",
       "        } else {\n",
       "            IPython.CodeCell.options_default\n",
       "            .highlight_modes['magic_fortran'] = {'reg':[/^%%fortran/]};\n",
       "        }\n",
       "        "
      ]
     },
     "metadata": {},
     "output_type": "display_data"
    }
   ],
   "source": [
    "%load_ext fortranmagic"
   ]
  },
  {
   "cell_type": "code",
   "execution_count": 69,
   "id": "7b8c548c",
   "metadata": {
    "execution": {
     "iopub.execute_input": "2025-10-07T05:07:58.295095Z",
     "iopub.status.busy": "2025-10-07T05:07:58.294732Z",
     "iopub.status.idle": "2025-10-07T05:07:59.958107Z",
     "shell.execute_reply": "2025-10-07T05:07:59.957555Z"
    }
   },
   "outputs": [],
   "source": [
    "%%fortran\n",
    "\n",
    "subroutine calculate_pi_fortran(n, pi_approx)\n",
    "    implicit none\n",
    "    integer, intent(in) :: n\n",
    "    real, intent(out) :: pi_approx\n",
    "    \n",
    "    integer :: in_circ, i\n",
    "    real :: x, y, distance\n",
    "    real :: approximate_area\n",
    "\n",
    "    in_circ = 0\n",
    "    \n",
    "    CALL RANDOM_SEED\n",
    "    DO i = 1, n\n",
    "        ! Draw (x, y) uniformly on unit square [0,1] x [0,1]\n",
    "        CALL RANDOM_NUMBER(x)\n",
    "        CALL RANDOM_NUMBER(y)\n",
    "        \n",
    "        ! Calculate distance from center (0.5, 0.5)\n",
    "        distance = SQRT((x - 0.5)**2 + (y - 0.5)**2)\n",
    "        \n",
    "        ! Increment counter if (x, y) falls in circle of radius 1/2\n",
    "        IF (distance < 0.5) in_circ = in_circ + 1\n",
    "    END DO\n",
    "\n",
    "    ! Estimate area and then π\n",
    "    approximate_area = REAL(in_circ) / REAL(n)\n",
    "    pi_approx = 4.0 * approximate_area\n",
    "end subroutine calculate_pi_fortran\n"
   ]
  },
  {
   "cell_type": "code",
   "execution_count": 70,
   "id": "5028217d",
   "metadata": {
    "execution": {
     "iopub.execute_input": "2025-10-07T05:07:59.959426Z",
     "iopub.status.busy": "2025-10-07T05:07:59.959299Z",
     "iopub.status.idle": "2025-10-07T05:08:07.805492Z",
     "shell.execute_reply": "2025-10-07T05:08:07.805165Z"
    }
   },
   "outputs": [
    {
     "name": "stdout",
     "output_type": "stream",
     "text": [
      "9.67 ms ± 257 μs per loop (mean ± std. dev. of 7 runs, 100 loops each)\n"
     ]
    }
   ],
   "source": [
    "%%timeit\n",
    "\n",
    "calculate_pi_fortran(1_000_000)"
   ]
  },
  {
   "cell_type": "markdown",
   "id": "6c94c699",
   "metadata": {},
   "source": [
    "Clearly Fortran is much faster that the Python code.\n",
    "\n",
    "So should we be using Fortran?\n",
    "\n",
    "In general, no --- the next section explains."
   ]
  },
  {
   "cell_type": "markdown",
   "id": "88b28af1",
   "metadata": {},
   "source": [
    "**JIT compilation**\n",
    "\n",
    "JIT is a relatively modern development which has the goal of bridging some of the gaps between compiled and interpreted.\n",
    "\n",
    "Rather than compile the code ahead of time or interpreting line-by-line, JIT compiles small chunks of the code right before it runs them.\n",
    "\n",
    "For example, recall the function `mc_approximate_pi_python` (that we wrote earlier) that approximates the value of pi using Monte-carlo methods... We might even want to run this function multiple times to average across the approximations. The way that JIT works is,\n",
    "\n",
    "1. Check the input types to the function\n",
    "2. The first time it sees particular types of inputs to the function, it compiles the function assuming those types as inputs and stores this compiled code\n",
    "3. The computer then runs the function using the compiled code -- If it has seen these inputs before, it can jump directly to this step.\n",
    "\n",
    "`numba` is a package that will empower Python with \"JIT super powers\""
   ]
  },
  {
   "cell_type": "markdown",
   "id": "84e7fb64",
   "metadata": {},
   "source": [
    "**What works within Numba?**\n",
    "\n",
    "* Almost all core Python objects. including: lists, tuples, dictionaries, integers, floats, strings\n",
    "* Python logic, including: `if.. elif.. else`, `while`, `for .. in`, `break`, `continue`\n",
    "* NumPy arrays\n",
    "* Many (but not all!) NumPy functions"
   ]
  },
  {
   "cell_type": "code",
   "execution_count": 71,
   "id": "4db00746",
   "metadata": {
    "execution": {
     "iopub.execute_input": "2025-10-07T05:08:07.806801Z",
     "iopub.status.busy": "2025-10-07T05:08:07.806644Z",
     "iopub.status.idle": "2025-10-07T05:08:07.889797Z",
     "shell.execute_reply": "2025-10-07T05:08:07.889428Z"
    }
   },
   "outputs": [],
   "source": [
    "import numba"
   ]
  },
  {
   "cell_type": "code",
   "execution_count": 72,
   "id": "e3160207",
   "metadata": {
    "execution": {
     "iopub.execute_input": "2025-10-07T05:08:07.891171Z",
     "iopub.status.busy": "2025-10-07T05:08:07.891023Z",
     "iopub.status.idle": "2025-10-07T05:08:07.895043Z",
     "shell.execute_reply": "2025-10-07T05:08:07.894665Z"
    }
   },
   "outputs": [],
   "source": [
    "calculate_pi_numba = numba.jit(calculate_pi_python)"
   ]
  },
  {
   "cell_type": "code",
   "execution_count": 73,
   "id": "5ab52008",
   "metadata": {
    "execution": {
     "iopub.execute_input": "2025-10-07T05:08:07.896201Z",
     "iopub.status.busy": "2025-10-07T05:08:07.896058Z",
     "iopub.status.idle": "2025-10-07T05:08:08.123968Z",
     "shell.execute_reply": "2025-10-07T05:08:08.123594Z"
    }
   },
   "outputs": [
    {
     "name": "stdout",
     "output_type": "stream",
     "text": [
      "CPU times: user 212 ms, sys: 13 ms, total: 225 ms\n",
      "Wall time: 225 ms\n"
     ]
    },
    {
     "data": {
      "text/plain": [
       "3.143464"
      ]
     },
     "execution_count": 73,
     "metadata": {},
     "output_type": "execute_result"
    }
   ],
   "source": [
    "%%time\n",
    "\n",
    "calculate_pi_numba(1_000_000)"
   ]
  },
  {
   "cell_type": "code",
   "execution_count": 74,
   "id": "8a26d3d4",
   "metadata": {
    "execution": {
     "iopub.execute_input": "2025-10-07T05:08:08.125236Z",
     "iopub.status.busy": "2025-10-07T05:08:08.125067Z",
     "iopub.status.idle": "2025-10-07T05:08:14.394381Z",
     "shell.execute_reply": "2025-10-07T05:08:14.394018Z"
    }
   },
   "outputs": [
    {
     "name": "stdout",
     "output_type": "stream",
     "text": [
      "7.72 ms ± 11.8 μs per loop (mean ± std. dev. of 7 runs, 100 loops each)\n"
     ]
    }
   ],
   "source": [
    "%%timeit\n",
    "\n",
    "calculate_pi_numba(1_000_000)"
   ]
  },
  {
   "cell_type": "markdown",
   "id": "54596c42",
   "metadata": {},
   "source": [
    "**Writing parallel code with numba**"
   ]
  },
  {
   "cell_type": "code",
   "execution_count": 75,
   "id": "6925331c",
   "metadata": {
    "execution": {
     "iopub.execute_input": "2025-10-07T05:08:14.395679Z",
     "iopub.status.busy": "2025-10-07T05:08:14.395544Z",
     "iopub.status.idle": "2025-10-07T05:08:14.398357Z",
     "shell.execute_reply": "2025-10-07T05:08:14.397934Z"
    }
   },
   "outputs": [],
   "source": [
    "@numba.jit(parallel=True)\n",
    "def calculate_pi_parallel(n=1_000_000):\n",
    "    in_circ = 0\n",
    "\n",
    "    for i in numba.prange(n):\n",
    "        # Draw (x, y) uniformly on S\n",
    "        x = np.random.random()\n",
    "        y = np.random.random()\n",
    "        # Increment counter if (x, y) falls in C\n",
    "        if np.sqrt((x - 0.5)**2 + (y - 0.5)**2) < 1/2:\n",
    "            in_circ += 1\n",
    "\n",
    "    approximate_area = in_circ / n\n",
    "\n",
    "    return 4 * approximate_area"
   ]
  },
  {
   "cell_type": "code",
   "execution_count": 76,
   "id": "e0761df9",
   "metadata": {
    "execution": {
     "iopub.execute_input": "2025-10-07T05:08:14.399545Z",
     "iopub.status.busy": "2025-10-07T05:08:14.399399Z",
     "iopub.status.idle": "2025-10-07T05:08:14.761332Z",
     "shell.execute_reply": "2025-10-07T05:08:14.760884Z"
    }
   },
   "outputs": [
    {
     "data": {
      "text/plain": [
       "3.144304"
      ]
     },
     "execution_count": 76,
     "metadata": {},
     "output_type": "execute_result"
    }
   ],
   "source": [
    "calculate_pi_parallel(1_000_000)"
   ]
  },
  {
   "cell_type": "code",
   "execution_count": 77,
   "id": "4d27cd73",
   "metadata": {
    "execution": {
     "iopub.execute_input": "2025-10-07T05:08:14.762624Z",
     "iopub.status.busy": "2025-10-07T05:08:14.762491Z",
     "iopub.status.idle": "2025-10-07T05:08:24.938022Z",
     "shell.execute_reply": "2025-10-07T05:08:24.937712Z"
    }
   },
   "outputs": [
    {
     "name": "stdout",
     "output_type": "stream",
     "text": [
      "1.25 ms ± 3.72 μs per loop (mean ± std. dev. of 7 runs, 1,000 loops each)\n"
     ]
    }
   ],
   "source": [
    "%%timeit\n",
    "\n",
    "calculate_pi_parallel(1_000_000)"
   ]
  },
  {
   "cell_type": "markdown",
   "id": "b391c8a7",
   "metadata": {},
   "source": [
    "**Writing GPU code with numba**"
   ]
  },
  {
   "cell_type": "code",
   "execution_count": 78,
   "id": "6fa26ab2",
   "metadata": {
    "execution": {
     "iopub.execute_input": "2025-10-07T05:08:24.939413Z",
     "iopub.status.busy": "2025-10-07T05:08:24.939172Z",
     "iopub.status.idle": "2025-10-07T05:08:25.213597Z",
     "shell.execute_reply": "2025-10-07T05:08:25.213038Z"
    }
   },
   "outputs": [],
   "source": [
    "import numpy as np\n",
    "\n",
    "from numba import cuda\n",
    "from numba.cuda.random import create_xoroshiro128p_states, xoroshiro128p_uniform_float32"
   ]
  },
  {
   "cell_type": "code",
   "execution_count": 79,
   "id": "8a8fd84f",
   "metadata": {
    "execution": {
     "iopub.execute_input": "2025-10-07T05:08:25.215120Z",
     "iopub.status.busy": "2025-10-07T05:08:25.214973Z",
     "iopub.status.idle": "2025-10-07T05:08:25.218042Z",
     "shell.execute_reply": "2025-10-07T05:08:25.217537Z"
    }
   },
   "outputs": [],
   "source": [
    "@cuda.jit\n",
    "def compute_pi(rng_states, n, out):\n",
    "    thread_id = cuda.grid(1)\n",
    "\n",
    "    # Compute pi by drawing random (x, y) points and finding\n",
    "    # the fraction that lie inside the unit circle\n",
    "    inside = 0\n",
    "    for i in range(n):\n",
    "        x = xoroshiro128p_uniform_float32(rng_states, thread_id)\n",
    "        y = xoroshiro128p_uniform_float32(rng_states, thread_id)\n",
    "        if x**2 + y**2 <= 1.0:\n",
    "            inside += 1\n",
    "\n",
    "    out[thread_id] = 4.0 * inside / n"
   ]
  },
  {
   "cell_type": "code",
   "execution_count": 80,
   "id": "ee006feb",
   "metadata": {
    "execution": {
     "iopub.execute_input": "2025-10-07T05:08:25.219386Z",
     "iopub.status.busy": "2025-10-07T05:08:25.219240Z",
     "iopub.status.idle": "2025-10-07T05:08:26.114438Z",
     "shell.execute_reply": "2025-10-07T05:08:26.114073Z"
    }
   },
   "outputs": [
    {
     "name": "stderr",
     "output_type": "stream",
     "text": [
      "/home/john/anaconda3/envs/quantecon/lib/python3.13/site-packages/numba_cuda/numba/cuda/dispatcher.py:697: NumbaPerformanceWarning: \u001b[1mGrid size 32 will likely result in GPU under-utilization due to low occupancy.\u001b[0m\n",
      "  warn(NumbaPerformanceWarning(msg))\n"
     ]
    },
    {
     "name": "stdout",
     "output_type": "stream",
     "text": [
      "CPU times: user 509 ms, sys: 270 ms, total: 779 ms\n",
      "Wall time: 892 ms\n"
     ]
    },
    {
     "name": "stderr",
     "output_type": "stream",
     "text": [
      "/home/john/anaconda3/envs/quantecon/lib/python3.13/site-packages/numba_cuda/numba/cuda/cudadrv/devicearray.py:938: NumbaPerformanceWarning: \u001b[1mHost array used in CUDA kernel will incur copy overhead to/from device.\u001b[0m\n",
      "  warn(NumbaPerformanceWarning(msg))\n"
     ]
    }
   ],
   "source": [
    "%%time\n",
    "\n",
    "threads_per_block = 64\n",
    "blocks = 32\n",
    "\n",
    "n = 500\n",
    "\n",
    "rng_states = create_xoroshiro128p_states(threads_per_block*blocks, seed=3252024)\n",
    "out = np.zeros(threads_per_block*blocks, dtype=np.float32)\n",
    "\n",
    "compute_pi[blocks, threads_per_block](rng_states, n, out)"
   ]
  },
  {
   "cell_type": "code",
   "execution_count": 81,
   "id": "9a85b59a",
   "metadata": {
    "execution": {
     "iopub.execute_input": "2025-10-07T05:08:26.115721Z",
     "iopub.status.busy": "2025-10-07T05:08:26.115577Z",
     "iopub.status.idle": "2025-10-07T05:08:26.118234Z",
     "shell.execute_reply": "2025-10-07T05:08:26.117993Z"
    }
   },
   "outputs": [
    {
     "name": "stdout",
     "output_type": "stream",
     "text": [
      "As if we sampled:  1024000\n",
      "Pi:  3.1402147\n"
     ]
    }
   ],
   "source": [
    "print(\"As if we sampled: \", threads_per_block*blocks*n)\n",
    "print(\"Pi: \", out.mean())"
   ]
  }
 ],
 "metadata": {
  "jupytext": {
   "default_lexer": "ipython3"
  },
  "kernelspec": {
   "display_name": "Python 3 (ipykernel)",
   "language": "python",
   "name": "python3"
  },
  "language_info": {
   "codemirror_mode": {
    "name": "ipython",
    "version": 3
   },
   "file_extension": ".py",
   "mimetype": "text/x-python",
   "name": "python",
   "nbconvert_exporter": "python",
   "pygments_lexer": "ipython3",
   "version": "3.9.13"
  }
 },
 "nbformat": 4,
 "nbformat_minor": 5
}
