{
 "cells": [
  {
   "cell_type": "markdown",
   "id": "ba02356c",
   "metadata": {},
   "source": [
    "# Finite Markov Chains\n",
    "\n",
    "**Prepared for the Bank of Portugal Computational Economics Course (Oct 2025)**\n",
    "\n",
    "**Author:** [John Stachurski](https://johnstachurski.net)"
   ]
  },
  {
   "cell_type": "markdown",
   "id": "6a6e561d",
   "metadata": {},
   "source": [
    "## Topics\n",
    "\n",
    "- Definitions\n",
    "- Simulation\n",
    "- Marginal Distributions\n",
    "- Irreducibility and Aperiodicity\n",
    "- Stationary Distributions\n"
   ]
  },
  {
   "cell_type": "markdown",
   "id": "9f3332a4",
   "metadata": {},
   "source": [
    "## Overview"
   ]
  },
  {
   "cell_type": "markdown",
   "id": "2ba0ce1d",
   "metadata": {},
   "source": [
    "In this lecture, we review working with Markov chains in Python."
   ]
  },
  {
   "cell_type": "code",
   "execution_count": 1,
   "id": "a7a422a0",
   "metadata": {
    "execution": {
     "iopub.execute_input": "2025-10-08T03:50:24.008026Z",
     "iopub.status.busy": "2025-10-08T03:50:24.007727Z",
     "iopub.status.idle": "2025-10-08T03:50:24.012887Z",
     "shell.execute_reply": "2025-10-08T03:50:24.011942Z"
    }
   },
   "outputs": [],
   "source": [
    "#!pip install quantecon  # Uncomment if needed"
   ]
  },
  {
   "cell_type": "markdown",
   "id": "17b240d1",
   "metadata": {},
   "source": [
    "Let’s start with some imports:"
   ]
  },
  {
   "cell_type": "code",
   "execution_count": 2,
   "id": "34db7620",
   "metadata": {
    "execution": {
     "iopub.execute_input": "2025-10-08T03:50:24.016079Z",
     "iopub.status.busy": "2025-10-08T03:50:24.015808Z",
     "iopub.status.idle": "2025-10-08T03:50:24.730580Z",
     "shell.execute_reply": "2025-10-08T03:50:24.729789Z"
    }
   },
   "outputs": [],
   "source": [
    "import matplotlib.pyplot as plt\n",
    "import quantecon as qe\n",
    "import numpy as np\n",
    "import scipy as sp\n",
    "from mpl_toolkits.mplot3d import Axes3D\n",
    "import numba"
   ]
  },
  {
   "cell_type": "markdown",
   "id": "de7bd5b2",
   "metadata": {},
   "source": [
    "## Definitions\n",
    "\n",
    "We recall some elementary definitions."
   ]
  },
  {
   "cell_type": "markdown",
   "id": "b6d075d4",
   "metadata": {},
   "source": [
    "### Stochastic Matrices"
   ]
  },
  {
   "cell_type": "markdown",
   "id": "6b59682b",
   "metadata": {},
   "source": [
    "A **stochastic matrix** (or **Markov matrix**)  is an $ n \\times n $ square matrix $ P $\n",
    "such that\n",
    "\n",
    "1. each element is nonnegative and  \n",
    "1. each row sums to one."
   ]
  },
  {
   "cell_type": "markdown",
   "id": "477d1bdd",
   "metadata": {},
   "source": [
    "Each row of $ P $ can be regarded as a probability mass function over $ n $ possible outcomes.\n",
    "\n",
    "It is simple to check that if $ P $ is a stochastic matrix, then so is the $ k $-th power $ P^k $ for all $ k \\in \\mathbb N $."
   ]
  },
  {
   "cell_type": "markdown",
   "id": "3df4554e",
   "metadata": {},
   "source": [
    "### Markov Chains\n",
    "\n",
    "Let $ S $ be a finite set with $ n $ elements $ \\{x_1, \\ldots, x_n\\} $.\n",
    "\n",
    "We call $ S $ the **state space**.\n",
    "\n",
    "A **Markov chain** $ \\{X_t\\} $ on $ S $ is a sequence of random variables on $ S $ that have the **Markov property**.\n",
    "\n",
    "This means that, for any date $ t $ and any state $ y \\in S $,"
   ]
  },
  {
   "cell_type": "markdown",
   "id": "bfdb819a",
   "metadata": {},
   "source": [
    "$$\n",
    "    \\mathbb P \\{ X_{t+1} = y  \\,|\\, X_t \\}\n",
    "    = \\mathbb P \\{ X_{t+1}  = y \\,|\\, X_t, X_{t-1}, \\ldots X_0\\} \n",
    "$$\n",
    "\n",
    "In other words, knowing the current state is enough to know probabilities for future states.\n",
    "\n",
    "In particular, the dynamics of a Markov chain are fully determined by the set of values\n",
    "\n",
    "$$\n",
    "    P(x, y) := \\mathbb P \\{ X_{t+1} = y \\,|\\, X_t = x \\}\n",
    "    \\qquad (x, y \\in S) \n",
    "$$\n",
    "\n",
    "We can view $ P $ as a stochastic matrix where\n",
    "\n",
    "$$\n",
    "P_{ij} = P(x_i, x_j)\n",
    "\\qquad 1 \\leq i, j \\leq n\n",
    "$$\n",
    "\n",
    "Going the other way, if we take a stochastic matrix $ P $, we can generate a Markov\n",
    "chain $ \\{X_t\\} $ as follows:\n",
    "\n",
    "- draw $ X_0 $ from a marginal distribution $ \\psi $  \n",
    "- for each $ t = 0, 1, \\ldots $, draw $ X_{t+1} $ from $ P(X_t,\\cdot) $\n",
    "\n",
    "### Example 1\n",
    "\n",
    "Consider a worker who, at any given time $ t $, is either unemployed (state 0) or employed (state 1).\n",
    "\n",
    "Suppose that, over a one month period,\n",
    "\n",
    "1. An unemployed worker finds a job with probability $ f \\in (0, 1) $.\n",
    "1. An employed worker loses her job and becomes unemployed with probability $ s \\in (0, 1) $."
   ]
  },
  {
   "cell_type": "markdown",
   "id": "b1e8cc20",
   "metadata": {},
   "source": [
    "In terms of a Markov model, we have\n",
    "\n",
    "- $ S = \\{ 0, 1\\} $\n",
    "- $ P(0, 1) = f $ and $ P(1, 0) = s $  \n",
    "\n",
    "We can write out the transition probabilities in matrix form as\n",
    "\n",
    "$$\n",
    "P\n",
    "= \\left(\n",
    "    \\begin{array}{cc}\n",
    "        1 - f & f \\\\\n",
    "        s      & 1 - s\n",
    "    \\end{array}\n",
    "  \\right)\n",
    "$$\n",
    "\n",
    "Once we have the values $ f $ and $ s $, we can address a range of questions, such as\n",
    "\n",
    "- What is the average duration of unemployment?  \n",
    "- Over the long-run, what fraction of time does a worker find herself unemployed?  \n",
    "\n",
    "We'll see how to do this below.\n",
    "\n",
    "### Example 2\n",
    "\n",
    "From  US unemployment data, James Hamilton estimated the stochastic matrix\n",
    "\n",
    "$$\n",
    "P =\n",
    "\\left(\n",
    "  \\begin{array}{ccc}\n",
    "     0.971 & 0.029 & 0 \\\\\n",
    "     0.145 & 0.778 & 0.077 \\\\\n",
    "     0 & 0.508 & 0.492\n",
    "  \\end{array}\n",
    "\\right)\n",
    "$$\n",
    "\n",
    "where\n",
    "\n",
    "* the frequency is monthly  \n",
    "* the first state represents “normal growth”  \n",
    "* the second state represents “mild recession”  \n",
    "* the third state represents “severe recession”  \n",
    "\n",
    "For example, the matrix tells us that when the state is normal growth, the state will again be normal growth next month with probability 0.97.\n",
    "\n",
    "In general, large values on the main diagonal indicate persistence in $ \\{ X_t \\} $.\n",
    "\n",
    "This Markov process can also be represented as a directed graph, with edges labeled by transition probabilities\n",
    "\n",
    "![https://python.quantecon.org/_static/lecture_specific/finite_markov/hamilton_graph.png](https://python.quantecon.org/_static/lecture_specific/finite_markov/hamilton_graph.png)\n"
   ]
  },
  {
   "cell_type": "markdown",
   "id": "49a676e1",
   "metadata": {},
   "source": [
    "## Simulation\n",
    "\n",
    "One natural way to study Markov chains is to simulate them.\n",
    "\n",
    "Let's start by writing our own routines for generating sample paths (Markov chains).\n",
    "\n",
    "In these exercises, we’ll take the state space to be $S = 0,\\ldots, n-1$.\n",
    "\n",
    "### Rolling Our Own\n",
    "\n",
    "To simulate a Markov chain, we need \n",
    "\n",
    "- its stochastic matrix $ P $ and \n",
    "- a distribution $ \\psi_0 $ on $S$ from which to draw $ X_0 $.\n",
    "\n",
    "The Markov chain is then constructed as discussed above:\n",
    "\n",
    "1. At time $ t=0 $, draw a realization of  $ X_0 $  from $ \\psi_0 $.  \n",
    "1. At each subsequent time $ t $, draw a realization of the new state $ X_{t+1} $ from $ P(X_t, \\cdot) $.  "
   ]
  },
  {
   "cell_type": "markdown",
   "id": "1f10952c",
   "metadata": {},
   "source": [
    "To implement this simulation procedure, we need a method for generating draws from a discrete distribution.\n",
    "\n",
    "For this task, we’ll use `random.draw` from [QuantEcon](http://quantecon.org/quantecon-py), which is accelerated by Numba and works as follows:"
   ]
  },
  {
   "cell_type": "code",
   "execution_count": 3,
   "id": "6d0d1388",
   "metadata": {
    "execution": {
     "iopub.execute_input": "2025-10-08T03:50:24.732728Z",
     "iopub.status.busy": "2025-10-08T03:50:24.732501Z",
     "iopub.status.idle": "2025-10-08T03:50:24.780606Z",
     "shell.execute_reply": "2025-10-08T03:50:24.780207Z"
    }
   },
   "outputs": [
    {
     "data": {
      "text/plain": [
       "array([1, 1, 1, 1, 1])"
      ]
     },
     "execution_count": 3,
     "metadata": {},
     "output_type": "execute_result"
    }
   ],
   "source": [
    "ψ = (0.3, 0.7)           # Probabilities over {0, 1}\n",
    "cdf = np.cumsum(ψ)       # Convert into cummulative distribution\n",
    "qe.random.draw(cdf, 5)   # Generate 5 independent draws from ψ"
   ]
  },
  {
   "cell_type": "markdown",
   "id": "9503ca3a",
   "metadata": {},
   "source": [
    "We’ll write our code as a function that accepts the following three arguments\n",
    "\n",
    "- A stochastic matrix `P`  \n",
    "- An initial state `init`  \n",
    "- A positive integer `sample_size` representing the length of the time series the function should return"
   ]
  },
  {
   "cell_type": "code",
   "execution_count": 4,
   "id": "650c5114",
   "metadata": {
    "execution": {
     "iopub.execute_input": "2025-10-08T03:50:24.782279Z",
     "iopub.status.busy": "2025-10-08T03:50:24.782144Z",
     "iopub.status.idle": "2025-10-08T03:50:24.785385Z",
     "shell.execute_reply": "2025-10-08T03:50:24.785041Z"
    }
   },
   "outputs": [],
   "source": [
    "def mc_sample_path(P, ψ_0=None, sample_size=1_000):\n",
    "    \"\"\"\n",
    "    Generate a sample path of a finite state Markov chain with transition matrix\n",
    "    P and initial distribution ψ_0.\n",
    "\n",
    "    If ψ_0 is set to None then the initial draw will be uniform over the states.\n",
    "\n",
    "    \"\"\"\n",
    "\n",
    "    # Set up\n",
    "    P = np.asarray(P)\n",
    "    X = np.empty(sample_size, dtype=np.int32)\n",
    "\n",
    "    # draw initial state, defaulting to 0\n",
    "    if ψ_0 is None:\n",
    "        X_0 = 0\n",
    "    else:\n",
    "        ψ_0 = np.cumsum(ψ_0)\n",
    "        X_0 = qe.random.draw(ψ_0)\n",
    "\n",
    "    # Convert each row of P into a cdf\n",
    "    P = np.cumsum(P, axis=1)\n",
    "\n",
    "    # Simulate\n",
    "    X[0] = X_0\n",
    "    for t in range(sample_size - 1):\n",
    "        X[t+1] = qe.random.draw(P[X[t], :])\n",
    "\n",
    "    return X"
   ]
  },
  {
   "cell_type": "markdown",
   "id": "8567d10a",
   "metadata": {},
   "source": [
    "Let’s see how it works using the small matrix"
   ]
  },
  {
   "cell_type": "code",
   "execution_count": 5,
   "id": "23574077",
   "metadata": {
    "execution": {
     "iopub.execute_input": "2025-10-08T03:50:24.786762Z",
     "iopub.status.busy": "2025-10-08T03:50:24.786647Z",
     "iopub.status.idle": "2025-10-08T03:50:24.788441Z",
     "shell.execute_reply": "2025-10-08T03:50:24.788104Z"
    }
   },
   "outputs": [],
   "source": [
    "P = [[0.4, 0.6],\n",
    "     [0.2, 0.8]]"
   ]
  },
  {
   "cell_type": "markdown",
   "id": "6f3fa132",
   "metadata": {},
   "source": [
    "As we’ll see later, for a long series drawn from `P`, the fraction of the sample that takes value 0 should be about 0.25.\n",
    "\n",
    "The following code illustrates this"
   ]
  },
  {
   "cell_type": "code",
   "execution_count": 6,
   "id": "495bf390",
   "metadata": {
    "execution": {
     "iopub.execute_input": "2025-10-08T03:50:24.789953Z",
     "iopub.status.busy": "2025-10-08T03:50:24.789831Z",
     "iopub.status.idle": "2025-10-08T03:50:25.529385Z",
     "shell.execute_reply": "2025-10-08T03:50:25.529067Z"
    }
   },
   "outputs": [
    {
     "name": "stdout",
     "output_type": "stream",
     "text": [
      "CPU times: user 733 ms, sys: 4.02 ms, total: 737 ms\n",
      "Wall time: 736 ms\n"
     ]
    },
    {
     "data": {
      "text/plain": [
       "np.float64(0.249359)"
      ]
     },
     "execution_count": 6,
     "metadata": {},
     "output_type": "execute_result"
    }
   ],
   "source": [
    "%%time\n",
    "\n",
    "X = mc_sample_path(P, ψ_0=(0.1, 0.9), sample_size=1_000_000)\n",
    "np.mean(X == 0)  # Fraction of time that X_t = 0"
   ]
  },
  {
   "cell_type": "markdown",
   "id": "3e51e0b0",
   "metadata": {},
   "source": [
    "The outcome will be close to 0.25 regardless of the initial distribution.\n"
   ]
  },
  {
   "cell_type": "markdown",
   "id": "1899f167",
   "metadata": {},
   "source": [
    "### Using QuantEcon’s Routines\n",
    "\n",
    "[QuantEcon.py](http://quantecon.org/quantecon-py) has routines for handling Markov chains, including simulation.\n",
    "\n",
    "Here’s an illustration using the same P as the preceding example"
   ]
  },
  {
   "cell_type": "code",
   "execution_count": 7,
   "id": "fef07025",
   "metadata": {
    "execution": {
     "iopub.execute_input": "2025-10-08T03:50:25.530654Z",
     "iopub.status.busy": "2025-10-08T03:50:25.530542Z",
     "iopub.status.idle": "2025-10-08T03:50:25.620140Z",
     "shell.execute_reply": "2025-10-08T03:50:25.619817Z"
    }
   },
   "outputs": [
    {
     "data": {
      "text/plain": [
       "np.float64(0.24979)"
      ]
     },
     "execution_count": 7,
     "metadata": {},
     "output_type": "execute_result"
    }
   ],
   "source": [
    "from quantecon import MarkovChain\n",
    "\n",
    "mc = qe.MarkovChain(P)\n",
    "X = mc.simulate(ts_length=1_000_000)\n",
    "np.mean(X == 0)"
   ]
  },
  {
   "cell_type": "markdown",
   "id": "ef588e5d",
   "metadata": {},
   "source": [
    "The [QuantEcon.py](http://quantecon.org/quantecon-py) routine is JIT compiled\n",
    "and hence faster."
   ]
  },
  {
   "cell_type": "code",
   "execution_count": 8,
   "id": "332701f6",
   "metadata": {
    "execution": {
     "iopub.execute_input": "2025-10-08T03:50:25.621440Z",
     "iopub.status.busy": "2025-10-08T03:50:25.621318Z",
     "iopub.status.idle": "2025-10-08T03:50:26.334349Z",
     "shell.execute_reply": "2025-10-08T03:50:26.333910Z"
    }
   },
   "outputs": [
    {
     "name": "stdout",
     "output_type": "stream",
     "text": [
      "CPU times: user 709 ms, sys: 1.04 ms, total: 710 ms\n",
      "Wall time: 709 ms\n"
     ]
    },
    {
     "data": {
      "text/plain": [
       "array([0, 1, 1, ..., 1, 0, 1], shape=(1000000,), dtype=int32)"
      ]
     },
     "execution_count": 8,
     "metadata": {},
     "output_type": "execute_result"
    }
   ],
   "source": [
    "%time mc_sample_path(P, sample_size=1_000_000) # Our homemade version"
   ]
  },
  {
   "cell_type": "code",
   "execution_count": 9,
   "id": "cd2d5a48",
   "metadata": {
    "execution": {
     "iopub.execute_input": "2025-10-08T03:50:26.335830Z",
     "iopub.status.busy": "2025-10-08T03:50:26.335697Z",
     "iopub.status.idle": "2025-10-08T03:50:26.351545Z",
     "shell.execute_reply": "2025-10-08T03:50:26.350994Z"
    }
   },
   "outputs": [
    {
     "name": "stdout",
     "output_type": "stream",
     "text": [
      "CPU times: user 10.2 ms, sys: 2 ms, total: 12.2 ms\n",
      "Wall time: 12 ms\n"
     ]
    },
    {
     "data": {
      "text/plain": [
       "array([0, 0, 1, ..., 0, 1, 1], shape=(1000000,))"
      ]
     },
     "execution_count": 9,
     "metadata": {},
     "output_type": "execute_result"
    }
   ],
   "source": [
    "%time mc.simulate(ts_length=1_000_000)         # QE version"
   ]
  },
  {
   "cell_type": "markdown",
   "id": "3bb0a4a7",
   "metadata": {},
   "source": [
    "**Exercise**\n",
    "\n",
    "Try producing your own JIT compiled version of our homemade function `mc_sample_path`, using Numba.\n",
    "\n",
    "To simplify logic, you can replace `ψ_0=None` with `ψ_0` and assume the initial distribution is always passed in.\n",
    "\n",
    "How does the timing compare to the original and the QuantEcon routine?"
   ]
  },
  {
   "cell_type": "code",
   "execution_count": 10,
   "id": "7bbbd2c3",
   "metadata": {
    "execution": {
     "iopub.execute_input": "2025-10-08T03:50:26.353152Z",
     "iopub.status.busy": "2025-10-08T03:50:26.353031Z",
     "iopub.status.idle": "2025-10-08T03:50:26.355374Z",
     "shell.execute_reply": "2025-10-08T03:50:26.355048Z"
    }
   },
   "outputs": [
    {
     "name": "stdout",
     "output_type": "stream",
     "text": [
      "Solution below.\n",
      "Solution below.\n",
      "Solution below.\n",
      "Solution below.\n",
      "Solution below.\n",
      "Solution below.\n",
      "Solution below.\n",
      "Solution below.\n",
      "Solution below.\n",
      "Solution below.\n",
      "Solution below.\n",
      "Solution below.\n"
     ]
    }
   ],
   "source": [
    "for i in range(12):\n",
    "    print(\"Solution below.\")"
   ]
  },
  {
   "cell_type": "markdown",
   "id": "a0dcce8c",
   "metadata": {},
   "source": [
    "**Solution**\n",
    "\n",
    "Here's one solution."
   ]
  },
  {
   "cell_type": "code",
   "execution_count": 11,
   "id": "e63d3d0e",
   "metadata": {
    "execution": {
     "iopub.execute_input": "2025-10-08T03:50:26.356778Z",
     "iopub.status.busy": "2025-10-08T03:50:26.356673Z",
     "iopub.status.idle": "2025-10-08T03:50:26.360383Z",
     "shell.execute_reply": "2025-10-08T03:50:26.359870Z"
    }
   },
   "outputs": [],
   "source": [
    "@numba.jit\n",
    "def mc_sample_path_fast(P, ψ_0,  sample_size=1_000):\n",
    "\n",
    "    # Set up\n",
    "    P = np.asarray(P)\n",
    "    ψ_0 = np.asarray(ψ_0)\n",
    "    X = np.empty(sample_size, dtype=np.int64)\n",
    "\n",
    "    # draw initial state\n",
    "    ψ_0 = np.cumsum(ψ_0)\n",
    "    X_0 = qe.random.draw(ψ_0)\n",
    "\n",
    "    # Convert each row of P into a cdf\n",
    "    P_cdf = np.empty_like(P)\n",
    "    for i in range(len(P)):\n",
    "        P_cdf[i, :] = np.cumsum(P[i, :])\n",
    "    P = P_cdf\n",
    "    \n",
    "    # Simulate\n",
    "    X[0] = X_0\n",
    "    for t in range(sample_size - 1):\n",
    "        X[t+1] = qe.random.draw(P[X[t], :])\n",
    "    return X\n",
    "\n",
    "ψ_0 = (1, 0)\n",
    "P = [[0.4, 0.6],\n",
    "     [0.2, 0.8]]\n",
    "P, ψ_0 = np.asarray(P), np.asarray(ψ_0)"
   ]
  },
  {
   "cell_type": "code",
   "execution_count": 12,
   "id": "1f961d4b",
   "metadata": {
    "execution": {
     "iopub.execute_input": "2025-10-08T03:50:26.361956Z",
     "iopub.status.busy": "2025-10-08T03:50:26.361847Z",
     "iopub.status.idle": "2025-10-08T03:50:27.834881Z",
     "shell.execute_reply": "2025-10-08T03:50:27.834497Z"
    }
   },
   "outputs": [
    {
     "name": "stdout",
     "output_type": "stream",
     "text": [
      "CPU times: user 1.36 s, sys: 98.5 ms, total: 1.46 s\n",
      "Wall time: 1.47 s\n"
     ]
    },
    {
     "data": {
      "text/plain": [
       "array([0, 1, 1, ..., 1, 1, 0], shape=(1000000,))"
      ]
     },
     "execution_count": 12,
     "metadata": {},
     "output_type": "execute_result"
    }
   ],
   "source": [
    "%time mc_sample_path_fast(P, ψ_0, sample_size=1_000_000)"
   ]
  },
  {
   "cell_type": "code",
   "execution_count": 13,
   "id": "3969360e",
   "metadata": {
    "execution": {
     "iopub.execute_input": "2025-10-08T03:50:27.836298Z",
     "iopub.status.busy": "2025-10-08T03:50:27.836167Z",
     "iopub.status.idle": "2025-10-08T03:50:27.860600Z",
     "shell.execute_reply": "2025-10-08T03:50:27.860256Z"
    }
   },
   "outputs": [
    {
     "name": "stdout",
     "output_type": "stream",
     "text": [
      "CPU times: user 19.4 ms, sys: 1.02 ms, total: 20.4 ms\n",
      "Wall time: 20.5 ms\n"
     ]
    },
    {
     "data": {
      "text/plain": [
       "array([0, 1, 1, ..., 0, 0, 1], shape=(1000000,))"
      ]
     },
     "execution_count": 13,
     "metadata": {},
     "output_type": "execute_result"
    }
   ],
   "source": [
    "%time mc_sample_path_fast(P, ψ_0, sample_size=1_000_000)"
   ]
  },
  {
   "cell_type": "markdown",
   "id": "68c41c5c",
   "metadata": {},
   "source": [
    "Incidentally, we can also hold the stochastic matrix as state in a jitted function as follows."
   ]
  },
  {
   "cell_type": "code",
   "execution_count": 14,
   "id": "5f1761f3",
   "metadata": {
    "execution": {
     "iopub.execute_input": "2025-10-08T03:50:27.862033Z",
     "iopub.status.busy": "2025-10-08T03:50:27.861917Z",
     "iopub.status.idle": "2025-10-08T03:50:27.865632Z",
     "shell.execute_reply": "2025-10-08T03:50:27.865235Z"
    }
   },
   "outputs": [],
   "source": [
    "def mc_sample_path_factory(P, ψ_0):\n",
    "\n",
    "    # Set up\n",
    "    P = np.asarray(P)\n",
    "    ψ_0 = np.asarray(ψ_0)\n",
    "\n",
    "    # draw initial state\n",
    "    ψ_0 = np.cumsum(ψ_0)\n",
    "\n",
    "    # Convert each row of P into a cdf\n",
    "    P_cdf = np.empty_like(P)\n",
    "    for i in range(len(P)):\n",
    "        P_cdf[i, :] = np.cumsum(P[i, :])\n",
    "    P = P_cdf\n",
    "\n",
    "    @numba.jit\n",
    "    def mc_sample_path_closure(sample_size=1_000):\n",
    "        X_0 = qe.random.draw(ψ_0)\n",
    "        X = np.empty(sample_size, dtype=numba.int32)\n",
    "        # Simulate\n",
    "        X[0] = X_0\n",
    "        for t in range(sample_size - 1):\n",
    "            X[t+1] = qe.random.draw(P[X[t], :])\n",
    "        return X\n",
    "\n",
    "    return mc_sample_path_closure\n",
    "\n",
    "mc_sample_path_closure = mc_sample_path_factory(P, ψ_0)"
   ]
  },
  {
   "cell_type": "code",
   "execution_count": 15,
   "id": "dc1dd025",
   "metadata": {
    "execution": {
     "iopub.execute_input": "2025-10-08T03:50:27.867072Z",
     "iopub.status.busy": "2025-10-08T03:50:27.866975Z",
     "iopub.status.idle": "2025-10-08T03:50:28.106384Z",
     "shell.execute_reply": "2025-10-08T03:50:28.106076Z"
    }
   },
   "outputs": [
    {
     "name": "stdout",
     "output_type": "stream",
     "text": [
      "CPU times: user 219 ms, sys: 14.9 ms, total: 233 ms\n",
      "Wall time: 236 ms\n"
     ]
    },
    {
     "data": {
      "text/plain": [
       "array([0, 0, 1, ..., 1, 0, 1], shape=(1000000,), dtype=int32)"
      ]
     },
     "execution_count": 15,
     "metadata": {},
     "output_type": "execute_result"
    }
   ],
   "source": [
    "%time mc_sample_path_closure(sample_size=1_000_000)"
   ]
  },
  {
   "cell_type": "code",
   "execution_count": 16,
   "id": "263939b7",
   "metadata": {
    "execution": {
     "iopub.execute_input": "2025-10-08T03:50:28.107658Z",
     "iopub.status.busy": "2025-10-08T03:50:28.107528Z",
     "iopub.status.idle": "2025-10-08T03:50:28.126504Z",
     "shell.execute_reply": "2025-10-08T03:50:28.126200Z"
    }
   },
   "outputs": [
    {
     "name": "stdout",
     "output_type": "stream",
     "text": [
      "CPU times: user 14.4 ms, sys: 1.02 ms, total: 15.4 ms\n",
      "Wall time: 15.4 ms\n"
     ]
    },
    {
     "data": {
      "text/plain": [
       "array([0, 1, 1, ..., 1, 1, 0], shape=(1000000,), dtype=int32)"
      ]
     },
     "execution_count": 16,
     "metadata": {},
     "output_type": "execute_result"
    }
   ],
   "source": [
    "%time mc_sample_path_closure(sample_size=1_000_000)"
   ]
  },
  {
   "cell_type": "markdown",
   "id": "a625fc14",
   "metadata": {},
   "source": [
    "## Marginal Distributions\n",
    "Suppose that\n",
    "\n",
    "1. $ \\{X_t\\} $ is a Markov chain with stochastic matrix $ P $  \n",
    "1. the marginal distribution of $ X_t $ is known to be $ \\psi_t $  "
   ]
  },
  {
   "cell_type": "markdown",
   "id": "74ae8298",
   "metadata": {},
   "source": [
    "The law of total probability implies that\n",
    "\n",
    "$$\n",
    "\\psi_{t+1}(y) = \\sum_{x \\in S} P(x,y) \\psi_t(x)\n",
    "\\quad \\text{for all } y \\in S.\n",
    "$$\n",
    "\n",
    "If we think of $ \\psi_{t+1} $ and $ \\psi_t $ as *row vectors*, these $ n $ equations are summarized by the matrix expression"
   ]
  },
  {
   "cell_type": "markdown",
   "id": "82cb0e50",
   "metadata": {},
   "source": [
    "$$\n",
    "\\psi_{t+1} = \\psi_t P \n",
    "$$\n",
    "\n",
    "Thus, to move a marginal distribution forward one unit of time, we postmultiply by $ P $.\n",
    "\n",
    "Repeating this $m$ times gives\n",
    "\n",
    "$$\n",
    "    X_0 \\sim \\psi_0 \\quad \\implies \\quad X_m \\sim \\psi_0 P^m \n",
    "$$\n",
    "\n",
    "### Example: Probability of Recession\n",
    "\n",
    "Recall Hamilton's stochastic matrix $ P $ for recession and growth considered above\n",
    "\n",
    "Suppose that the current state is unknown — perhaps statistics are available only  at the *end* of the current month.\n",
    "\n",
    "We guess that the probability that the economy is in state $ x $ is $ \\psi(x) $.\n",
    "\n",
    "The probability of being in recession (either mild or severe) in 6 months time is given by the inner product\n",
    "\n",
    "$$\n",
    "\\psi P^6\n",
    "\\cdot\n",
    "\\left(\n",
    "  \\begin{array}{c}\n",
    "     0 \\\\\n",
    "     1 \\\\\n",
    "     1\n",
    "  \\end{array}\n",
    "\\right)\n",
    "$$\n",
    "\n",
    "Let's compute this when"
   ]
  },
  {
   "cell_type": "code",
   "execution_count": 17,
   "id": "dc4e3611",
   "metadata": {
    "execution": {
     "iopub.execute_input": "2025-10-08T03:50:28.127748Z",
     "iopub.status.busy": "2025-10-08T03:50:28.127636Z",
     "iopub.status.idle": "2025-10-08T03:50:28.129441Z",
     "shell.execute_reply": "2025-10-08T03:50:28.129106Z"
    }
   },
   "outputs": [],
   "source": [
    "ψ = (0.2, 0.4, 0.4)"
   ]
  },
  {
   "cell_type": "markdown",
   "id": "00a4658a",
   "metadata": {},
   "source": [
    "To compute $P^6$ we use `np.power`."
   ]
  },
  {
   "cell_type": "code",
   "execution_count": 18,
   "id": "2cb470a4",
   "metadata": {
    "execution": {
     "iopub.execute_input": "2025-10-08T03:50:28.130646Z",
     "iopub.status.busy": "2025-10-08T03:50:28.130541Z",
     "iopub.status.idle": "2025-10-08T03:50:28.133033Z",
     "shell.execute_reply": "2025-10-08T03:50:28.132693Z"
    }
   },
   "outputs": [
    {
     "name": "stdout",
     "output_type": "stream",
     "text": [
      "Probability of recession in 6 months = 0.1013.\n"
     ]
    }
   ],
   "source": [
    "P = ((0.971, 0.029, 0.0), \n",
    "     (0.145, 0.778, 0.077), \n",
    "     (0.0,   0.508, 0.492))\n",
    "\n",
    "pr = ψ @ np.power(P, 6) @ (0, 1, 1)\n",
    "\n",
    "print(f\"Probability of recession in 6 months = {pr:.4f}.\")"
   ]
  },
  {
   "cell_type": "markdown",
   "id": "98337160",
   "metadata": {},
   "source": [
    "### Irreducibility\n",
    "\n",
    "Let $ P $ be a fixed stochastic matrix.\n",
    "\n",
    "Two states $ x $ and $ y $ are said to **communicate** with each other if\n",
    "there exist positive integers $ j $ and $ k $ such that\n",
    "\n",
    "$$\n",
    "    P^j(x, y) > 0\n",
    "    \\quad \\text{and} \\quad\n",
    "    P^k(y, x) > 0\n",
    "$$\n",
    "\n",
    "This means that\n",
    "\n",
    "- state $ x $ can eventually be reached  from state $ y $, and  \n",
    "- state $ y $ can eventually  be reached from state $ x $  "
   ]
  },
  {
   "cell_type": "markdown",
   "id": "7219de20",
   "metadata": {},
   "source": [
    "The stochastic matrix $ P $ is called **irreducible** if all states\n",
    "communicate; that is, if $ x $ and $ y $ communicate for all\n",
    "$ (x, y) $ in $ S \\times S $.\n",
    "\n",
    "For example, consider the following transition probabilities for wealth of a fictitious set of\n",
    "households\n",
    "\n",
    "![https://python.quantecon.org/_static/lecture_specific/finite_markov/mc_irreducibility1.png](https://python.quantecon.org/_static/lecture_specific/finite_markov/mc_irreducibility1.png)"
   ]
  },
  {
   "cell_type": "markdown",
   "id": "c45c9011",
   "metadata": {},
   "source": [
    "We can translate this into a stochastic matrix, putting zeros where\n",
    "there’s no edge between nodes\n",
    "\n",
    "$$\n",
    "P :=\n",
    "\\left(\n",
    "  \\begin{array}{ccc}\n",
    "     0.9 & 0.1 & 0 \\\\\n",
    "     0.4 & 0.4 & 0.2 \\\\\n",
    "     0.1 & 0.1 & 0.8\n",
    "  \\end{array}\n",
    "\\right)\n",
    "$$\n",
    "\n",
    "It’s clear from the graph that this stochastic matrix is irreducible: we can  eventually\n",
    "reach any state from any other state.\n",
    "\n",
    "We can also test this using [QuantEcon.py](http://quantecon.org/quantecon-py)’s MarkovChain class"
   ]
  },
  {
   "cell_type": "code",
   "execution_count": 19,
   "id": "28dcf7ab",
   "metadata": {
    "execution": {
     "iopub.execute_input": "2025-10-08T03:50:28.134206Z",
     "iopub.status.busy": "2025-10-08T03:50:28.134098Z",
     "iopub.status.idle": "2025-10-08T03:50:28.137535Z",
     "shell.execute_reply": "2025-10-08T03:50:28.137227Z"
    }
   },
   "outputs": [
    {
     "data": {
      "text/plain": [
       "True"
      ]
     },
     "execution_count": 19,
     "metadata": {},
     "output_type": "execute_result"
    }
   ],
   "source": [
    "P_1 = [[0.9, 0.1, 0.0],\n",
    "      [0.4, 0.4, 0.2],\n",
    "      [0.1, 0.1, 0.8]]\n",
    "\n",
    "mc = qe.MarkovChain(P_1, ('poor', 'middle', 'rich'))\n",
    "mc.is_irreducible"
   ]
  },
  {
   "cell_type": "markdown",
   "id": "0a4a5eb0",
   "metadata": {},
   "source": [
    "Here’s a more pessimistic scenario in which  poor people remain poor forever\n",
    "\n",
    "![https://python.quantecon.org/_static/lecture_specific/finite_markov/mc_irreducibility2.png](https://python.quantecon.org/_static/lecture_specific/finite_markov/mc_irreducibility2.png)"
   ]
  },
  {
   "cell_type": "markdown",
   "id": "89739900",
   "metadata": {},
   "source": [
    "This stochastic matrix is not irreducible, since, for example, rich is not accessible from poor.\n",
    "\n",
    "Let’s confirm this"
   ]
  },
  {
   "cell_type": "code",
   "execution_count": 20,
   "id": "f335ca89",
   "metadata": {
    "execution": {
     "iopub.execute_input": "2025-10-08T03:50:28.138761Z",
     "iopub.status.busy": "2025-10-08T03:50:28.138657Z",
     "iopub.status.idle": "2025-10-08T03:50:28.141580Z",
     "shell.execute_reply": "2025-10-08T03:50:28.141300Z"
    }
   },
   "outputs": [
    {
     "data": {
      "text/plain": [
       "False"
      ]
     },
     "execution_count": 20,
     "metadata": {},
     "output_type": "execute_result"
    }
   ],
   "source": [
    "P_2 = [[1.0, 0.0, 0.0],\n",
    "      [0.1, 0.8, 0.1],\n",
    "      [0.0, 0.2, 0.8]]\n",
    "\n",
    "mc = qe.MarkovChain(P_2, ('poor', 'middle', 'rich'))\n",
    "mc.is_irreducible"
   ]
  },
  {
   "cell_type": "markdown",
   "id": "e6844754",
   "metadata": {},
   "source": [
    "Irreducibility is important for understanding long run outcomes.\n",
    "\n",
    "For example, poverty is a life sentence in the second graph but not the first.\n",
    "\n",
    "**Exercise**\n",
    "\n",
    "It's also true that an $n \\times n$ stochastic matrix $P$ is irreducible if and only if $\\sum_{i=0}^{n-1} P^i$ is everwhere positive.  \n",
    "\n",
    "Write a function that checks irreducibility of given $P$ using this result and test it on $P_1$ and $P_2$ above."
   ]
  },
  {
   "cell_type": "code",
   "execution_count": 21,
   "id": "a1eef106",
   "metadata": {
    "execution": {
     "iopub.execute_input": "2025-10-08T03:50:28.142907Z",
     "iopub.status.busy": "2025-10-08T03:50:28.142807Z",
     "iopub.status.idle": "2025-10-08T03:50:28.144398Z",
     "shell.execute_reply": "2025-10-08T03:50:28.144125Z"
    }
   },
   "outputs": [],
   "source": [
    "# Put your code here"
   ]
  },
  {
   "cell_type": "code",
   "execution_count": 22,
   "id": "c4141f83",
   "metadata": {
    "execution": {
     "iopub.execute_input": "2025-10-08T03:50:28.145530Z",
     "iopub.status.busy": "2025-10-08T03:50:28.145427Z",
     "iopub.status.idle": "2025-10-08T03:50:28.147437Z",
     "shell.execute_reply": "2025-10-08T03:50:28.147162Z"
    }
   },
   "outputs": [
    {
     "name": "stdout",
     "output_type": "stream",
     "text": [
      "Solution below.\n",
      "Solution below.\n",
      "Solution below.\n",
      "Solution below.\n",
      "Solution below.\n",
      "Solution below.\n",
      "Solution below.\n",
      "Solution below.\n",
      "Solution below.\n",
      "Solution below.\n",
      "Solution below.\n",
      "Solution below.\n"
     ]
    }
   ],
   "source": [
    "for i in range(12):\n",
    "    print(\"Solution below.\")"
   ]
  },
  {
   "cell_type": "markdown",
   "id": "ee6d9f8a",
   "metadata": {},
   "source": [
    "**Solution**"
   ]
  },
  {
   "cell_type": "code",
   "execution_count": 23,
   "id": "2bf6b3e4",
   "metadata": {
    "execution": {
     "iopub.execute_input": "2025-10-08T03:50:28.148821Z",
     "iopub.status.busy": "2025-10-08T03:50:28.148726Z",
     "iopub.status.idle": "2025-10-08T03:50:28.150733Z",
     "shell.execute_reply": "2025-10-08T03:50:28.150443Z"
    }
   },
   "outputs": [],
   "source": [
    "def is_irreducible(P):\n",
    "    S = np.zeros_like(P)\n",
    "    n = len(P)\n",
    "    A = np.identity(n)\n",
    "    for i in range(n):\n",
    "        S += A\n",
    "        A = A @ P\n",
    "    return np.all(S > 0)"
   ]
  },
  {
   "cell_type": "code",
   "execution_count": 24,
   "id": "6d9a7eed",
   "metadata": {
    "execution": {
     "iopub.execute_input": "2025-10-08T03:50:28.151995Z",
     "iopub.status.busy": "2025-10-08T03:50:28.151899Z",
     "iopub.status.idle": "2025-10-08T03:50:28.153897Z",
     "shell.execute_reply": "2025-10-08T03:50:28.153628Z"
    }
   },
   "outputs": [
    {
     "name": "stdout",
     "output_type": "stream",
     "text": [
      "True\n"
     ]
    }
   ],
   "source": [
    "print(is_irreducible(P_1))"
   ]
  },
  {
   "cell_type": "code",
   "execution_count": 25,
   "id": "ff9d2088",
   "metadata": {
    "execution": {
     "iopub.execute_input": "2025-10-08T03:50:28.155197Z",
     "iopub.status.busy": "2025-10-08T03:50:28.155102Z",
     "iopub.status.idle": "2025-10-08T03:50:28.157158Z",
     "shell.execute_reply": "2025-10-08T03:50:28.156842Z"
    }
   },
   "outputs": [
    {
     "name": "stdout",
     "output_type": "stream",
     "text": [
      "False\n"
     ]
    }
   ],
   "source": [
    "print(is_irreducible(P_2))"
   ]
  },
  {
   "cell_type": "markdown",
   "id": "863fbfa6",
   "metadata": {},
   "source": [
    "### Aperiodicity\n",
    "\n",
    "Loosely speaking, a Markov chain is called **periodic** if it cycles in a predictable way, and **aperiodic** otherwise.\n",
    "\n",
    "Here’s a trivial example with three states\n",
    "\n",
    "![https://python.quantecon.org/_static/lecture_specific/finite_markov/mc_aperiodicity1.png](https://python.quantecon.org/_static/lecture_specific/finite_markov/mc_aperiodicity1.png)"
   ]
  },
  {
   "cell_type": "markdown",
   "id": "d658fea6",
   "metadata": {},
   "source": [
    "The chain cycles with period 3:"
   ]
  },
  {
   "cell_type": "code",
   "execution_count": 26,
   "id": "d1bd8424",
   "metadata": {
    "execution": {
     "iopub.execute_input": "2025-10-08T03:50:28.158403Z",
     "iopub.status.busy": "2025-10-08T03:50:28.158302Z",
     "iopub.status.idle": "2025-10-08T03:50:28.161765Z",
     "shell.execute_reply": "2025-10-08T03:50:28.161496Z"
    }
   },
   "outputs": [
    {
     "data": {
      "text/plain": [
       "3"
      ]
     },
     "execution_count": 26,
     "metadata": {},
     "output_type": "execute_result"
    }
   ],
   "source": [
    "P = [[0, 1, 0],\n",
    "     [0, 0, 1],\n",
    "     [1, 0, 0]]\n",
    "\n",
    "mc = qe.MarkovChain(P)\n",
    "mc.period"
   ]
  },
  {
   "cell_type": "markdown",
   "id": "88e6bf89",
   "metadata": {},
   "source": [
    "More formally, the **period** of a state $ x $ is the largest common divisor\n",
    "of a set of integers\n",
    "\n",
    "$$\n",
    "    D(x) := \\{j \\geq 1 : P^j(x, x) > 0\\}\n",
    "$$\n",
    "\n",
    "In the last example, $ D(x) = \\{3, 6, 9, \\ldots\\} $ for every state $ x $, so the period is 3.\n",
    "\n",
    "A stochastic matrix is called **aperiodic** if the period of every state is 1, and **periodic** otherwise.\n",
    "\n",
    "For example, the stochastic matrix associated with the transition probabilities below is periodic because, for example, state $ a $ has period 2\n",
    "\n",
    "![https://python.quantecon.org/_static/lecture_specific/finite_markov/mc_aperiodicity2.png](https://python.quantecon.org/_static/lecture_specific/finite_markov/mc_aperiodicity2.png)\n",
    "\n",
    "We can confirm that the stochastic matrix is periodic with the following code"
   ]
  },
  {
   "cell_type": "code",
   "execution_count": 27,
   "id": "0e040d52",
   "metadata": {
    "execution": {
     "iopub.execute_input": "2025-10-08T03:50:28.163210Z",
     "iopub.status.busy": "2025-10-08T03:50:28.163097Z",
     "iopub.status.idle": "2025-10-08T03:50:28.165203Z",
     "shell.execute_reply": "2025-10-08T03:50:28.164903Z"
    }
   },
   "outputs": [],
   "source": [
    "P = [[0.0, 1.0, 0.0, 0.0],\n",
    "     [0.5, 0.0, 0.5, 0.0],\n",
    "     [0.0, 0.5, 0.0, 0.5],\n",
    "     [0.0, 0.0, 1.0, 0.0]]\n",
    "\n",
    "mc = qe.MarkovChain(P)"
   ]
  },
  {
   "cell_type": "code",
   "execution_count": 28,
   "id": "4dc0723e",
   "metadata": {
    "execution": {
     "iopub.execute_input": "2025-10-08T03:50:28.166425Z",
     "iopub.status.busy": "2025-10-08T03:50:28.166327Z",
     "iopub.status.idle": "2025-10-08T03:50:28.169082Z",
     "shell.execute_reply": "2025-10-08T03:50:28.168787Z"
    }
   },
   "outputs": [
    {
     "data": {
      "text/plain": [
       "False"
      ]
     },
     "execution_count": 28,
     "metadata": {},
     "output_type": "execute_result"
    }
   ],
   "source": [
    "mc.is_aperiodic"
   ]
  },
  {
   "cell_type": "code",
   "execution_count": 29,
   "id": "a818e057",
   "metadata": {
    "execution": {
     "iopub.execute_input": "2025-10-08T03:50:28.170058Z",
     "iopub.status.busy": "2025-10-08T03:50:28.169954Z",
     "iopub.status.idle": "2025-10-08T03:50:28.172126Z",
     "shell.execute_reply": "2025-10-08T03:50:28.171866Z"
    }
   },
   "outputs": [
    {
     "data": {
      "text/plain": [
       "2"
      ]
     },
     "execution_count": 29,
     "metadata": {},
     "output_type": "execute_result"
    }
   ],
   "source": [
    "mc.period"
   ]
  },
  {
   "cell_type": "markdown",
   "id": "2378470b",
   "metadata": {},
   "source": [
    "## Stationary Distributions"
   ]
  },
  {
   "cell_type": "markdown",
   "id": "9c3e3260",
   "metadata": {},
   "source": [
    "We know that we can shift a marginal distribution forward one unit of time via postmultiplication by $ P $.\n",
    "\n",
    "Some distributions are invariant under this updating process — for example,"
   ]
  },
  {
   "cell_type": "code",
   "execution_count": 30,
   "id": "781cdf2d",
   "metadata": {
    "execution": {
     "iopub.execute_input": "2025-10-08T03:50:28.173414Z",
     "iopub.status.busy": "2025-10-08T03:50:28.173307Z",
     "iopub.status.idle": "2025-10-08T03:50:28.175949Z",
     "shell.execute_reply": "2025-10-08T03:50:28.175680Z"
    }
   },
   "outputs": [
    {
     "data": {
      "text/plain": [
       "array([0.25, 0.75])"
      ]
     },
     "execution_count": 30,
     "metadata": {},
     "output_type": "execute_result"
    }
   ],
   "source": [
    "P = np.array([[0.4, 0.6],\n",
    "              [0.2, 0.8]])\n",
    "ψ = (0.25, 0.75)\n",
    "ψ @ P"
   ]
  },
  {
   "cell_type": "markdown",
   "id": "56a4d39f",
   "metadata": {},
   "source": [
    "Such distributions are called **stationary** or **invariant**."
   ]
  },
  {
   "cell_type": "markdown",
   "id": "10b48a5b",
   "metadata": {},
   "source": [
    "Formally, a marginal distribution $ \\psi^* $ on $ S $ is called **stationary** for $ P $ if $ \\psi^* = \\psi^* P $.\n"
   ]
  },
  {
   "cell_type": "markdown",
   "id": "f47c1ee9",
   "metadata": {},
   "source": [
    "**Theorem.** Every stochastic matrix $ P $ has at least one stationary distribution.\n",
    "\n",
    "Proof:  This follows directly from the Perron-Frobenius theorem -- alternatively, see [EDTC](https://johnstachurski.net/edtc.html), theorem 4.3.5.\n",
    "\n"
   ]
  },
  {
   "cell_type": "markdown",
   "id": "297eb271",
   "metadata": {},
   "source": [
    "**Theorem.** If $ P $ is both aperiodic and irreducible, then\n",
    "\n",
    "1. $ P $ has exactly one stationary distribution $ \\psi^* $.  \n",
    "1. For any initial marginal distribution $ \\psi_0 $, we have $ \\| \\psi_0 P^t - \\psi^* \\| \\to 0 $ as $ t \\to \\infty $.  "
   ]
  },
  {
   "cell_type": "markdown",
   "id": "ea3c840d",
   "metadata": {},
   "source": [
    "For a proof, see, for example, theorem 5.2 of [[Haggstrom02](https://python.quantecon.org/zreferences.html#id135)].\n",
    "\n",
    "(Note that part 1 of the theorem only requires  irreducibility, whereas part 2 requires both irreducibility and aperiodicity)\n",
    "\n",
    "A stochastic matrix that satisfies the conditions of the theorem is sometimes called **uniformly ergodic**.\n",
    "\n",
    "A sufficient condition for aperiodicity and irreducibility is that every element of $ P $ is strictly positive.\n",
    "\n",
    "### Example\n",
    "\n",
    "Recall our model of the employment/unemployment dynamics.\n",
    "\n",
    "Assuming $ f \\in (0,1) $ and $ s \\in (0,1) $, the uniform ergodicity condition is satisfied.\n",
    "\n",
    "Let $ \\psi^* = (p, 1-p) $ be the stationary distribution, so that $ p $ corresponds to unemployment (state 0).\n",
    "\n",
    "Using $ \\psi^* = \\psi^* P $ and a bit of algebra yields\n",
    "\n",
    "$$\n",
    "    p = \\frac{s}{f + s}\n",
    "$$\n",
    "\n",
    "This is, in some sense, a steady state probability of unemployment — more about the  interpretation of this below.\n",
    "\n",
    "Not surprisingly it tends to zero as $ s \\to 0 $, and to one as $ f \\to 0 $.\n",
    "\n",
    "### Calculating Stationary Distributions"
   ]
  },
  {
   "cell_type": "markdown",
   "id": "f200ec55",
   "metadata": {},
   "source": [
    "As discussed above, a particular Markov matrix $ P $ can have many stationary distributions.\n",
    "\n",
    "A fast algorithm for computing all stationary distributions is implemented in [QuantEcon.py](http://quantecon.org/quantecon-py)."
   ]
  },
  {
   "cell_type": "code",
   "execution_count": 31,
   "id": "606e14bf",
   "metadata": {
    "execution": {
     "iopub.execute_input": "2025-10-08T03:50:28.177456Z",
     "iopub.status.busy": "2025-10-08T03:50:28.177345Z",
     "iopub.status.idle": "2025-10-08T03:50:28.366147Z",
     "shell.execute_reply": "2025-10-08T03:50:28.365808Z"
    }
   },
   "outputs": [
    {
     "data": {
      "text/plain": [
       "array([[0.25, 0.75]])"
      ]
     },
     "execution_count": 31,
     "metadata": {},
     "output_type": "execute_result"
    }
   ],
   "source": [
    "P = [[0.4, 0.6],\n",
    "     [0.2, 0.8]]\n",
    "\n",
    "mc = qe.MarkovChain(P)\n",
    "mc.stationary_distributions  # Show all stationary distributions"
   ]
  },
  {
   "cell_type": "markdown",
   "id": "7fd2e286",
   "metadata": {},
   "source": [
    "**Exercise**"
   ]
  },
  {
   "cell_type": "markdown",
   "id": "ddc68912",
   "metadata": {},
   "source": [
    "Another option is to regard the system as an eigenvector problem: a vector\n",
    "$ \\psi $ such that $ \\psi = \\psi P $ is a left eigenvector associated\n",
    "with the unit eigenvalue $ \\lambda = 1$.\n",
    "\n",
    "In fact, for a stochastic matrix, the largest left eigenvalue is 1.0 and the corresponding eigenvector is the stationary distribution.\n",
    "\n",
    "(It becomes a distribution after being normalized, so that it sums to one.)\n",
    "\n",
    "Try writing a function that uses this information to compute the stationary distribution of $P$.\n",
    "\n",
    "You can use `scipy.linalg.eig` from SciPy.\n",
    "\n",
    "In the exercise you can assume that $P$ has only one stationary distribution, and you can test your function using"
   ]
  },
  {
   "cell_type": "code",
   "execution_count": 32,
   "id": "f62bd671",
   "metadata": {
    "execution": {
     "iopub.execute_input": "2025-10-08T03:50:28.367516Z",
     "iopub.status.busy": "2025-10-08T03:50:28.367393Z",
     "iopub.status.idle": "2025-10-08T03:50:28.369258Z",
     "shell.execute_reply": "2025-10-08T03:50:28.368951Z"
    }
   },
   "outputs": [],
   "source": [
    "P = np.array([[0.4, 0.6],\n",
    "              [0.2, 0.8]])"
   ]
  },
  {
   "cell_type": "code",
   "execution_count": 33,
   "id": "49ad3f9a",
   "metadata": {
    "execution": {
     "iopub.execute_input": "2025-10-08T03:50:28.370986Z",
     "iopub.status.busy": "2025-10-08T03:50:28.370864Z",
     "iopub.status.idle": "2025-10-08T03:50:28.373070Z",
     "shell.execute_reply": "2025-10-08T03:50:28.372736Z"
    }
   },
   "outputs": [
    {
     "name": "stdout",
     "output_type": "stream",
     "text": [
      "Solution below!\n",
      "Solution below!\n",
      "Solution below!\n",
      "Solution below!\n",
      "Solution below!\n",
      "Solution below!\n",
      "Solution below!\n",
      "Solution below!\n",
      "Solution below!\n",
      "Solution below!\n",
      "Solution below!\n",
      "Solution below!\n"
     ]
    }
   ],
   "source": [
    "for i in range(12):\n",
    "    print(\"Solution below!\")"
   ]
  },
  {
   "cell_type": "markdown",
   "id": "98b3cf26",
   "metadata": {},
   "source": [
    "**Solution**"
   ]
  },
  {
   "cell_type": "code",
   "execution_count": 34,
   "id": "20f4cc52",
   "metadata": {
    "execution": {
     "iopub.execute_input": "2025-10-08T03:50:28.374867Z",
     "iopub.status.busy": "2025-10-08T03:50:28.374719Z",
     "iopub.status.idle": "2025-10-08T03:50:28.377532Z",
     "shell.execute_reply": "2025-10-08T03:50:28.377243Z"
    }
   },
   "outputs": [],
   "source": [
    "def compute_stationary_via_eigenvecs(P):\n",
    "    \"\"\"\n",
    "    Computes the stationary distribution of P using an eigenvector routine.\n",
    "\n",
    "    \"\"\"\n",
    "    P = np.array(P)\n",
    "    eigenvalues, eigenvectors = sp.linalg.eig(P.T)     # transpose for left eigenvectors\n",
    "    i = np.argmax(np.abs(eigenvalues))                 # index of largest eigenvalue\n",
    "    dominant_eigvec = eigenvectors[:, i]               # extract dominant eigenvector\n",
    "    ψ_star = dominant_eigvec / np.sum(dominant_eigvec) # normalize\n",
    "    return np.real(ψ_star)  # return real part"
   ]
  },
  {
   "cell_type": "code",
   "execution_count": 35,
   "id": "bf98254a",
   "metadata": {
    "execution": {
     "iopub.execute_input": "2025-10-08T03:50:28.379115Z",
     "iopub.status.busy": "2025-10-08T03:50:28.378999Z",
     "iopub.status.idle": "2025-10-08T03:50:28.382005Z",
     "shell.execute_reply": "2025-10-08T03:50:28.381625Z"
    }
   },
   "outputs": [
    {
     "data": {
      "text/plain": [
       "array([0.25, 0.75])"
      ]
     },
     "execution_count": 35,
     "metadata": {},
     "output_type": "execute_result"
    }
   ],
   "source": [
    "ψ_star = compute_stationary_via_eigenvecs(P)\n",
    "ψ_star"
   ]
  },
  {
   "cell_type": "markdown",
   "id": "89d6658b",
   "metadata": {},
   "source": [
    "### Convergence to Stationarity"
   ]
  },
  {
   "cell_type": "markdown",
   "id": "e68ea657",
   "metadata": {},
   "source": [
    "Part 2 of the Markov chain convergence theorem given above tells us that, under\n",
    "the stated conditions, the marginal distribution of $ X_t $ converges to the\n",
    "stationary distribution regardless of the initial condition.\n",
    "\n",
    "This adds considerable authority to our interpretation of $ \\psi^* $ as a stochastic steady state.\n",
    "\n",
    "The convergence in the theorem is illustrated in the next figure"
   ]
  },
  {
   "cell_type": "code",
   "execution_count": 36,
   "id": "b1c78031",
   "metadata": {
    "execution": {
     "iopub.execute_input": "2025-10-08T03:50:28.383257Z",
     "iopub.status.busy": "2025-10-08T03:50:28.383135Z",
     "iopub.status.idle": "2025-10-08T03:50:28.443165Z",
     "shell.execute_reply": "2025-10-08T03:50:28.442727Z"
    }
   },
   "outputs": [
    {
     "data": {
      "image/png": "[encoded data removed]",
      "text/plain": [
       "<Figure size 800x600 with 1 Axes>"
      ]
     },
     "metadata": {},
     "output_type": "display_data"
    }
   ],
   "source": [
    "P = ((0.971, 0.029, 0.000),\n",
    "     (0.145, 0.778, 0.077),\n",
    "     (0.000, 0.508, 0.492))\n",
    "P = np.array(P)\n",
    "\n",
    "ψ = (0.0, 0.2, 0.8)        # Initial condition\n",
    "\n",
    "fig = plt.figure(figsize=(8, 6))\n",
    "ax = fig.add_subplot(111, projection='3d')\n",
    "\n",
    "ax.set(xlim=(0, 1), ylim=(0, 1), zlim=(0, 1),\n",
    "       xticks=(0.25, 0.5, 0.75),\n",
    "       yticks=(0.25, 0.5, 0.75),\n",
    "       zticks=(0.25, 0.5, 0.75))\n",
    "\n",
    "x_vals, y_vals, z_vals = [], [], []\n",
    "for t in range(20):\n",
    "    x_vals.append(ψ[0])\n",
    "    y_vals.append(ψ[1])\n",
    "    z_vals.append(ψ[2])\n",
    "    ψ = ψ @ P\n",
    "\n",
    "ax.scatter(x_vals, y_vals, z_vals, c='r', s=60)\n",
    "ax.view_init(30, 210)\n",
    "\n",
    "mc = qe.MarkovChain(P)\n",
    "ψ_star = mc.stationary_distributions[0]\n",
    "ax.scatter(ψ_star[0], ψ_star[1], ψ_star[2], c='k', s=60)\n",
    "\n",
    "plt.show()"
   ]
  },
  {
   "cell_type": "markdown",
   "id": "c93e5d1c",
   "metadata": {},
   "source": [
    "Here\n",
    "\n",
    "- $ P $ is the stochastic matrix for recession and growth [considered above](#mc-eg2).  \n",
    "- The highest red dot is an arbitrarily chosen initial marginal probability distribution  $ \\psi $, represented as a vector in $ \\mathbb R^3 $.  \n",
    "- The other red dots are the marginal distributions $ \\psi P^t $ for $ t = 1, 2, \\ldots $.  \n",
    "- The black dot is $ \\psi^* $.  "
   ]
  },
  {
   "cell_type": "markdown",
   "id": "201a56ac",
   "metadata": {},
   "source": [
    "You might like to try experimenting with different initial conditions."
   ]
  },
  {
   "cell_type": "code",
   "execution_count": null,
   "id": "104d06f9",
   "metadata": {},
   "outputs": [],
   "source": []
  }
 ],
 "metadata": {
  "jupytext": {
   "default_lexer": "ipython3"
  },
  "kernelspec": {
   "display_name": "Python 3 (ipykernel)",
   "language": "python",
   "name": "python3"
  },
  "language_info": {
   "codemirror_mode": {
    "name": "ipython",
    "version": 3
   },
   "file_extension": ".py",
   "mimetype": "text/x-python",
   "name": "python",
   "nbconvert_exporter": "python",
   "pygments_lexer": "ipython3",
   "version": "3.9.13"
  }
 },
 "nbformat": 4,
 "nbformat_minor": 5
}
