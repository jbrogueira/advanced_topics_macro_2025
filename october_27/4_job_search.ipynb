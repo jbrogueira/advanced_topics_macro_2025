{
 "cells": [
  {
   "cell_type": "markdown",
   "id": "469a20b1",
   "metadata": {},
   "source": [
    "# Job Search\n",
    "\n",
    "**Prepared for the Bank of Portugal Computational Economics Course (Oct 2025)**\n",
    "\n",
    "**Author:** [John Stachurski](https://johnstachurski.net)\n"
   ]
  },
  {
   "cell_type": "markdown",
   "id": "bd7c2228",
   "metadata": {},
   "source": [
    "In this lecture we study a basic infinite-horizon job search problem with Markov wage\n",
    "draws \n",
    "\n",
    "* For background on infinite horizon job search see, e.g., [DP1](https://dp.quantecon.org/)."
   ]
  },
  {
   "cell_type": "markdown",
   "id": "14e7cfbf",
   "metadata": {},
   "source": [
    "In addition to what's in Anaconda, this lecture will need the QE library:"
   ]
  },
  {
   "cell_type": "code",
   "execution_count": 3,
   "id": "99a92f17",
   "metadata": {},
   "outputs": [
    {
     "name": "stdout",
     "output_type": "stream",
     "text": [
      "Requirement already satisfied: quantecon in /Users/joaob.sousa/opt/anaconda3/lib/python3.9/site-packages (0.10.1)\n",
      "Requirement already satisfied: numba>=0.49.0 in /Users/joaob.sousa/opt/anaconda3/lib/python3.9/site-packages (from quantecon) (0.60.0)\n",
      "Requirement already satisfied: numpy>=1.17.0 in /Users/joaob.sousa/opt/anaconda3/lib/python3.9/site-packages (from quantecon) (1.23.5)\n",
      "Requirement already satisfied: requests in /Users/joaob.sousa/opt/anaconda3/lib/python3.9/site-packages (from quantecon) (2.32.4)\n",
      "Requirement already satisfied: scipy>=1.5.0 in /Users/joaob.sousa/opt/anaconda3/lib/python3.9/site-packages (from quantecon) (1.10.0)\n",
      "Requirement already satisfied: sympy in /Users/joaob.sousa/opt/anaconda3/lib/python3.9/site-packages (from quantecon) (1.13.3)\n",
      "Requirement already satisfied: llvmlite<0.44,>=0.43.0dev0 in /Users/joaob.sousa/opt/anaconda3/lib/python3.9/site-packages (from numba>=0.49.0->quantecon) (0.43.0)\n",
      "Requirement already satisfied: charset_normalizer<4,>=2 in /Users/joaob.sousa/opt/anaconda3/lib/python3.9/site-packages (from requests->quantecon) (3.3.2)\n",
      "Requirement already satisfied: idna<4,>=2.5 in /Users/joaob.sousa/opt/anaconda3/lib/python3.9/site-packages (from requests->quantecon) (3.7)\n",
      "Requirement already satisfied: urllib3<3,>=1.21.1 in /Users/joaob.sousa/opt/anaconda3/lib/python3.9/site-packages (from requests->quantecon) (1.26.19)\n",
      "Requirement already satisfied: certifi>=2017.4.17 in /Users/joaob.sousa/opt/anaconda3/lib/python3.9/site-packages (from requests->quantecon) (2025.8.3)\n",
      "Requirement already satisfied: mpmath<1.4,>=1.1.0 in /Users/joaob.sousa/opt/anaconda3/lib/python3.9/site-packages (from sympy->quantecon) (1.3.0)\n"
     ]
    },
    {
     "name": "stdout",
     "output_type": "stream",
     "text": [
      "Requirement already satisfied: llvmlite<0.45,>=0.44.0dev0 in /home/john/anaconda3/lib/python3.13/site-packages (from numba>=0.49.0->quantecon) (0.44.0)\r\n",
      "Requirement already satisfied: charset-normalizer<4,>=2 in /home/john/anaconda3/lib/python3.13/site-packages (from requests->quantecon) (3.3.2)\r\n",
      "Requirement already satisfied: idna<4,>=2.5 in /home/john/anaconda3/lib/python3.13/site-packages (from requests->quantecon) (3.7)\r\n",
      "Requirement already satisfied: urllib3<3,>=1.21.1 in /home/john/anaconda3/lib/python3.13/site-packages (from requests->quantecon) (2.3.0)\r\n",
      "Requirement already satisfied: certifi>=2017.4.17 in /home/john/anaconda3/lib/python3.13/site-packages (from requests->quantecon) (2025.4.26)\r\n",
      "Requirement already satisfied: mpmath<1.4,>=1.1.0 in /home/john/anaconda3/lib/python3.13/site-packages (from sympy->quantecon) (1.3.0)\r\n"
     ]
    }
   ],
   "source": [
    "!pip install quantecon  "
   ]
  },
  {
   "cell_type": "markdown",
   "id": "ff1310c2",
   "metadata": {},
   "source": [
    "We use the following imports."
   ]
  },
  {
   "cell_type": "code",
   "execution_count": 4,
   "id": "8b85672d",
   "metadata": {},
   "outputs": [],
   "source": [
    "import matplotlib.pyplot as plt\n",
    "import quantecon as qe\n",
    "import numpy as np\n",
    "import time\n",
    "from typing import NamedTuple, Callable"
   ]
  },
  {
   "cell_type": "markdown",
   "id": "54b9e96f",
   "metadata": {},
   "source": [
    "## Model\n",
    "\n",
    "We study an elementary model where \n",
    "\n",
    "* jobs are permanent \n",
    "* unemployed workers receive current compensation $c$\n",
    "* the horizon is infinite\n",
    "* an unemployment agent discounts the future via discount factor $\\beta \\in (0,1)$\n",
    "\n",
    "### Set up\n",
    "\n",
    "At the start of each period, an unemployed worker receives wage offer $W_t$.\n",
    "\n",
    "We assume that \n",
    "\n",
    "$$\n",
    "    \\ln W_{t+1} = \\rho \\ln W_t + \\nu Z_{t+1}\n",
    "$$\n",
    "\n",
    "where $(Z_t)_{t \\geq 0}$ is IID and standard normal.\n",
    "\n",
    "We then discretize this wage process using Tauchen's method to produce a stochastic matrix $P$.\n",
    "\n",
    "Successive wage offers are drawn from $P$.\n",
    "\n",
    "### Rewards\n",
    "\n",
    "Since jobs are permanent, the return to accepting wage offer $w$ today is\n",
    "\n",
    "$$\n",
    "    w + \\beta w + \\beta^2 w + \n",
    "    \\cdots = \\frac{w}{1-\\beta}\n",
    "$$\n",
    "\n",
    "The Bellman equation is\n",
    "\n",
    "$$\n",
    "    v(w) = \\max\n",
    "    \\left\\{\n",
    "            \\frac{w}{1-\\beta}, c + \\beta \\sum_{w'} v(w') P(w, w')\n",
    "    \\right\\}\n",
    "$$\n",
    "\n",
    "We solve this model using value function iteration."
   ]
  },
  {
   "cell_type": "markdown",
   "id": "7cbbda90",
   "metadata": {},
   "source": [
    "## Code\n",
    "\n",
    "Let's set up a `Model` class to store information needed to solve the model."
   ]
  },
  {
   "cell_type": "code",
   "execution_count": 5,
   "id": "aed1109f",
   "metadata": {},
   "outputs": [],
   "source": [
    "class Model(NamedTuple):\n",
    "    n: int\n",
    "    w_vals: np.ndarray\n",
    "    P: np.ndarray\n",
    "    β: float\n",
    "    c: float"
   ]
  },
  {
   "cell_type": "markdown",
   "id": "eba5f558",
   "metadata": {},
   "source": [
    "The function below holds default values and creates a `Model` instance."
   ]
  },
  {
   "cell_type": "code",
   "execution_count": 6,
   "id": "cdf7f46f",
   "metadata": {},
   "outputs": [],
   "source": [
    "def create_js_model(\n",
    "        n: int = 500,       # wage grid size\n",
    "        ρ: float = 0.9,     # wage persistence\n",
    "        ν: float = 0.2,     # wage volatility\n",
    "        β: float = 0.99,    # discount factor\n",
    "        c: float = 1.0,     # unemployment compensation\n",
    "    ) -> Model:\n",
    "    \"Creates an instance of the job search model with Markov wages.\"\n",
    "    mc = qe.tauchen(n, ρ, ν)\n",
    "    w_vals, P = np.exp(mc.state_values), mc.P\n",
    "    return Model(n, w_vals, P, β, c)"
   ]
  },
  {
   "cell_type": "markdown",
   "id": "82578e35",
   "metadata": {},
   "source": [
    "Let's test it:"
   ]
  },
  {
   "cell_type": "code",
   "execution_count": 7,
   "id": "29299ea9",
   "metadata": {},
   "outputs": [],
   "source": [
    "model = create_js_model(β=0.98)"
   ]
  },
  {
   "cell_type": "code",
   "execution_count": 8,
   "id": "b9917013",
   "metadata": {},
   "outputs": [
    {
     "data": {
      "text/plain": [
       "1.0"
      ]
     },
     "execution_count": 8,
     "metadata": {},
     "output_type": "execute_result"
    }
   ],
   "source": [
    "model.c"
   ]
  },
  {
   "cell_type": "code",
   "execution_count": 9,
   "id": "25d6269e",
   "metadata": {},
   "outputs": [
    {
     "data": {
      "text/plain": [
       "0.98"
      ]
     },
     "execution_count": 9,
     "metadata": {},
     "output_type": "execute_result"
    }
   ],
   "source": [
    "model.β"
   ]
  },
  {
   "cell_type": "code",
   "execution_count": 10,
   "id": "d7398194",
   "metadata": {},
   "outputs": [
    {
     "data": {
      "text/plain": [
       "1.3486148210002789"
      ]
     },
     "execution_count": 10,
     "metadata": {},
     "output_type": "execute_result"
    }
   ],
   "source": [
    "model.w_vals.mean()"
   ]
  },
  {
   "cell_type": "markdown",
   "id": "f75d974d",
   "metadata": {},
   "source": [
    "Here's the Bellman operator\n",
    "\n",
    "$$\n",
    "    (Tv)(w) = \\max\n",
    "    \\left\\{\n",
    "            \\frac{w}{1-\\beta}, c + \\beta \\sum_{w'} v(w') P(w, w')\n",
    "    \\right\\}\n",
    "$$"
   ]
  },
  {
   "cell_type": "code",
   "execution_count": 11,
   "id": "9c54eea1",
   "metadata": {},
   "outputs": [],
   "source": [
    "def T(v: np.ndarray, model: Model) -> np.ndarray:\n",
    "    \"\"\"\n",
    "    The Bellman operator Tv = max{e, c + β P v} with\n",
    "\n",
    "        e(w) = w / (1-β) and (Pv)(w) = E_w[ v(W')]\n",
    "\n",
    "    \"\"\"\n",
    "    n, w_vals, P, β, c = model\n",
    "    h = c + β * P @ v\n",
    "    e = w_vals / (1 - β)\n",
    "\n",
    "    return np.maximum(e, h)"
   ]
  },
  {
   "cell_type": "markdown",
   "id": "cc6e4211",
   "metadata": {},
   "source": [
    "The next function computes the optimal policy under the assumption that $v$ is\n",
    "the value function.\n",
    "\n",
    "The policy takes the form\n",
    "\n",
    "$$\n",
    "    \\sigma(w) = \\mathbf 1 \n",
    "        \\left\\{\n",
    "            \\frac{w}{1-\\beta} \\geq c + \\beta \\sum_{w'} v(w') P(w, w')\n",
    "        \\right\\}\n",
    "$$\n",
    "\n",
    "Here $\\mathbf 1$ is an indicator function.\n",
    "\n",
    "* $\\sigma(w) = 1$ means stop (accept)\n",
    "* $\\sigma(w) = 0$ means continue."
   ]
  },
  {
   "cell_type": "code",
   "execution_count": 12,
   "id": "42eae282",
   "metadata": {},
   "outputs": [],
   "source": [
    "def get_greedy(v: np.ndarray, model: Model) -> np.ndarray:\n",
    "    \"Get a v-greedy policy.\"\n",
    "    \"Note: Assing v is the value function, this function gives the optimal policy according to that v (v-greedy)\"\n",
    "    n, w_vals, P, β, c = model\n",
    "    e = w_vals / (1 - β)\n",
    "    h = c + β * P @ v\n",
    "    σ = np.where(e >= h, 1, 0)\n",
    "    return σ"
   ]
  },
  {
   "cell_type": "markdown",
   "id": "b799803e",
   "metadata": {},
   "source": [
    "Here's a routine for value function iteration."
   ]
  },
  {
   "cell_type": "code",
   "execution_count": 14,
   "id": "3dcb366e",
   "metadata": {},
   "outputs": [],
   "source": [
    "def vfi(\n",
    "        model: Model,\n",
    "        max_iter: int = 10_000,\n",
    "        tol: float = 1e-4,\n",
    "        verbose: bool = False\n",
    "    ):\n",
    "    \"\"\"\n",
    "    Solve the infinite-horizon Markov job search model by VFI.\n",
    "\n",
    "    \"\"\"\n",
    "    v = np.zeros_like(model.w_vals)  # Initial condition\n",
    "\n",
    "    for i in range(max_iter):\n",
    "        new_v = T(v, model)\n",
    "        error = np.max(np.abs(new_v - v))\n",
    "\n",
    "        if error < tol:\n",
    "            if verbose:\n",
    "                print(f\"VFI converged after {i+1} iterations (error: {error:.2e})\")\n",
    "            break\n",
    "        v = new_v\n",
    "    else:\n",
    "        print(f\"VFI hit max iterations ({max_iter}) with error {error:.2e}\")\n",
    "\n",
    "    return new_v, get_greedy(new_v, model)"
   ]
  },
  {
   "cell_type": "markdown",
   "id": "953a00b7",
   "metadata": {},
   "source": [
    "## Computing the solution\n",
    "\n",
    "Let's set up and solve the model."
   ]
  },
  {
   "cell_type": "code",
   "execution_count": 15,
   "id": "bc6c484f",
   "metadata": {},
   "outputs": [
    {
     "name": "stdout",
     "output_type": "stream",
     "text": [
      "VFI converged after 432 iterations (error: 9.94e-05)\n"
     ]
    }
   ],
   "source": [
    "model = create_js_model()\n",
    "n, w_vals, P, β, c = model\n",
    "\n",
    "v_star, σ_star = vfi(model, verbose=True)"
   ]
  },
  {
   "cell_type": "markdown",
   "id": "f41e02f0",
   "metadata": {},
   "source": [
    "Here's the optimal policy:"
   ]
  },
  {
   "cell_type": "code",
   "execution_count": 16,
   "id": "4dd39f41",
   "metadata": {},
   "outputs": [
    {
     "data": {
      "image/png": "[encoded data removed]",
      "text/plain": [
       "<Figure size 640x480 with 1 Axes>"
      ]
     },
     "metadata": {},
     "output_type": "display_data"
    }
   ],
   "source": [
    "fig, ax = plt.subplots()\n",
    "ax.plot(w_vals, σ_star)\n",
    "ax.set_xlabel(\"wage values\")\n",
    "ax.set_ylabel(\"optimal choice (stop=1)\")\n",
    "plt.show()"
   ]
  },
  {
   "cell_type": "markdown",
   "id": "7d5b3d99",
   "metadata": {},
   "source": [
    "For context, we can plot it against the stationary distribution of the wage\n",
    "offer process."
   ]
  },
  {
   "cell_type": "code",
   "execution_count": 34,
   "id": "6441c2c0",
   "metadata": {},
   "outputs": [
    {
     "data": {
      "image/png": "[encoded data removed]",
      "text/plain": [
       "<Figure size 640x480 with 1 Axes>"
      ]
     },
     "metadata": {},
     "output_type": "display_data"
    }
   ],
   "source": [
    "mc = qe.MarkovChain(P, state_values=w_vals)\n",
    "ψ = mc.stationary_distributions[0]\n",
    "fig, ax = plt.subplots()\n",
    "ax.plot(w_vals, σ_star, 'k-')\n",
    "ax.bar(w_vals, 200 * ψ, alpha=0.05)\n",
    "ax.set_xlabel(\"wage values\")\n",
    "ax.set_ylabel(\"optimal choice (stop=1)\")\n",
    "plt.show()"
   ]
  },
  {
   "cell_type": "markdown",
   "id": "60d84bf4",
   "metadata": {},
   "source": [
    "Let's compute the runtime as well, averaging over a number of iterations"
   ]
  },
  {
   "cell_type": "code",
   "execution_count": 35,
   "id": "1e9cf16f",
   "metadata": {},
   "outputs": [
    {
     "name": "stdout",
     "output_type": "stream",
     "text": [
      "\n",
      "Mean runtime for value function iteration = 0.0515\n",
      "\n"
     ]
    }
   ],
   "source": [
    "runtimes = []\n",
    "for _ in range(10):\n",
    "    start = time.time()\n",
    "    v_star, σ_star = vfi(model, verbose=False)\n",
    "    end = time.time()\n",
    "    runtimes.append(end - start)\n",
    "\n",
    "print()\n",
    "print(f\"Mean runtime for value function iteration = {np.mean(runtimes):.4f}\")\n",
    "print()"
   ]
  },
  {
   "cell_type": "markdown",
   "id": "f04c21ca",
   "metadata": {},
   "source": [
    "We compute the reservation wage as the first $w$ such that $\\sigma(w)=1$."
   ]
  },
  {
   "cell_type": "code",
   "execution_count": 36,
   "id": "aed15b65",
   "metadata": {},
   "outputs": [
    {
     "data": {
      "text/plain": [
       "array([385, 386, 387, 388, 389, 390, 391, 392, 393, 394, 395, 396, 397,\n",
       "       398, 399, 400, 401, 402, 403, 404, 405, 406, 407, 408, 409, 410,\n",
       "       411, 412, 413, 414, 415, 416, 417, 418, 419, 420, 421, 422, 423,\n",
       "       424, 425, 426, 427, 428, 429, 430, 431, 432, 433, 434, 435, 436,\n",
       "       437, 438, 439, 440, 441, 442, 443, 444, 445, 446, 447, 448, 449,\n",
       "       450, 451, 452, 453, 454, 455, 456, 457, 458, 459, 460, 461, 462,\n",
       "       463, 464, 465, 466, 467, 468, 469, 470, 471, 472, 473, 474, 475,\n",
       "       476, 477, 478, 479, 480, 481, 482, 483, 484, 485, 486, 487, 488,\n",
       "       489, 490, 491, 492, 493, 494, 495, 496, 497, 498, 499])"
      ]
     },
     "execution_count": 36,
     "metadata": {},
     "output_type": "execute_result"
    }
   ],
   "source": [
    "stop_indices = np.where(σ_star == 1)[0]\n",
    "stop_indices"
   ]
  },
  {
   "cell_type": "code",
   "execution_count": 37,
   "id": "5847ae1e",
   "metadata": {},
   "outputs": [],
   "source": [
    "res_wage_index = min(stop_indices)"
   ]
  },
  {
   "cell_type": "code",
   "execution_count": 38,
   "id": "5a424a20",
   "metadata": {},
   "outputs": [],
   "source": [
    "res_wage = w_vals[res_wage_index]"
   ]
  },
  {
   "cell_type": "markdown",
   "id": "e52825c9",
   "metadata": {},
   "source": [
    "Here's a joint plot of the value function and the reservation wage."
   ]
  },
  {
   "cell_type": "code",
   "execution_count": 39,
   "id": "edf5fc92",
   "metadata": {},
   "outputs": [
    {
     "data": {
      "image/png": "[encoded data removed]",
      "text/plain": [
       "<Figure size 640x480 with 1 Axes>"
      ]
     },
     "metadata": {},
     "output_type": "display_data"
    }
   ],
   "source": [
    "fig, ax = plt.subplots()\n",
    "ax.plot(w_vals, v_star, alpha=0.8, label=\"value function\")\n",
    "ax.vlines((res_wage,), 150, 400, 'k', ls='--', label=\"reservation wage\")\n",
    "ax.legend(frameon=False, fontsize=12, loc=\"lower right\")\n",
    "ax.set_xlabel(\"$w$\", fontsize=12)\n",
    "plt.show()"
   ]
  },
  {
   "cell_type": "markdown",
   "id": "d5022876",
   "metadata": {},
   "source": [
    "## Exercise 1\n",
    "\n",
    "In the setting above, the agent is risk-neutral vis-a-vis future utility risk.\n",
    "\n",
    "Now solve the same problem but this time assuming that the agent has risk-sensitive\n",
    "preferences, which are a type of nonlinear recursive preferences.\n",
    "\n",
    "The Bellman equation becomes\n",
    "\n",
    "$$\n",
    "    v(w) = \\max\n",
    "    \\left\\{\n",
    "            \\frac{w}{1-\\beta}, \n",
    "            c + \\frac{\\beta}{\\theta}\n",
    "            \\ln \\left[ \n",
    "                      \\sum_{w'} \\exp(\\theta v(w')) P(w, w')\n",
    "                \\right]\n",
    "    \\right\\}\n",
    "$$"
   ]
  },
  {
   "cell_type": "markdown",
   "id": "1bfbe101",
   "metadata": {},
   "source": [
    "When $\\theta < 0$ the agent is risk averse.\n",
    "\n",
    "Solve the model when $\\theta = -0.1$ and compare your result to the risk neutral\n",
    "case.\n",
    "\n",
    "Try to interpret your result.\n",
    "\n",
    "You can start with the following code:"
   ]
  },
  {
   "cell_type": "code",
   "execution_count": 42,
   "id": "cd5eea84",
   "metadata": {},
   "outputs": [],
   "source": [
    "class RiskModel(NamedTuple):\n",
    "    n: int\n",
    "    w_vals: np.ndarray\n",
    "    P: np.ndarray\n",
    "    β: float\n",
    "    c: float\n",
    "    θ: float\n",
    "\n",
    "def create_risk_sensitive_js_model(\n",
    "        n: int = 500,       # wage grid size\n",
    "        ρ: float = 0.9,     # wage persistence\n",
    "        ν: float = 0.2,     # wage volatility\n",
    "        β: float = 0.99,    # discount factor\n",
    "        c: float = 1.0,     # unemployment compensation\n",
    "        θ: float = -0.1     # risk parameter\n",
    "    ) -> RiskModel:\n",
    "    \"Creates an instance of the job search model with Markov wages.\"\n",
    "    mc = qe.tauchen(n, ρ, ν)\n",
    "    w_vals, P = np.exp(mc.state_values), mc.P\n",
    "    P = np.array(P)\n",
    "    return RiskModel(n, w_vals, P, β, c, θ)"
   ]
  },
  {
   "cell_type": "markdown",
   "id": "1f24e9a2",
   "metadata": {},
   "source": [
    "Now you need to modify `T` and `get_greedy` and then run value function iteration again."
   ]
  },
  {
   "cell_type": "code",
   "execution_count": 43,
   "id": "d167b99d",
   "metadata": {},
   "outputs": [],
   "source": [
    "\n",
    "def T(v: np.ndarray, model: RiskModel) -> np.ndarray:\n",
    "    \"\"\"\n",
    "    The Bellman operator Tv = max{e, c + β/θ log(P exp(θ v))} with\n",
    "\n",
    "        e(w) = w / (1-β)\n",
    "\n",
    "    \"\"\"\n",
    "    n, w_vals, P, β, c = model\n",
    "    h = c + (β / θ) * np.log(P @ bp.exp(θ*v))\n",
    "    e = w_vals / (1 - β)\n",
    "\n",
    "    return np.maximum(e, h)"
   ]
  },
  {
   "cell_type": "code",
   "execution_count": 44,
   "id": "3c799717",
   "metadata": {},
   "outputs": [],
   "source": [
    "def get_greedy(v: np.ndarray, model: RiskModel) -> np.ndarray:\n",
    "    \"Get a v-greedy policy.\"\n",
    "    \"Note: Assing v is the value function, this function gives the optimal policy according to that v (v-greedy)\"\n",
    "    n, w_vals, P, β, c = model\n",
    "    e = w_vals / (1 - β)\n",
    "    h = c + (β / θ) * np.log(P @ bp.exp(θ*v))\n",
    "    σ = np.where(e >= h, 1, 0)\n",
    "    return σ"
   ]
  },
  {
   "cell_type": "code",
   "execution_count": 49,
   "id": "0afac91e-0cb5-49f9-913b-983a29230a64",
   "metadata": {},
   "outputs": [
    {
     "name": "stdout",
     "output_type": "stream",
     "text": [
      "logm result may be inaccurate, approximate err = 2.992246505175453e-09\n"
     ]
    },
    {
     "data": {
      "text/plain": [
       "array([[5.50383072e-11, 2.60582875e-12, 2.70326643e-12, ...,\n",
       "        1.70729532e-15, 1.63092964e-15, 2.04468209e-14],\n",
       "       [5.47240586e-11, 2.58850753e-12, 2.68875373e-12, ...,\n",
       "        1.40480429e-15, 1.58701843e-15, 2.13931659e-14],\n",
       "       [5.44056467e-11, 2.57895268e-12, 2.67430002e-12, ...,\n",
       "        1.68352786e-15, 1.53180405e-15, 2.15537841e-14],\n",
       "       ...,\n",
       "       [2.14372248e-14, 1.41217333e-15, 1.57881520e-15, ...,\n",
       "        2.67398603e-12, 2.57849991e-12, 5.44071455e-11],\n",
       "       [2.09479244e-14, 1.36891366e-15, 1.55604696e-15, ...,\n",
       "        2.68932099e-12, 2.59296057e-12, 5.47239476e-11],\n",
       "       [2.03935718e-14, 1.60890181e-15, 1.66251561e-15, ...,\n",
       "        2.70398634e-12, 2.60764327e-12, 5.50379187e-11]])"
      ]
     },
     "execution_count": 49,
     "metadata": {},
     "output_type": "execute_result"
    }
   ],
   "source": []
  },
  {
   "cell_type": "code",
   "execution_count": 46,
   "id": "01162bbc-bdf7-46e9-bbcb-f59f229791b9",
   "metadata": {},
   "outputs": [
    {
     "data": {
      "text/plain": [
       "array([[2.50011147e-01, 8.84701949e-03, 9.00629184e-03, ...,\n",
       "        0.00000000e+00, 0.00000000e+00, 0.00000000e+00],\n",
       "       [2.42188149e-01, 8.70042208e-03, 8.86312262e-03, ...,\n",
       "        0.00000000e+00, 0.00000000e+00, 0.00000000e+00],\n",
       "       [2.34499785e-01, 8.55098207e-03, 8.71685528e-03, ...,\n",
       "        0.00000000e+00, 0.00000000e+00, 0.00000000e+00],\n",
       "       ...,\n",
       "       [5.14352273e-39, 2.23391685e-39, 3.19614109e-39, ...,\n",
       "        8.71685528e-03, 8.55098207e-03, 2.34499785e-01],\n",
       "       [3.71534566e-39, 1.61726589e-39, 2.31546259e-39, ...,\n",
       "        8.86312262e-03, 8.70042208e-03, 2.42188149e-01],\n",
       "       [2.68207938e-39, 1.17011403e-39, 1.67641652e-39, ...,\n",
       "        9.00629184e-03, 8.84701949e-03, 2.50011147e-01]])"
      ]
     },
     "execution_count": 46,
     "metadata": {},
     "output_type": "execute_result"
    }
   ],
   "source": [
    "P"
   ]
  },
  {
   "cell_type": "code",
   "execution_count": 23,
   "id": "1f51d1c7",
   "metadata": {
    "execution": {
     "iopub.execute_input": "2025-10-08T04:53:46.554857Z",
     "iopub.status.busy": "2025-10-08T04:53:46.554761Z",
     "iopub.status.idle": "2025-10-08T04:53:46.596429Z",
     "shell.execute_reply": "2025-10-08T04:53:46.596044Z"
    }
   },
   "outputs": [
    {
     "name": "stdout",
     "output_type": "stream",
     "text": [
      "VFI converged after 568 iterations (error: 9.95e-05)\n"
     ]
    }
   ],
   "source": [
    "def T_rs(v: np.ndarray, model: RiskModel) -> np.ndarray:\n",
    "    \"\"\"\n",
    "    The Bellman operator Tv = max{e, c + β R v} with\n",
    "\n",
    "        e(w) = w / (1-β) and\n",
    "\n",
    "        (Rv)(w) = (1/θ) ln{E_w[ exp(θ v(W'))]}\n",
    "\n",
    "    \"\"\"\n",
    "    n, w_vals, P, β, c, θ = model\n",
    "    h = c + (β / θ) * np.log(P @ (np.exp(θ * v)))\n",
    "    e = w_vals / (1 - β)\n",
    "\n",
    "    return np.maximum(e, h)\n",
    "\n",
    "\n",
    "def get_greedy_rs(v: np.ndarray, model: RiskModel) -> np.ndarray:\n",
    "    \" Get a v-greedy policy.\"\n",
    "    n, w_vals, P, β, c, θ = model\n",
    "    e = w_vals / (1 - β)\n",
    "    h = c + (β / θ) * np.log(P @ (np.exp(θ * v)))\n",
    "    σ = np.where(e >= h, 1, 0)\n",
    "    return σ\n",
    "\n",
    "\n",
    "def vfi_rs(\n",
    "        model: RiskModel,\n",
    "        max_iter: int = 10_000,\n",
    "        tol: float = 1e-4\n",
    "    ):\n",
    "    \"Solve the infinite-horizon Markov job search model by VFI.\"\n",
    "    v = np.zeros_like(model.w_vals)\n",
    "\n",
    "    for i in range(max_iter):\n",
    "        new_v = T_rs(v, model)\n",
    "        error = np.max(np.abs(new_v - v))\n",
    "\n",
    "        if error < tol:\n",
    "            print(f\"VFI converged after {i+1} iterations (error: {error:.2e})\")\n",
    "            break\n",
    "        v = new_v\n",
    "    else:\n",
    "        print(f\"VFI reached max iterations ({max_iter}) with error {error:.2e}\")\n",
    "\n",
    "    return new_v, get_greedy_rs(new_v, model)\n",
    "\n",
    "\n",
    "\n",
    "model_rs = create_risk_sensitive_js_model()\n",
    "n, w_vals, P, β, c, θ = model_rs\n",
    "v_star_rs, σ_star_rs = vfi_rs(model_rs)"
   ]
  },
  {
   "cell_type": "markdown",
   "id": "a0c99148",
   "metadata": {},
   "source": [
    "Let's plot the results together with the original risk neutral case and see what we get."
   ]
  },
  {
   "cell_type": "code",
   "execution_count": 24,
   "id": "d490f084",
   "metadata": {
    "execution": {
     "iopub.execute_input": "2025-10-08T04:53:46.597720Z",
     "iopub.status.busy": "2025-10-08T04:53:46.597602Z",
     "iopub.status.idle": "2025-10-08T04:53:46.599523Z",
     "shell.execute_reply": "2025-10-08T04:53:46.599233Z"
    }
   },
   "outputs": [],
   "source": [
    "stop_indices = np.where(σ_star_rs == 1)\n",
    "res_wage_index = min(stop_indices[0])\n",
    "res_wage_rs = w_vals[res_wage_index]"
   ]
  },
  {
   "cell_type": "code",
   "execution_count": 25,
   "id": "6f2aca86",
   "metadata": {
    "execution": {
     "iopub.execute_input": "2025-10-08T04:53:46.600715Z",
     "iopub.status.busy": "2025-10-08T04:53:46.600622Z",
     "iopub.status.idle": "2025-10-08T04:53:46.671829Z",
     "shell.execute_reply": "2025-10-08T04:53:46.671471Z"
    }
   },
   "outputs": [
    {
     "data": {
      "image/png": "[encoded data removed]",
      "text/plain": [
       "<Figure size 640x480 with 1 Axes>"
      ]
     },
     "metadata": {},
     "output_type": "display_data"
    }
   ],
   "source": [
    "fig, ax = plt.subplots()\n",
    "ax.plot(w_vals, v_star,  ls='-', color='blue',\n",
    "        alpha=0.8, label=\"risk neutral $v$\")\n",
    "ax.plot(w_vals, v_star_rs, ls='-', color='orange',\n",
    "        alpha=0.8, label=\"risk sensitive $v$\")\n",
    "ax.vlines((res_wage,), 100, 400,  ls='--', color='blue',\n",
    "          alpha=0.5, label=r\"risk neutral $\\bar w$\")\n",
    "ax.vlines((res_wage_rs,), 100, 400, ls='--', color='orange',\n",
    "          alpha=0.5, label=r\"risk sensitive $\\bar w$\")\n",
    "ax.legend(frameon=False, fontsize=12, loc=\"lower right\")\n",
    "ax.set_xlabel(\"$w$\", fontsize=12)\n",
    "plt.show()"
   ]
  },
  {
   "cell_type": "markdown",
   "id": "056dcd86",
   "metadata": {},
   "source": [
    "The figure shows that the reservation wage under risk sensitive preferences (RS $\\bar w$) shifts down.\n",
    "\n",
    "This makes sense -- the agent does not like risk and hence is more inclined to\n",
    "accept the current offer, even when it's lower."
   ]
  },
  {
   "cell_type": "markdown",
   "id": "05c75e15",
   "metadata": {},
   "source": [
    "## Exercise 2\n",
    "\n",
    "In the code above, we wrote two versions of VFI, one for each model.\n",
    "\n",
    "This is poor style because we are repeating logic.  \n",
    "\n",
    "Write one version of VFI that can work with both and test that it does the\n",
    "same job."
   ]
  },
  {
   "cell_type": "code",
   "execution_count": 26,
   "id": "d9021a54",
   "metadata": {
    "execution": {
     "iopub.execute_input": "2025-10-08T04:53:46.673153Z",
     "iopub.status.busy": "2025-10-08T04:53:46.673039Z",
     "iopub.status.idle": "2025-10-08T04:53:46.675166Z",
     "shell.execute_reply": "2025-10-08T04:53:46.674843Z"
    }
   },
   "outputs": [
    {
     "name": "stdout",
     "output_type": "stream",
     "text": [
      "Solution below!\n",
      "Solution below!\n",
      "Solution below!\n",
      "Solution below!\n",
      "Solution below!\n",
      "Solution below!\n",
      "Solution below!\n",
      "Solution below!\n",
      "Solution below!\n",
      "Solution below!\n",
      "Solution below!\n",
      "Solution below!\n",
      "Solution below!\n",
      "Solution below!\n",
      "Solution below!\n"
     ]
    }
   ],
   "source": [
    "for _ in range(15):\n",
    "    print(\"Solution below!\")"
   ]
  },
  {
   "cell_type": "code",
   "execution_count": 27,
   "id": "d8d67208",
   "metadata": {
    "execution": {
     "iopub.execute_input": "2025-10-08T04:53:46.676247Z",
     "iopub.status.busy": "2025-10-08T04:53:46.676129Z",
     "iopub.status.idle": "2025-10-08T04:53:46.679159Z",
     "shell.execute_reply": "2025-10-08T04:53:46.678759Z"
    }
   },
   "outputs": [],
   "source": [
    "def generic_vfi(\n",
    "        bellman_operator: Callable,\n",
    "        get_greedy_function: Callable,\n",
    "        v_zero: np.ndarray,\n",
    "        max_iter: int = 10_000,\n",
    "        tol: float = 1e-4\n",
    "    ):\n",
    "    \"\"\"\n",
    "    Solve the infinite-horizon Markov job search model by VFI.\n",
    "\n",
    "    \"\"\"\n",
    "    v = v_zero\n",
    "\n",
    "    for i in range(max_iter):\n",
    "        new_v = bellman_operator(v)\n",
    "        error = np.max(np.abs(new_v - v))\n",
    "\n",
    "        if error < tol:\n",
    "            print(f\"VFI converged after {i+1} iterations (error: {error:.2e})\")\n",
    "            break\n",
    "        v = new_v\n",
    "    else:\n",
    "        print(f\"VFI reached max iterations ({max_iter}) with error {error:.2e}\")\n",
    "\n",
    "    return new_v, get_greedy_function(new_v)"
   ]
  },
  {
   "cell_type": "markdown",
   "id": "3292bc4f",
   "metadata": {},
   "source": [
    "Let's test this with the original model (comparing the output of `vfi` and `generic_vfi`)."
   ]
  },
  {
   "cell_type": "code",
   "execution_count": 28,
   "id": "9187934c",
   "metadata": {
    "execution": {
     "iopub.execute_input": "2025-10-08T04:53:46.680412Z",
     "iopub.status.busy": "2025-10-08T04:53:46.680319Z",
     "iopub.status.idle": "2025-10-08T04:53:46.804987Z",
     "shell.execute_reply": "2025-10-08T04:53:46.804538Z"
    }
   },
   "outputs": [
    {
     "name": "stdout",
     "output_type": "stream",
     "text": [
      "VFI converged after 432 iterations (error: 9.94e-05)\n",
      "Success = True\n"
     ]
    }
   ],
   "source": [
    "model = create_js_model()\n",
    "n, w_vals, P, β, c = model\n",
    "v_star_0, σ_star_0 = vfi(model)\n",
    "bellman_operator = lambda v: T(v, model)\n",
    "get_greedy_function = lambda v: get_greedy(v, model)\n",
    "v_zero = np.zeros_like(w_vals)\n",
    "v_star_1, σ_star_1 = generic_vfi(\n",
    "    bellman_operator, get_greedy_function, v_zero\n",
    ")\n",
    "\n",
    "correct = np.allclose(v_star_0, v_star_1) and np.allclose(σ_star_0, σ_star_1)\n",
    "print(f\"Success = {correct}\")"
   ]
  },
  {
   "cell_type": "markdown",
   "id": "4866ba21",
   "metadata": {},
   "source": [
    "Let's also test this set up with the risk sensitive model (comparing the output of `vfi_rs` and `generic_vfi`)."
   ]
  },
  {
   "cell_type": "code",
   "execution_count": 29,
   "id": "5be1eb02",
   "metadata": {
    "execution": {
     "iopub.execute_input": "2025-10-08T04:53:46.806386Z",
     "iopub.status.busy": "2025-10-08T04:53:46.806272Z",
     "iopub.status.idle": "2025-10-08T04:53:46.877665Z",
     "shell.execute_reply": "2025-10-08T04:53:46.877154Z"
    },
    "lines_to_next_cell": 0
   },
   "outputs": [
    {
     "name": "stdout",
     "output_type": "stream",
     "text": [
      "VFI converged after 568 iterations (error: 9.95e-05)\n",
      "VFI converged after 568 iterations (error: 9.95e-05)\n",
      "Success = True\n"
     ]
    }
   ],
   "source": [
    "model = create_risk_sensitive_js_model()\n",
    "n, w_vals, P, β, c, θ = model_rs\n",
    "v_star_0, σ_star_0 = vfi_rs(model)\n",
    "bellman_operator = lambda v: T_rs(v, model)\n",
    "get_greedy_function = lambda v: get_greedy_rs(v, model)\n",
    "v_zero = np.zeros_like(w_vals)\n",
    "v_star_1, σ_star_1 = generic_vfi(\n",
    "    bellman_operator, get_greedy_function, v_zero\n",
    ")\n",
    "\n",
    "correct = np.allclose(v_star_0, v_star_1) and np.allclose(σ_star_0, σ_star_1)\n",
    "print(f\"Success = {correct}\")"
   ]
  },
  {
   "cell_type": "markdown",
   "id": "56f0ca41",
   "metadata": {},
   "source": []
  }
 ],
 "metadata": {
  "jupytext": {
   "default_lexer": "ipython3"
  },
  "kernelspec": {
   "display_name": "Python 3 (ipykernel)",
   "language": "python",
   "name": "python3"
  },
  "language_info": {
   "codemirror_mode": {
    "name": "ipython",
    "version": 3
   },
   "file_extension": ".py",
   "mimetype": "text/x-python",
   "name": "python",
   "nbconvert_exporter": "python",
   "pygments_lexer": "ipython3",
   "version": "3.9.13"
  }
 },
 "nbformat": 4,
 "nbformat_minor": 5
}
